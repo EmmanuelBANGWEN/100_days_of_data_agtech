{
 "cells": [
  {
   "cell_type": "markdown",
   "metadata": {},
   "source": [
    "# Roadmap de 100 jours pour devenir Data Analyst\n",
    "\n",
    "\n",
    "## Semaine 1-2 : Bases de Python pour l’AgTech (14 jours)\n",
    "\n",
    "✅ Jour 1-2 : Syntaxe Python, variables, types de données\n",
    "\n",
    "✅ Jour 3-4 : Conditions et boucles (if, for, while)\n",
    "\n",
    "✅ Jour 5-6 : Listes, tuples, dictionnaires, ensembles\n",
    "\n",
    "✅ Jour 7-8 : Fonctions et programmation modulaire\n",
    "\n",
    "✅ Jour 9-10 : Manipulation de fichiers (lecture/écriture CSV, JSON, TXT)\n",
    "\n",
    "✅ Jour 11-12 : Comprendre les erreurs et debugging\n",
    "\n",
    "✅ Jour 13-14 : Exercices et mini-projets\n",
    "\n",
    "👉 Projet : Un script Python qui nettoie et analyse un fichier CSV de données agricoles (ex : rendement des cultures par région)\n",
    "\n",
    "\n",
    "________________________________________\n",
    "## Semaine 3-4 : NumPy & Pandas pour la manipulation de données agricoles (14 jours)\n",
    "\n",
    "✅ Jour 15-16 : Introduction à NumPy (tableaux, opérations mathématiques)\n",
    "\n",
    "✅ Jour 17-18 : Indexation et slicing avec NumPy\n",
    "\n",
    "✅ Jour 19-20 : Introduction à Pandas (DataFrames, Series)\n",
    "\n",
    "✅ Jour 21-22 : Chargement et nettoyage des datasets avec Pandas\n",
    "\n",
    "✅ Jour 23-24 : Gestion des valeurs manquantes et duplication\n",
    "\n",
    "✅ Jour 25-26 : GroupBy, merges et transformations avancées\n",
    "\n",
    "👉 Projet : Analyse d’un dataset agricole avec Pandas et NumPy (ex : prédiction du rendement des cultures en fonction de la météo)\n",
    "\n",
    "\n",
    "________________________________________\n",
    "## Semaine 5-6 : Visualisation de données agricoles avec Matplotlib & Seaborn (14 jours)\n",
    "\n",
    "✅ Jour 27-28 : Introduction à Matplotlib (barres, lignes, histogrammes)\n",
    "\n",
    "✅ Jour 29-30 : Customisation des graphiques\n",
    "\n",
    "✅ Jour 31-32 : Introduction à Seaborn (graphiques avancés)\n",
    "\n",
    "✅ Jour 33-34 : Analyse exploratoire avec Seaborn\n",
    "\n",
    "✅ Jour 35-36 : Storytelling avec la data\n",
    "\n",
    "👉 Projet : Visualisation des tendances climatiques et impact sur les cultures\n",
    "\n",
    "\n",
    "________________________________________\n",
    "## Semaine 7-8 : SQL pour la gestion de bases de données agricoles (14 jours)\n",
    "\n",
    "✅ Jour 37-38 : Introduction aux bases de données relationnelles\n",
    "\n",
    "✅ Jour 39-40 : Requêtes SQL basiques (SELECT, WHERE, ORDER BY)\n",
    "\n",
    "✅ Jour 41-42 : Jointures et relations (JOIN)\n",
    "\n",
    "✅ Jour 43-44 : Agrégations (GROUP BY, HAVING, COUNT, SUM)\n",
    "\n",
    "✅ Jour 45-46 : Sous-requêtes et fonctions SQL avancées\n",
    "\n",
    "✅ Jour 47-48 : Création et gestion d’une base de données agricole\n",
    "\n",
    "👉 Projet : Base de données des rendements agricoles par exploitation\n",
    "\n",
    "\n",
    "________________________________________\n",
    "## Semaine 9-10 : Statistiques appliquées à l’AgTech (14 jours)\n",
    "\n",
    "✅ Jour 49-50 : Mesures de tendance centrale (moyenne, médiane, mode)\n",
    "\n",
    "✅ Jour 51-52 : Variance, écart-type et distributions\n",
    "\n",
    "✅ Jour 53-54 : Corrélations et régressions simples\n",
    "\n",
    "✅ Jour 55-56 : Tests statistiques (T-test, Chi-square)\n",
    "\n",
    "✅ Jour 57-58 : Hypothèses et prise de décision basée sur la data\n",
    "\n",
    "✅ Jour 59-60 : Étude de cas et exercices\n",
    "\n",
    "👉 Projet : Analyse statistique de l’impact des précipitations sur la production agricole\n",
    "\n",
    "\n",
    "________________________________________\n",
    "## Semaine 11-12 : BI & Tableaux de bord pour l’agriculture (14 jours)\n",
    "\n",
    "✅ Jour 61-62 : Introduction à Power BI / Tableau\n",
    "\n",
    "✅ Jour 63-64 : Connexion aux sources de données\n",
    "\n",
    "✅ Jour 65-66 : Création de tableaux de bord interactifs\n",
    "\n",
    "✅ Jour 67-68 : DAX et calculs avancés (Power BI)\n",
    "\n",
    "✅ Jour 69-70 : Publication et partage de dashboards\n",
    "\n",
    "👉 Projet : Tableau de bord interactif de suivi des rendements agricoles et conditions climatiques\n",
    "\n",
    "\n",
    "________________________________________\n",
    "## Semaine 13-14 : Machine Learning appliqué à l’AgTech (14 jours)\n",
    "\n",
    "✅ Jour 71-72 : Introduction au Machine Learning avec Scikit-Learn\n",
    "\n",
    "✅ Jour 73-74 : Régression linéaire et classification\n",
    "\n",
    "✅ Jour 75-76 : K-Means et segmentation des cultures\n",
    "\n",
    "✅ Jour 77-78 : Automatisation des analyses avec Python\n",
    "\n",
    "✅ Jour 79-80 : Déploiement d’un modèle sur le web\n",
    "\n",
    "👉 Projet : Prédiction des rendements agricoles en fonction des conditions météo et du sol\n"
   ]
  },
  {
   "cell_type": "markdown",
   "metadata": {},
   "source": []
  },
  {
   "cell_type": "markdown",
   "metadata": {},
   "source": [
    "## Semaine 1-2 : Bases de Python pour l’AgTech (14 jours)\n"
   ]
  },
  {
   "cell_type": "markdown",
   "metadata": {},
   "source": [
    "\n",
    "✅ Jour 1-2 : Syntaxe Python, variables, types de données\n",
    "Les variables sont utilisées pour stocker des informations et peuvent être de différents types (nombres, textes, listes, etc.)\n"
   ]
  },
  {
   "cell_type": "code",
   "execution_count": null,
   "metadata": {},
   "outputs": [
    {
     "name": "stdout",
     "output_type": "stream",
     "text": [
      "Culture : Maïs\n",
      "Surface en hectares : 5.2\n",
      "Rendement estimé : 8 tonnes\n"
     ]
    }
   ],
   "source": [
    "# www.emmanuelbangwen.com\n",
    "\n",
    "# Déclaration de variables\n",
    "nom_culture = \"Maïs\"\n",
    "surface_hectares = 5.2\n",
    "rendement_tonnes = 8\n",
    "\n",
    "# Affichage des valeurs\n",
    "print(\"Culture :\", nom_culture)\n",
    "print(\"Surface en hectares :\", surface_hectares)\n",
    "print(\"Rendement estimé :\", rendement_tonnes, \"tonnes\")\n"
   ]
  },
  {
   "cell_type": "markdown",
   "metadata": {},
   "source": [
    "\n",
    "✅ Jour 3-4 : Conditions et boucles (if, for, while)\n",
    "Les conditions (if) permettent d'exécuter du code en fonction de certaines situations.\n",
    "Les boucles (for, while) servent à répéter des actions sans écrire plusieurs fois le même code."
   ]
  },
  {
   "cell_type": "code",
   "execution_count": null,
   "metadata": {},
   "outputs": [
    {
     "name": "stdout",
     "output_type": "stream",
     "text": [
      "Bonne récolte !\n",
      "Culture : Maïs\n",
      "Culture : Blé\n",
      "Culture : Riz\n",
      "Culture : Cacao\n",
      "Culture : Soja\n",
      "Irrigation en cours...\n",
      "Irrigation en cours...\n",
      "Irrigation en cours...\n",
      "Irrigation en cours...\n",
      "Irrigation terminée !\n"
     ]
    }
   ],
   "source": [
    "# www.emmanuelbangwen.com\n",
    "\n",
    "\n",
    "# Condition pour vérifier si le rendement est bon\n",
    "rendement = 10\n",
    "\n",
    "if rendement > 8:\n",
    "    print(\"Bonne récolte !\")\n",
    "else:\n",
    "    print(\"Rendement faible, analyser les causes.\")\n"
   ]
  },
  {
   "cell_type": "code",
   "execution_count": null,
   "metadata": {},
   "outputs": [],
   "source": [
    "# www.emmanuelbangwen.com\n",
    "\n",
    "\n",
    "\n",
    "# Boucle for pour afficher les 5 premières cultures d’une liste\n",
    "cultures = [\"Maïs\", \"Blé\", \"Riz\", \"Cacao\", \"Soja\"]\n",
    "\n",
    "for culture in cultures:\n",
    "    print(\"Culture :\", culture)\n",
    "\n",
    "# Boucle while pour surveiller l’irrigation\n",
    "humidite_sol = 30  # Valeur en pourcentage\n",
    "while humidite_sol < 50:\n",
    "    print(\"Irrigation en cours...\")\n",
    "    humidite_sol += 5  # Simulation d'un arrosage\n",
    "print(\"Irrigation terminée !\")\n"
   ]
  },
  {
   "cell_type": "markdown",
   "metadata": {},
   "source": [
    "\n",
    "✅ Jour 5-6 : Listes, tuples, dictionnaires, ensembles\n",
    "Ces structures permettent de stocker et organiser les données :\n",
    "\n",
    "Listes : Modifiables, stockent plusieurs valeurs.\n",
    "Tuples : Comme une liste, mais non modifiable.\n",
    "Dictionnaires : Stockent des données sous forme clé-valeur.\n",
    "Ensembles : Listes sans doublons."
   ]
  },
  {
   "cell_type": "code",
   "execution_count": null,
   "metadata": {},
   "outputs": [
    {
     "name": "stdout",
     "output_type": "stream",
     "text": [
      "['Maïs', 'Blé', 'Riz', 'Cacao']\n",
      "Pluie jour 1 : 12\n",
      "Rendement du blé : 6\n",
      "{'argileux', 'limoneux', 'sableux'}\n"
     ]
    }
   ],
   "source": [
    "# www.emmanuelbangwen.com\n",
    "\n",
    "\n",
    "\n",
    "# Liste des cultures\n",
    "cultures = [\"Maïs\", \"Blé\", \"Riz\"]\n",
    "cultures.append(\"Cacao\")  # Ajouter un élément\n",
    "print(cultures)\n",
    "\n",
    "# Tuple (non modifiable)\n",
    "pluies = (12, 18, 25)  # mm de pluie sur 3 jours\n",
    "print(\"Pluie jour 1 :\", pluies[0])\n"
   ]
  },
  {
   "cell_type": "code",
   "execution_count": null,
   "metadata": {},
   "outputs": [],
   "source": [
    "# www.emmanuelbangwen.com\n",
    "\n",
    "\n",
    "# Dictionnaire des rendements (tonnes par hectare)\n",
    "rendements = {\"Maïs\": 8, \"Blé\": 6, \"Riz\": 5}\n",
    "print(\"Rendement du blé :\", rendements[\"Blé\"])\n",
    "\n",
    "# Ensemble de types de sols (pas de doublons)\n",
    "types_sols = {\"argileux\", \"sableux\", \"limoneux\", \"argileux\"}\n",
    "print(types_sols)  # \"argileux\" n’apparaît qu’une seule fois\n"
   ]
  },
  {
   "cell_type": "markdown",
   "metadata": {},
   "source": [
    "\n",
    "✅ Jour 7-8 : Fonctions et programmation modulaire\n",
    "Les fonctions permettent d'organiser le code en blocs réutilisables. Elles rendent les programmes plus clairs et efficaces.\n",
    "\n"
   ]
  },
  {
   "cell_type": "code",
   "execution_count": null,
   "metadata": {},
   "outputs": [
    {
     "name": "stdout",
     "output_type": "stream",
     "text": [
      "Rendement moyen : 8.166666666666666 tonnes/ha\n"
     ]
    }
   ],
   "source": [
    "# www.emmanuelbangwen.com\n",
    "\n",
    "\n",
    "# Fonction pour calculer le rendement moyen\n",
    "def rendement_moyen(productions):\n",
    "    return sum(productions) / len(productions)\n",
    "\n",
    "# Liste des rendements de 3 parcelles\n",
    "rendements_parcelles = [8, 7.5, 9]\n",
    "print(\"Rendement moyen :\", rendement_moyen(rendements_parcelles), \"tonnes/ha\")\n"
   ]
  },
  {
   "cell_type": "code",
   "execution_count": null,
   "metadata": {},
   "outputs": [
    {
     "name": "stdout",
     "output_type": "stream",
     "text": [
      "\n",
      "\n",
      "        vous avez cultivés une quantité de 2 kg  par hectare\n",
      "        la culture : maïs dans le zone de : dschang sur une superficie de 20 ha \n",
      "        et vous avez obtenue une rendement de : 40 kg\n",
      "                    \n",
      "                    \n"
     ]
    }
   ],
   "source": [
    "# www.emmanuelbangwen.com\n",
    "\n",
    "# Classe pour calculer le rendement \n",
    "\n",
    "class Calcule_Rendement:\n",
    "    def __init__(self, culture, zone):\n",
    "        self.culture = culture\n",
    "        self.zone = zone\n",
    "    def calcul(self, culture, zone,quantite_per_ha, superficie):\n",
    "        rendement = quantite_per_ha * superficie\n",
    "\n",
    "        return f\"\"\"\n",
    "\n",
    "        vous avez cultivés une quantité de {quantite_per_ha} kg  par hectare\n",
    "        la culture : {culture} dans le zone de : {zone} sur une superficie de {superficie} ha \n",
    "        et vous avez obtenue une rendement de : {rendement} kg\n",
    "                    \n",
    "                    \"\"\"\n",
    "\n",
    "plante = Calcule_Rendement(\"maïs\", \"dschang\")\n",
    "print(plante.calcul(\"maïs\", \"dschang\" ,2, 20))"
   ]
  },
  {
   "cell_type": "markdown",
   "metadata": {},
   "source": [
    "\n",
    "✅ Jour 9-10 : Manipulation de fichiers (lecture/écriture CSV, JSON, TXT)\n",
    "Lire et écrire des fichiers est essentiel pour gérer des données agricoles.\n",
    "\n"
   ]
  },
  {
   "cell_type": "code",
   "execution_count": 26,
   "metadata": {},
   "outputs": [
    {
     "name": "stdout",
     "output_type": "stream",
     "text": [
      "Cultures disponibles :\n",
      "Maïs\n",
      "Blé\n",
      "Riz\n",
      "\n",
      "['Culture', 'Rendement (tonnes/ha)']\n",
      "['Maïs', '8']\n",
      "['Blé', '6']\n"
     ]
    }
   ],
   "source": [
    "# Écrire un fichier texte contenant des cultures\n",
    "with open(\"cultures.txt\", \"w\") as f:\n",
    "    f.write(\"Maïs\\nBlé\\nRiz\\n\")\n",
    "\n",
    "# Lire un fichier texte\n",
    "with open(\"cultures.txt\", \"r\") as f:\n",
    "    print(\"Cultures disponibles :\")\n",
    "    print(f.read())\n",
    "\n",
    "# Écriture CSV (données agricoles)\n",
    "import csv\n",
    "\n",
    "with open(\"rendements.csv\", \"w\", newline=\"\") as f:\n",
    "    writer = csv.writer(f)\n",
    "    writer.writerow([\"Culture\", \"Rendement (tonnes/ha)\"])\n",
    "    writer.writerow([\"Maïs\", 8])\n",
    "    writer.writerow([\"Blé\", 6])\n",
    "\n",
    "# Lecture CSV\n",
    "with open(\"rendements.csv\", \"r\") as f:\n",
    "    reader = csv.reader(f)\n",
    "    for row in reader:\n",
    "        print(row)\n"
   ]
  },
  {
   "cell_type": "markdown",
   "metadata": {},
   "source": [
    "\n",
    "✅ Jour 11-12 : Comprendre les erreurs et debugging\n",
    "Python affiche des erreurs lorsqu'un problème survient. Les connaître permet de mieux les corriger."
   ]
  },
  {
   "cell_type": "code",
   "execution_count": 27,
   "metadata": {},
   "outputs": [
    {
     "name": "stdout",
     "output_type": "stream",
     "text": [
      "Le double est : 4\n",
      "Longueur : 5 Largeur : 10\n",
      "Surface : 50\n"
     ]
    }
   ],
   "source": [
    "# Exemple d'erreur et de correction\n",
    "try:\n",
    "    nombre = int(input(\"Entrez un nombre : \"))\n",
    "    print(\"Le double est :\", nombre * 2)\n",
    "except ValueError:\n",
    "    print(\"Erreur : Veuillez entrer un nombre valide.\")\n",
    "\n",
    "# Debugging : Utilisation de print() pour voir ce qui se passe\n",
    "def surface_rectangle(longueur, largeur):\n",
    "    print(\"Longueur :\", longueur, \"Largeur :\", largeur)\n",
    "    return longueur * largeur\n",
    "\n",
    "print(\"Surface :\", surface_rectangle(5, 10))\n"
   ]
  },
  {
   "cell_type": "markdown",
   "metadata": {},
   "source": [
    "\n",
    "\n",
    "✅ Jour 13-14 : Exercices et mini-projets\n",
    "\n",
    "Calculateur de rendement :\n",
    "\n",
    "Demander à l’utilisateur la surface d’un\n",
    "champ et le rendement en tonnes/ha.\n",
    "\n",
    "Calculer et afficher la production totale.\n"
   ]
  },
  {
   "cell_type": "code",
   "execution_count": 28,
   "metadata": {},
   "outputs": [
    {
     "name": "stdout",
     "output_type": "stream",
     "text": [
      "Production totale estimée : 4.0 tonnes\n"
     ]
    }
   ],
   "source": [
    "# Calculateur de rendement\n",
    "surface = float(input(\"Surface du champ (ha) : \"))\n",
    "rendement = float(input(\"Rendement (tonnes/ha) : \"))\n",
    "\n",
    "production_totale = surface * rendement\n",
    "print(\"Production totale estimée :\", production_totale, \"tonnes\")\n"
   ]
  },
  {
   "cell_type": "markdown",
   "metadata": {},
   "source": [
    "## Semaine 3-4 : NumPy & Pandas pour la manipulation de données agricoles (14 jours)\n"
   ]
  },
  {
   "cell_type": "markdown",
   "metadata": {},
   "source": [
    "\n",
    "✅ Jour 15-16 : Introduction à NumPy (tableaux, opérations mathématiques)\n",
    "NumPy (Numerical Python) est une bibliothèque\n",
    "puissante pour manipuler des tableaux de données numériques. \n",
    "Elle est plus rapide et efficace que les listes Python classiques \n",
    "pour les calculs mathématiques.\n",
    "\n",
    "pip install numpy\n"
   ]
  },
  {
   "cell_type": "code",
   "execution_count": 29,
   "metadata": {},
   "outputs": [
    {
     "name": "stdout",
     "output_type": "stream",
     "text": [
      "Moyenne des rendements : 7.2 tonnes/ha\n",
      "Rendement maximum : 9.0 tonnes/ha\n"
     ]
    }
   ],
   "source": [
    "import numpy as np\n",
    "\n",
    "# Création d’un tableau NumPy représentant des rendements agricoles (tonnes/ha)\n",
    "rendements = np.array([8, 6, 7.5, 9, 5.5])\n",
    "\n",
    "# Opérations mathématiques\n",
    "moyenne = np.mean(rendements)  # Moyenne des rendements\n",
    "max_rendement = np.max(rendements)  # Rendement maximum\n",
    "\n",
    "print(\"Moyenne des rendements :\", moyenne, \"tonnes/ha\")\n",
    "print(\"Rendement maximum :\", max_rendement, \"tonnes/ha\")\n"
   ]
  },
  {
   "cell_type": "markdown",
   "metadata": {},
   "source": [
    "\n",
    "✅ Jour 17-18 : Indexation et slicing avec NumPy\n",
    "NumPy permet d’accéder rapidement à des parties spécifiques des tableaux grâce à l’indexation et au slicing.\n"
   ]
  },
  {
   "cell_type": "code",
   "execution_count": null,
   "metadata": {},
   "outputs": [
    {
     "name": "stdout",
     "output_type": "stream",
     "text": [
      "Température du 3e jour : 30 °C\n",
      "Températures des 3 premiers jours : [25 28 30]\n",
      "Températures des 3 derniers jours : [27 26 24]\n"
     ]
    }
   ],
   "source": [
    "import numpy as np\n",
    "\n",
    "# Tableau des températures moyennes des 7 derniers jours (°C)\n",
    "temperatures = np.array([25, 28, 30, 29, 27, 26, 24])\n",
    "\n",
    "# Accéder à la température du 3e jour\n",
    "print(\"Température du 3e jour :\", temperatures[2], \"°C\")\n"
   ]
  },
  {
   "cell_type": "code",
   "execution_count": null,
   "metadata": {},
   "outputs": [],
   "source": [
    "import numpy as np\n",
    "\n",
    "# Tableau des températures moyennes des 7 derniers jours (°C)\n",
    "temperatures = np.array([25, 28, 30, 29, 27, 26, 24])\n",
    "\n",
    "# Slicing : températures des 3 premiers jours\n",
    "print(\"Températures des 3 premiers jours :\", temperatures[:3])\n",
    "\n",
    "# Slicing : températures des 3 derniers jours\n",
    "print(\"Températures des 3 derniers jours :\", temperatures[-3:])\n"
   ]
  },
  {
   "cell_type": "markdown",
   "metadata": {},
   "source": [
    "\n",
    "✅ Jour 19-20 : Introduction à Pandas (DataFrames, Series)\n",
    "Pandas est une bibliothèque qui permet de manipuler facilement des \n",
    "sous forme de tableaux (DataFrames).\n",
    "\n",
    "Elle est très utilisée en analyse de données pour explorer et transformer des datasets.\n",
    "\n",
    "pip install pandas\n",
    "\n"
   ]
  },
  {
   "cell_type": "code",
   "execution_count": 31,
   "metadata": {},
   "outputs": [
    {
     "name": "stdout",
     "output_type": "stream",
     "text": [
      "  Culture  Surface (ha)  Rendement (t/ha)\n",
      "0    Maïs            10               8.0\n",
      "1     Blé            15               6.0\n",
      "2     Riz             8               7.5\n",
      "Surfaces des cultures :\n",
      "0    10\n",
      "1    15\n",
      "2     8\n",
      "Name: Surface (ha), dtype: int64\n"
     ]
    }
   ],
   "source": [
    "import pandas as pd\n",
    "\n",
    "# Création d’un DataFrame contenant des données agricoles\n",
    "data = {\n",
    "    \"Culture\": [\"Maïs\", \"Blé\", \"Riz\"],\n",
    "    \"Surface (ha)\": [10, 15, 8],\n",
    "    \"Rendement (t/ha)\": [8, 6, 7.5]\n",
    "}\n",
    "\n",
    "df = pd.DataFrame(data)\n",
    "\n",
    "# Affichage du DataFrame\n",
    "print(df)\n",
    "\n",
    "# Accéder à une colonne spécifique\n",
    "print(\"Surfaces des cultures :\")\n",
    "print(df[\"Surface (ha)\"])\n"
   ]
  },
  {
   "cell_type": "markdown",
   "metadata": {},
   "source": [
    "\n",
    "✅ Jour 21-22 : Chargement et nettoyage des datasets avec Pandas\n",
    "Les données sont souvent stockées dans des fichiers CSV ou Excel. Pandas permet de les charger facilement."
   ]
  },
  {
   "cell_type": "code",
   "execution_count": null,
   "metadata": {},
   "outputs": [
    {
     "data": {
      "text/html": [
       "<div>\n",
       "<style scoped>\n",
       "    .dataframe tbody tr th:only-of-type {\n",
       "        vertical-align: middle;\n",
       "    }\n",
       "\n",
       "    .dataframe tbody tr th {\n",
       "        vertical-align: top;\n",
       "    }\n",
       "\n",
       "    .dataframe thead th {\n",
       "        text-align: right;\n",
       "    }\n",
       "</style>\n",
       "<table border=\"1\" class=\"dataframe\">\n",
       "  <thead>\n",
       "    <tr style=\"text-align: right;\">\n",
       "      <th></th>\n",
       "      <th>ID</th>\n",
       "      <th>Région</th>\n",
       "      <th>Type de Sol</th>\n",
       "      <th>Type de Culture</th>\n",
       "      <th>Surface Cultivée (ha)</th>\n",
       "      <th>Température Moyenne (°C)</th>\n",
       "      <th>Humidité (%)</th>\n",
       "      <th>Précipitations (mm)</th>\n",
       "      <th>Mode d'Irrigation</th>\n",
       "      <th>Présence de Maladies</th>\n",
       "      <th>Type de Pesticide</th>\n",
       "      <th>Rendement (tonnes/ha)</th>\n",
       "      <th>Coût de Production ($/ha)</th>\n",
       "      <th>Prix de Vente ($/tonne)</th>\n",
       "      <th>Profit Total ($)</th>\n",
       "    </tr>\n",
       "  </thead>\n",
       "  <tbody>\n",
       "    <tr>\n",
       "      <th>0</th>\n",
       "      <td>1</td>\n",
       "      <td>Ouest</td>\n",
       "      <td>Sablonneux</td>\n",
       "      <td>Blé</td>\n",
       "      <td>5.74</td>\n",
       "      <td>29.4</td>\n",
       "      <td>35.9</td>\n",
       "      <td>30.3</td>\n",
       "      <td>Goutte-à-goutte</td>\n",
       "      <td>Mildiou</td>\n",
       "      <td>Fongicide</td>\n",
       "      <td>3.66</td>\n",
       "      <td>3473.59</td>\n",
       "      <td>540.30</td>\n",
       "      <td>-8587.568080</td>\n",
       "    </tr>\n",
       "    <tr>\n",
       "      <th>1</th>\n",
       "      <td>2</td>\n",
       "      <td>Centre</td>\n",
       "      <td>Humifère</td>\n",
       "      <td>Maïs</td>\n",
       "      <td>9.31</td>\n",
       "      <td>15.2</td>\n",
       "      <td>81.7</td>\n",
       "      <td>260.7</td>\n",
       "      <td>Aspersion</td>\n",
       "      <td>Rouille</td>\n",
       "      <td>Mixte</td>\n",
       "      <td>9.39</td>\n",
       "      <td>3858.63</td>\n",
       "      <td>220.01</td>\n",
       "      <td>-16690.373091</td>\n",
       "    </tr>\n",
       "    <tr>\n",
       "      <th>2</th>\n",
       "      <td>3</td>\n",
       "      <td>Est</td>\n",
       "      <td>Humifère</td>\n",
       "      <td>Soja</td>\n",
       "      <td>4.24</td>\n",
       "      <td>20.8</td>\n",
       "      <td>57.6</td>\n",
       "      <td>204.5</td>\n",
       "      <td>Aspersion</td>\n",
       "      <td>Mildiou</td>\n",
       "      <td>Fongicide</td>\n",
       "      <td>5.71</td>\n",
       "      <td>1902.07</td>\n",
       "      <td>318.29</td>\n",
       "      <td>-358.848584</td>\n",
       "    </tr>\n",
       "    <tr>\n",
       "      <th>3</th>\n",
       "      <td>4</td>\n",
       "      <td>Centre</td>\n",
       "      <td>Argileux</td>\n",
       "      <td>Riz</td>\n",
       "      <td>48.24</td>\n",
       "      <td>37.2</td>\n",
       "      <td>75.0</td>\n",
       "      <td>33.9</td>\n",
       "      <td>Aspersion</td>\n",
       "      <td>Aucune</td>\n",
       "      <td>Herbicide</td>\n",
       "      <td>3.45</td>\n",
       "      <td>4305.44</td>\n",
       "      <td>362.52</td>\n",
       "      <td>-147360.947040</td>\n",
       "    </tr>\n",
       "    <tr>\n",
       "      <th>4</th>\n",
       "      <td>5</td>\n",
       "      <td>Centre</td>\n",
       "      <td>Sablonneux</td>\n",
       "      <td>Blé</td>\n",
       "      <td>58.29</td>\n",
       "      <td>33.1</td>\n",
       "      <td>47.4</td>\n",
       "      <td>252.6</td>\n",
       "      <td>Aspersion</td>\n",
       "      <td>Aucune</td>\n",
       "      <td>Aucun</td>\n",
       "      <td>4.59</td>\n",
       "      <td>1668.21</td>\n",
       "      <td>931.88</td>\n",
       "      <td>152085.558168</td>\n",
       "    </tr>\n",
       "  </tbody>\n",
       "</table>\n",
       "</div>"
      ],
      "text/plain": [
       "   ID  Région Type de Sol Type de Culture  Surface Cultivée (ha)  \\\n",
       "0   1   Ouest  Sablonneux             Blé                   5.74   \n",
       "1   2  Centre    Humifère            Maïs                   9.31   \n",
       "2   3     Est    Humifère            Soja                   4.24   \n",
       "3   4  Centre    Argileux             Riz                  48.24   \n",
       "4   5  Centre  Sablonneux             Blé                  58.29   \n",
       "\n",
       "   Température Moyenne (°C)  Humidité (%)  Précipitations (mm)  \\\n",
       "0                      29.4          35.9                 30.3   \n",
       "1                      15.2          81.7                260.7   \n",
       "2                      20.8          57.6                204.5   \n",
       "3                      37.2          75.0                 33.9   \n",
       "4                      33.1          47.4                252.6   \n",
       "\n",
       "  Mode d'Irrigation Présence de Maladies Type de Pesticide  \\\n",
       "0   Goutte-à-goutte              Mildiou         Fongicide   \n",
       "1         Aspersion              Rouille             Mixte   \n",
       "2         Aspersion              Mildiou         Fongicide   \n",
       "3         Aspersion               Aucune         Herbicide   \n",
       "4         Aspersion               Aucune             Aucun   \n",
       "\n",
       "   Rendement (tonnes/ha)  Coût de Production ($/ha)  Prix de Vente ($/tonne)  \\\n",
       "0                   3.66                    3473.59                   540.30   \n",
       "1                   9.39                    3858.63                   220.01   \n",
       "2                   5.71                    1902.07                   318.29   \n",
       "3                   3.45                    4305.44                   362.52   \n",
       "4                   4.59                    1668.21                   931.88   \n",
       "\n",
       "   Profit Total ($)  \n",
       "0      -8587.568080  \n",
       "1     -16690.373091  \n",
       "2       -358.848584  \n",
       "3    -147360.947040  \n",
       "4     152085.558168  "
      ]
     },
     "execution_count": 32,
     "metadata": {},
     "output_type": "execute_result"
    }
   ],
   "source": [
    "import pandas as pd\n",
    "\n",
    "# Charger un fichier CSV contenant des données agricoles\n",
    "df = pd.read_csv(\"dataset_agtech.csv\")\n",
    "\n",
    "# Afficher les 5 premières lignes\n",
    "df.head()\n"
   ]
  },
  {
   "cell_type": "code",
   "execution_count": null,
   "metadata": {},
   "outputs": [],
   "source": [
    "import pandas as pd\n",
    "\n",
    "# Charger un fichier CSV contenant des données agricoles\n",
    "df = pd.read_csv(\"dataset_agtech.csv\")\n",
    "\n",
    "# Vérifier les informations générales sur le dataset\n",
    "print(df.info())\n",
    "df.info()\n",
    "\n",
    "#Afficher un échantillons aléatoire de 10 lignes des données\n",
    "df.sample(10)\n",
    "\n",
    "# Faire un résume statistique des variables\n",
    "df.describe()\n",
    "\n",
    "# Renommer les colonnes pour plus de clarté\n",
    "df.rename(columns={\"Crop\": \"Culture\", \"Yield\": \"Rendement (t/ha)\"}, inplace=True)\n",
    "\n",
    "# Afficher les nouvelles colonnes\n",
    "print(df.head())\n"
   ]
  },
  {
   "cell_type": "code",
   "execution_count": 33,
   "metadata": {},
   "outputs": [
    {
     "data": {
      "text/html": [
       "<div>\n",
       "<style scoped>\n",
       "    .dataframe tbody tr th:only-of-type {\n",
       "        vertical-align: middle;\n",
       "    }\n",
       "\n",
       "    .dataframe tbody tr th {\n",
       "        vertical-align: top;\n",
       "    }\n",
       "\n",
       "    .dataframe thead th {\n",
       "        text-align: right;\n",
       "    }\n",
       "</style>\n",
       "<table border=\"1\" class=\"dataframe\">\n",
       "  <thead>\n",
       "    <tr style=\"text-align: right;\">\n",
       "      <th></th>\n",
       "      <th>ID</th>\n",
       "      <th>Région</th>\n",
       "      <th>Type de Sol</th>\n",
       "      <th>Type de Culture</th>\n",
       "      <th>Surface Cultivée (ha)</th>\n",
       "      <th>Température Moyenne (°C)</th>\n",
       "      <th>Humidité (%)</th>\n",
       "      <th>Précipitations (mm)</th>\n",
       "      <th>Mode d'Irrigation</th>\n",
       "      <th>Présence de Maladies</th>\n",
       "      <th>Type de Pesticide</th>\n",
       "      <th>Rendement (tonnes/ha)</th>\n",
       "      <th>Coût de Production ($/ha)</th>\n",
       "      <th>Prix de Vente ($/tonne)</th>\n",
       "      <th>Profit Total ($)</th>\n",
       "    </tr>\n",
       "  </thead>\n",
       "  <tbody>\n",
       "    <tr>\n",
       "      <th>361</th>\n",
       "      <td>362</td>\n",
       "      <td>Ouest</td>\n",
       "      <td>Sablonneux</td>\n",
       "      <td>Soja</td>\n",
       "      <td>64.18</td>\n",
       "      <td>16.5</td>\n",
       "      <td>36.0</td>\n",
       "      <td>124.8</td>\n",
       "      <td>Aspersion</td>\n",
       "      <td>Oïdium</td>\n",
       "      <td>Fongicide</td>\n",
       "      <td>7.12</td>\n",
       "      <td>1308.20</td>\n",
       "      <td>585.27</td>\n",
       "      <td>183485.639632</td>\n",
       "    </tr>\n",
       "    <tr>\n",
       "      <th>354</th>\n",
       "      <td>355</td>\n",
       "      <td>Sud</td>\n",
       "      <td>Humifère</td>\n",
       "      <td>Coton</td>\n",
       "      <td>56.03</td>\n",
       "      <td>35.3</td>\n",
       "      <td>36.3</td>\n",
       "      <td>131.2</td>\n",
       "      <td>Aspersion</td>\n",
       "      <td>Aucune</td>\n",
       "      <td>Fongicide</td>\n",
       "      <td>1.22</td>\n",
       "      <td>684.20</td>\n",
       "      <td>467.11</td>\n",
       "      <td>-6405.674574</td>\n",
       "    </tr>\n",
       "    <tr>\n",
       "      <th>355</th>\n",
       "      <td>356</td>\n",
       "      <td>Est</td>\n",
       "      <td>Humifère</td>\n",
       "      <td>Blé</td>\n",
       "      <td>54.22</td>\n",
       "      <td>24.1</td>\n",
       "      <td>40.0</td>\n",
       "      <td>264.8</td>\n",
       "      <td>Aspersion</td>\n",
       "      <td>Mildiou</td>\n",
       "      <td>Aucun</td>\n",
       "      <td>2.89</td>\n",
       "      <td>723.48</td>\n",
       "      <td>413.00</td>\n",
       "      <td>25488.279800</td>\n",
       "    </tr>\n",
       "    <tr>\n",
       "      <th>283</th>\n",
       "      <td>284</td>\n",
       "      <td>Ouest</td>\n",
       "      <td>Humifère</td>\n",
       "      <td>Soja</td>\n",
       "      <td>42.13</td>\n",
       "      <td>28.0</td>\n",
       "      <td>65.8</td>\n",
       "      <td>144.5</td>\n",
       "      <td>Pluie</td>\n",
       "      <td>Oïdium</td>\n",
       "      <td>Insecticide</td>\n",
       "      <td>3.86</td>\n",
       "      <td>4289.48</td>\n",
       "      <td>256.74</td>\n",
       "      <td>-138964.271468</td>\n",
       "    </tr>\n",
       "    <tr>\n",
       "      <th>317</th>\n",
       "      <td>318</td>\n",
       "      <td>Sud</td>\n",
       "      <td>Limoneux</td>\n",
       "      <td>Soja</td>\n",
       "      <td>7.38</td>\n",
       "      <td>14.5</td>\n",
       "      <td>81.1</td>\n",
       "      <td>120.3</td>\n",
       "      <td>Aspersion</td>\n",
       "      <td>Aucune</td>\n",
       "      <td>Mixte</td>\n",
       "      <td>8.12</td>\n",
       "      <td>2670.23</td>\n",
       "      <td>488.81</td>\n",
       "      <td>9585.935136</td>\n",
       "    </tr>\n",
       "    <tr>\n",
       "      <th>300</th>\n",
       "      <td>301</td>\n",
       "      <td>Centre</td>\n",
       "      <td>Sablonneux</td>\n",
       "      <td>Soja</td>\n",
       "      <td>59.97</td>\n",
       "      <td>29.1</td>\n",
       "      <td>74.5</td>\n",
       "      <td>251.9</td>\n",
       "      <td>Fossé</td>\n",
       "      <td>Aucune</td>\n",
       "      <td>Aucun</td>\n",
       "      <td>4.25</td>\n",
       "      <td>1789.13</td>\n",
       "      <td>659.00</td>\n",
       "      <td>60666.851400</td>\n",
       "    </tr>\n",
       "    <tr>\n",
       "      <th>428</th>\n",
       "      <td>429</td>\n",
       "      <td>Centre</td>\n",
       "      <td>Argileux</td>\n",
       "      <td>Soja</td>\n",
       "      <td>33.17</td>\n",
       "      <td>31.2</td>\n",
       "      <td>86.9</td>\n",
       "      <td>211.9</td>\n",
       "      <td>Goutte-à-goutte</td>\n",
       "      <td>Aucune</td>\n",
       "      <td>Aucun</td>\n",
       "      <td>8.23</td>\n",
       "      <td>3857.81</td>\n",
       "      <td>587.23</td>\n",
       "      <td>32343.831493</td>\n",
       "    </tr>\n",
       "    <tr>\n",
       "      <th>226</th>\n",
       "      <td>227</td>\n",
       "      <td>Sud</td>\n",
       "      <td>Limoneux</td>\n",
       "      <td>Coton</td>\n",
       "      <td>34.93</td>\n",
       "      <td>33.4</td>\n",
       "      <td>32.4</td>\n",
       "      <td>41.1</td>\n",
       "      <td>Aspersion</td>\n",
       "      <td>Aucune</td>\n",
       "      <td>Mixte</td>\n",
       "      <td>9.65</td>\n",
       "      <td>3763.00</td>\n",
       "      <td>378.70</td>\n",
       "      <td>-3791.476850</td>\n",
       "    </tr>\n",
       "    <tr>\n",
       "      <th>362</th>\n",
       "      <td>363</td>\n",
       "      <td>Ouest</td>\n",
       "      <td>Argileux</td>\n",
       "      <td>Coton</td>\n",
       "      <td>22.86</td>\n",
       "      <td>14.1</td>\n",
       "      <td>42.5</td>\n",
       "      <td>227.7</td>\n",
       "      <td>Goutte-à-goutte</td>\n",
       "      <td>Mildiou</td>\n",
       "      <td>Aucun</td>\n",
       "      <td>9.39</td>\n",
       "      <td>1766.08</td>\n",
       "      <td>329.58</td>\n",
       "      <td>30373.537932</td>\n",
       "    </tr>\n",
       "    <tr>\n",
       "      <th>268</th>\n",
       "      <td>269</td>\n",
       "      <td>Centre</td>\n",
       "      <td>Sablonneux</td>\n",
       "      <td>Soja</td>\n",
       "      <td>33.24</td>\n",
       "      <td>12.1</td>\n",
       "      <td>47.8</td>\n",
       "      <td>242.4</td>\n",
       "      <td>Pluie</td>\n",
       "      <td>Mildiou</td>\n",
       "      <td>Fongicide</td>\n",
       "      <td>3.84</td>\n",
       "      <td>2244.63</td>\n",
       "      <td>985.52</td>\n",
       "      <td>51181.848432</td>\n",
       "    </tr>\n",
       "  </tbody>\n",
       "</table>\n",
       "</div>"
      ],
      "text/plain": [
       "      ID  Région Type de Sol Type de Culture  Surface Cultivée (ha)  \\\n",
       "361  362   Ouest  Sablonneux            Soja                  64.18   \n",
       "354  355     Sud    Humifère           Coton                  56.03   \n",
       "355  356     Est    Humifère             Blé                  54.22   \n",
       "283  284   Ouest    Humifère            Soja                  42.13   \n",
       "317  318     Sud    Limoneux            Soja                   7.38   \n",
       "300  301  Centre  Sablonneux            Soja                  59.97   \n",
       "428  429  Centre    Argileux            Soja                  33.17   \n",
       "226  227     Sud    Limoneux           Coton                  34.93   \n",
       "362  363   Ouest    Argileux           Coton                  22.86   \n",
       "268  269  Centre  Sablonneux            Soja                  33.24   \n",
       "\n",
       "     Température Moyenne (°C)  Humidité (%)  Précipitations (mm)  \\\n",
       "361                      16.5          36.0                124.8   \n",
       "354                      35.3          36.3                131.2   \n",
       "355                      24.1          40.0                264.8   \n",
       "283                      28.0          65.8                144.5   \n",
       "317                      14.5          81.1                120.3   \n",
       "300                      29.1          74.5                251.9   \n",
       "428                      31.2          86.9                211.9   \n",
       "226                      33.4          32.4                 41.1   \n",
       "362                      14.1          42.5                227.7   \n",
       "268                      12.1          47.8                242.4   \n",
       "\n",
       "    Mode d'Irrigation Présence de Maladies Type de Pesticide  \\\n",
       "361         Aspersion               Oïdium         Fongicide   \n",
       "354         Aspersion               Aucune         Fongicide   \n",
       "355         Aspersion              Mildiou             Aucun   \n",
       "283             Pluie               Oïdium       Insecticide   \n",
       "317         Aspersion               Aucune             Mixte   \n",
       "300             Fossé               Aucune             Aucun   \n",
       "428   Goutte-à-goutte               Aucune             Aucun   \n",
       "226         Aspersion               Aucune             Mixte   \n",
       "362   Goutte-à-goutte              Mildiou             Aucun   \n",
       "268             Pluie              Mildiou         Fongicide   \n",
       "\n",
       "     Rendement (tonnes/ha)  Coût de Production ($/ha)  \\\n",
       "361                   7.12                    1308.20   \n",
       "354                   1.22                     684.20   \n",
       "355                   2.89                     723.48   \n",
       "283                   3.86                    4289.48   \n",
       "317                   8.12                    2670.23   \n",
       "300                   4.25                    1789.13   \n",
       "428                   8.23                    3857.81   \n",
       "226                   9.65                    3763.00   \n",
       "362                   9.39                    1766.08   \n",
       "268                   3.84                    2244.63   \n",
       "\n",
       "     Prix de Vente ($/tonne)  Profit Total ($)  \n",
       "361                   585.27     183485.639632  \n",
       "354                   467.11      -6405.674574  \n",
       "355                   413.00      25488.279800  \n",
       "283                   256.74    -138964.271468  \n",
       "317                   488.81       9585.935136  \n",
       "300                   659.00      60666.851400  \n",
       "428                   587.23      32343.831493  \n",
       "226                   378.70      -3791.476850  \n",
       "362                   329.58      30373.537932  \n",
       "268                   985.52      51181.848432  "
      ]
     },
     "execution_count": 33,
     "metadata": {},
     "output_type": "execute_result"
    }
   ],
   "source": [
    "df.sample(10)"
   ]
  },
  {
   "cell_type": "code",
   "execution_count": 34,
   "metadata": {},
   "outputs": [
    {
     "data": {
      "text/html": [
       "<div>\n",
       "<style scoped>\n",
       "    .dataframe tbody tr th:only-of-type {\n",
       "        vertical-align: middle;\n",
       "    }\n",
       "\n",
       "    .dataframe tbody tr th {\n",
       "        vertical-align: top;\n",
       "    }\n",
       "\n",
       "    .dataframe thead th {\n",
       "        text-align: right;\n",
       "    }\n",
       "</style>\n",
       "<table border=\"1\" class=\"dataframe\">\n",
       "  <thead>\n",
       "    <tr style=\"text-align: right;\">\n",
       "      <th></th>\n",
       "      <th>ID</th>\n",
       "      <th>Surface Cultivée (ha)</th>\n",
       "      <th>Température Moyenne (°C)</th>\n",
       "      <th>Humidité (%)</th>\n",
       "      <th>Précipitations (mm)</th>\n",
       "      <th>Rendement (tonnes/ha)</th>\n",
       "      <th>Coût de Production ($/ha)</th>\n",
       "      <th>Prix de Vente ($/tonne)</th>\n",
       "      <th>Profit Total ($)</th>\n",
       "    </tr>\n",
       "  </thead>\n",
       "  <tbody>\n",
       "    <tr>\n",
       "      <th>count</th>\n",
       "      <td>500.000000</td>\n",
       "      <td>500.000000</td>\n",
       "      <td>500.000000</td>\n",
       "      <td>500.000000</td>\n",
       "      <td>500.000000</td>\n",
       "      <td>500.000000</td>\n",
       "      <td>500.000000</td>\n",
       "      <td>500.000000</td>\n",
       "      <td>500.000000</td>\n",
       "    </tr>\n",
       "    <tr>\n",
       "      <th>mean</th>\n",
       "      <td>250.500000</td>\n",
       "      <td>50.765500</td>\n",
       "      <td>24.557800</td>\n",
       "      <td>59.874600</td>\n",
       "      <td>154.973600</td>\n",
       "      <td>5.306080</td>\n",
       "      <td>2763.571900</td>\n",
       "      <td>545.875220</td>\n",
       "      <td>12376.289603</td>\n",
       "    </tr>\n",
       "    <tr>\n",
       "      <th>std</th>\n",
       "      <td>144.481833</td>\n",
       "      <td>28.856758</td>\n",
       "      <td>8.553146</td>\n",
       "      <td>17.644334</td>\n",
       "      <td>86.741048</td>\n",
       "      <td>2.640595</td>\n",
       "      <td>1248.898835</td>\n",
       "      <td>265.074557</td>\n",
       "      <td>151505.921332</td>\n",
       "    </tr>\n",
       "    <tr>\n",
       "      <th>min</th>\n",
       "      <td>1.000000</td>\n",
       "      <td>0.600000</td>\n",
       "      <td>10.000000</td>\n",
       "      <td>30.000000</td>\n",
       "      <td>0.100000</td>\n",
       "      <td>1.000000</td>\n",
       "      <td>507.400000</td>\n",
       "      <td>101.870000</td>\n",
       "      <td>-415184.324500</td>\n",
       "    </tr>\n",
       "    <tr>\n",
       "      <th>25%</th>\n",
       "      <td>125.750000</td>\n",
       "      <td>25.497500</td>\n",
       "      <td>16.875000</td>\n",
       "      <td>44.775000</td>\n",
       "      <td>79.075000</td>\n",
       "      <td>2.960000</td>\n",
       "      <td>1699.740000</td>\n",
       "      <td>319.370000</td>\n",
       "      <td>-67764.993685</td>\n",
       "    </tr>\n",
       "    <tr>\n",
       "      <th>50%</th>\n",
       "      <td>250.500000</td>\n",
       "      <td>52.520000</td>\n",
       "      <td>24.450000</td>\n",
       "      <td>60.250000</td>\n",
       "      <td>160.950000</td>\n",
       "      <td>5.150000</td>\n",
       "      <td>2777.115000</td>\n",
       "      <td>548.390000</td>\n",
       "      <td>-2667.463432</td>\n",
       "    </tr>\n",
       "    <tr>\n",
       "      <th>75%</th>\n",
       "      <td>375.250000</td>\n",
       "      <td>75.565000</td>\n",
       "      <td>32.025000</td>\n",
       "      <td>75.225000</td>\n",
       "      <td>229.850000</td>\n",
       "      <td>7.570000</td>\n",
       "      <td>3836.797500</td>\n",
       "      <td>775.810000</td>\n",
       "      <td>61457.778220</td>\n",
       "    </tr>\n",
       "    <tr>\n",
       "      <th>max</th>\n",
       "      <td>500.000000</td>\n",
       "      <td>99.640000</td>\n",
       "      <td>39.900000</td>\n",
       "      <td>90.000000</td>\n",
       "      <td>299.900000</td>\n",
       "      <td>9.970000</td>\n",
       "      <td>4988.830000</td>\n",
       "      <td>999.140000</td>\n",
       "      <td>622828.704452</td>\n",
       "    </tr>\n",
       "  </tbody>\n",
       "</table>\n",
       "</div>"
      ],
      "text/plain": [
       "               ID  Surface Cultivée (ha)  Température Moyenne (°C)  \\\n",
       "count  500.000000             500.000000                500.000000   \n",
       "mean   250.500000              50.765500                 24.557800   \n",
       "std    144.481833              28.856758                  8.553146   \n",
       "min      1.000000               0.600000                 10.000000   \n",
       "25%    125.750000              25.497500                 16.875000   \n",
       "50%    250.500000              52.520000                 24.450000   \n",
       "75%    375.250000              75.565000                 32.025000   \n",
       "max    500.000000              99.640000                 39.900000   \n",
       "\n",
       "       Humidité (%)  Précipitations (mm)  Rendement (tonnes/ha)  \\\n",
       "count    500.000000           500.000000             500.000000   \n",
       "mean      59.874600           154.973600               5.306080   \n",
       "std       17.644334            86.741048               2.640595   \n",
       "min       30.000000             0.100000               1.000000   \n",
       "25%       44.775000            79.075000               2.960000   \n",
       "50%       60.250000           160.950000               5.150000   \n",
       "75%       75.225000           229.850000               7.570000   \n",
       "max       90.000000           299.900000               9.970000   \n",
       "\n",
       "       Coût de Production ($/ha)  Prix de Vente ($/tonne)  Profit Total ($)  \n",
       "count                 500.000000               500.000000        500.000000  \n",
       "mean                 2763.571900               545.875220      12376.289603  \n",
       "std                  1248.898835               265.074557     151505.921332  \n",
       "min                   507.400000               101.870000    -415184.324500  \n",
       "25%                  1699.740000               319.370000     -67764.993685  \n",
       "50%                  2777.115000               548.390000      -2667.463432  \n",
       "75%                  3836.797500               775.810000      61457.778220  \n",
       "max                  4988.830000               999.140000     622828.704452  "
      ]
     },
     "execution_count": 34,
     "metadata": {},
     "output_type": "execute_result"
    }
   ],
   "source": [
    "df.describe()"
   ]
  },
  {
   "cell_type": "code",
   "execution_count": 35,
   "metadata": {},
   "outputs": [
    {
     "data": {
      "text/html": [
       "<div>\n",
       "<style scoped>\n",
       "    .dataframe tbody tr th:only-of-type {\n",
       "        vertical-align: middle;\n",
       "    }\n",
       "\n",
       "    .dataframe tbody tr th {\n",
       "        vertical-align: top;\n",
       "    }\n",
       "\n",
       "    .dataframe thead th {\n",
       "        text-align: right;\n",
       "    }\n",
       "</style>\n",
       "<table border=\"1\" class=\"dataframe\">\n",
       "  <thead>\n",
       "    <tr style=\"text-align: right;\">\n",
       "      <th></th>\n",
       "      <th>ID</th>\n",
       "      <th>Région</th>\n",
       "      <th>Type de Sol</th>\n",
       "      <th>Type de Culture</th>\n",
       "      <th>Surface Cultivée (ha)</th>\n",
       "      <th>Température Moyenne (°C)</th>\n",
       "      <th>Humidité (%)</th>\n",
       "      <th>Précipitations (mm)</th>\n",
       "      <th>Mode d'Irrigation</th>\n",
       "      <th>Présence de Maladies</th>\n",
       "      <th>Type de Pesticide</th>\n",
       "      <th>Rendement (tonnes/ha)</th>\n",
       "      <th>Coût de Production ($/ha)</th>\n",
       "      <th>Prix de Vente ($/tonne)</th>\n",
       "      <th>Profit Total ($)</th>\n",
       "    </tr>\n",
       "  </thead>\n",
       "  <tbody>\n",
       "    <tr>\n",
       "      <th>count</th>\n",
       "      <td>500.000000</td>\n",
       "      <td>500</td>\n",
       "      <td>500</td>\n",
       "      <td>500</td>\n",
       "      <td>500.000000</td>\n",
       "      <td>500.000000</td>\n",
       "      <td>500.000000</td>\n",
       "      <td>500.000000</td>\n",
       "      <td>500</td>\n",
       "      <td>500</td>\n",
       "      <td>500</td>\n",
       "      <td>500.000000</td>\n",
       "      <td>500.000000</td>\n",
       "      <td>500.000000</td>\n",
       "      <td>500.000000</td>\n",
       "    </tr>\n",
       "    <tr>\n",
       "      <th>unique</th>\n",
       "      <td>NaN</td>\n",
       "      <td>5</td>\n",
       "      <td>4</td>\n",
       "      <td>5</td>\n",
       "      <td>NaN</td>\n",
       "      <td>NaN</td>\n",
       "      <td>NaN</td>\n",
       "      <td>NaN</td>\n",
       "      <td>4</td>\n",
       "      <td>5</td>\n",
       "      <td>5</td>\n",
       "      <td>NaN</td>\n",
       "      <td>NaN</td>\n",
       "      <td>NaN</td>\n",
       "      <td>NaN</td>\n",
       "    </tr>\n",
       "    <tr>\n",
       "      <th>top</th>\n",
       "      <td>NaN</td>\n",
       "      <td>Ouest</td>\n",
       "      <td>Argileux</td>\n",
       "      <td>Riz</td>\n",
       "      <td>NaN</td>\n",
       "      <td>NaN</td>\n",
       "      <td>NaN</td>\n",
       "      <td>NaN</td>\n",
       "      <td>Pluie</td>\n",
       "      <td>Aucune</td>\n",
       "      <td>Herbicide</td>\n",
       "      <td>NaN</td>\n",
       "      <td>NaN</td>\n",
       "      <td>NaN</td>\n",
       "      <td>NaN</td>\n",
       "    </tr>\n",
       "    <tr>\n",
       "      <th>freq</th>\n",
       "      <td>NaN</td>\n",
       "      <td>112</td>\n",
       "      <td>143</td>\n",
       "      <td>108</td>\n",
       "      <td>NaN</td>\n",
       "      <td>NaN</td>\n",
       "      <td>NaN</td>\n",
       "      <td>NaN</td>\n",
       "      <td>139</td>\n",
       "      <td>284</td>\n",
       "      <td>112</td>\n",
       "      <td>NaN</td>\n",
       "      <td>NaN</td>\n",
       "      <td>NaN</td>\n",
       "      <td>NaN</td>\n",
       "    </tr>\n",
       "    <tr>\n",
       "      <th>mean</th>\n",
       "      <td>250.500000</td>\n",
       "      <td>NaN</td>\n",
       "      <td>NaN</td>\n",
       "      <td>NaN</td>\n",
       "      <td>50.765500</td>\n",
       "      <td>24.557800</td>\n",
       "      <td>59.874600</td>\n",
       "      <td>154.973600</td>\n",
       "      <td>NaN</td>\n",
       "      <td>NaN</td>\n",
       "      <td>NaN</td>\n",
       "      <td>5.306080</td>\n",
       "      <td>2763.571900</td>\n",
       "      <td>545.875220</td>\n",
       "      <td>12376.289603</td>\n",
       "    </tr>\n",
       "    <tr>\n",
       "      <th>std</th>\n",
       "      <td>144.481833</td>\n",
       "      <td>NaN</td>\n",
       "      <td>NaN</td>\n",
       "      <td>NaN</td>\n",
       "      <td>28.856758</td>\n",
       "      <td>8.553146</td>\n",
       "      <td>17.644334</td>\n",
       "      <td>86.741048</td>\n",
       "      <td>NaN</td>\n",
       "      <td>NaN</td>\n",
       "      <td>NaN</td>\n",
       "      <td>2.640595</td>\n",
       "      <td>1248.898835</td>\n",
       "      <td>265.074557</td>\n",
       "      <td>151505.921332</td>\n",
       "    </tr>\n",
       "    <tr>\n",
       "      <th>min</th>\n",
       "      <td>1.000000</td>\n",
       "      <td>NaN</td>\n",
       "      <td>NaN</td>\n",
       "      <td>NaN</td>\n",
       "      <td>0.600000</td>\n",
       "      <td>10.000000</td>\n",
       "      <td>30.000000</td>\n",
       "      <td>0.100000</td>\n",
       "      <td>NaN</td>\n",
       "      <td>NaN</td>\n",
       "      <td>NaN</td>\n",
       "      <td>1.000000</td>\n",
       "      <td>507.400000</td>\n",
       "      <td>101.870000</td>\n",
       "      <td>-415184.324500</td>\n",
       "    </tr>\n",
       "    <tr>\n",
       "      <th>25%</th>\n",
       "      <td>125.750000</td>\n",
       "      <td>NaN</td>\n",
       "      <td>NaN</td>\n",
       "      <td>NaN</td>\n",
       "      <td>25.497500</td>\n",
       "      <td>16.875000</td>\n",
       "      <td>44.775000</td>\n",
       "      <td>79.075000</td>\n",
       "      <td>NaN</td>\n",
       "      <td>NaN</td>\n",
       "      <td>NaN</td>\n",
       "      <td>2.960000</td>\n",
       "      <td>1699.740000</td>\n",
       "      <td>319.370000</td>\n",
       "      <td>-67764.993685</td>\n",
       "    </tr>\n",
       "    <tr>\n",
       "      <th>50%</th>\n",
       "      <td>250.500000</td>\n",
       "      <td>NaN</td>\n",
       "      <td>NaN</td>\n",
       "      <td>NaN</td>\n",
       "      <td>52.520000</td>\n",
       "      <td>24.450000</td>\n",
       "      <td>60.250000</td>\n",
       "      <td>160.950000</td>\n",
       "      <td>NaN</td>\n",
       "      <td>NaN</td>\n",
       "      <td>NaN</td>\n",
       "      <td>5.150000</td>\n",
       "      <td>2777.115000</td>\n",
       "      <td>548.390000</td>\n",
       "      <td>-2667.463432</td>\n",
       "    </tr>\n",
       "    <tr>\n",
       "      <th>75%</th>\n",
       "      <td>375.250000</td>\n",
       "      <td>NaN</td>\n",
       "      <td>NaN</td>\n",
       "      <td>NaN</td>\n",
       "      <td>75.565000</td>\n",
       "      <td>32.025000</td>\n",
       "      <td>75.225000</td>\n",
       "      <td>229.850000</td>\n",
       "      <td>NaN</td>\n",
       "      <td>NaN</td>\n",
       "      <td>NaN</td>\n",
       "      <td>7.570000</td>\n",
       "      <td>3836.797500</td>\n",
       "      <td>775.810000</td>\n",
       "      <td>61457.778220</td>\n",
       "    </tr>\n",
       "    <tr>\n",
       "      <th>max</th>\n",
       "      <td>500.000000</td>\n",
       "      <td>NaN</td>\n",
       "      <td>NaN</td>\n",
       "      <td>NaN</td>\n",
       "      <td>99.640000</td>\n",
       "      <td>39.900000</td>\n",
       "      <td>90.000000</td>\n",
       "      <td>299.900000</td>\n",
       "      <td>NaN</td>\n",
       "      <td>NaN</td>\n",
       "      <td>NaN</td>\n",
       "      <td>9.970000</td>\n",
       "      <td>4988.830000</td>\n",
       "      <td>999.140000</td>\n",
       "      <td>622828.704452</td>\n",
       "    </tr>\n",
       "  </tbody>\n",
       "</table>\n",
       "</div>"
      ],
      "text/plain": [
       "                ID Région Type de Sol Type de Culture  Surface Cultivée (ha)  \\\n",
       "count   500.000000    500         500             500             500.000000   \n",
       "unique         NaN      5           4               5                    NaN   \n",
       "top            NaN  Ouest    Argileux             Riz                    NaN   \n",
       "freq           NaN    112         143             108                    NaN   \n",
       "mean    250.500000    NaN         NaN             NaN              50.765500   \n",
       "std     144.481833    NaN         NaN             NaN              28.856758   \n",
       "min       1.000000    NaN         NaN             NaN               0.600000   \n",
       "25%     125.750000    NaN         NaN             NaN              25.497500   \n",
       "50%     250.500000    NaN         NaN             NaN              52.520000   \n",
       "75%     375.250000    NaN         NaN             NaN              75.565000   \n",
       "max     500.000000    NaN         NaN             NaN              99.640000   \n",
       "\n",
       "        Température Moyenne (°C)  Humidité (%)  Précipitations (mm)  \\\n",
       "count                 500.000000    500.000000           500.000000   \n",
       "unique                       NaN           NaN                  NaN   \n",
       "top                          NaN           NaN                  NaN   \n",
       "freq                         NaN           NaN                  NaN   \n",
       "mean                   24.557800     59.874600           154.973600   \n",
       "std                     8.553146     17.644334            86.741048   \n",
       "min                    10.000000     30.000000             0.100000   \n",
       "25%                    16.875000     44.775000            79.075000   \n",
       "50%                    24.450000     60.250000           160.950000   \n",
       "75%                    32.025000     75.225000           229.850000   \n",
       "max                    39.900000     90.000000           299.900000   \n",
       "\n",
       "       Mode d'Irrigation Présence de Maladies Type de Pesticide  \\\n",
       "count                500                  500               500   \n",
       "unique                 4                    5                 5   \n",
       "top                Pluie               Aucune         Herbicide   \n",
       "freq                 139                  284               112   \n",
       "mean                 NaN                  NaN               NaN   \n",
       "std                  NaN                  NaN               NaN   \n",
       "min                  NaN                  NaN               NaN   \n",
       "25%                  NaN                  NaN               NaN   \n",
       "50%                  NaN                  NaN               NaN   \n",
       "75%                  NaN                  NaN               NaN   \n",
       "max                  NaN                  NaN               NaN   \n",
       "\n",
       "        Rendement (tonnes/ha)  Coût de Production ($/ha)  \\\n",
       "count              500.000000                 500.000000   \n",
       "unique                    NaN                        NaN   \n",
       "top                       NaN                        NaN   \n",
       "freq                      NaN                        NaN   \n",
       "mean                 5.306080                2763.571900   \n",
       "std                  2.640595                1248.898835   \n",
       "min                  1.000000                 507.400000   \n",
       "25%                  2.960000                1699.740000   \n",
       "50%                  5.150000                2777.115000   \n",
       "75%                  7.570000                3836.797500   \n",
       "max                  9.970000                4988.830000   \n",
       "\n",
       "        Prix de Vente ($/tonne)  Profit Total ($)  \n",
       "count                500.000000        500.000000  \n",
       "unique                      NaN               NaN  \n",
       "top                         NaN               NaN  \n",
       "freq                        NaN               NaN  \n",
       "mean                 545.875220      12376.289603  \n",
       "std                  265.074557     151505.921332  \n",
       "min                  101.870000    -415184.324500  \n",
       "25%                  319.370000     -67764.993685  \n",
       "50%                  548.390000      -2667.463432  \n",
       "75%                  775.810000      61457.778220  \n",
       "max                  999.140000     622828.704452  "
      ]
     },
     "execution_count": 35,
     "metadata": {},
     "output_type": "execute_result"
    }
   ],
   "source": [
    "df.describe(include='all')"
   ]
  },
  {
   "cell_type": "code",
   "execution_count": 36,
   "metadata": {},
   "outputs": [
    {
     "data": {
      "text/plain": [
       "['ID',\n",
       " 'Surface Cultivée (ha)',\n",
       " 'Température Moyenne (°C)',\n",
       " 'Humidité (%)',\n",
       " 'Précipitations (mm)',\n",
       " 'Rendement (tonnes/ha)',\n",
       " 'Coût de Production ($/ha)',\n",
       " 'Prix de Vente ($/tonne)',\n",
       " 'Profit Total ($)']"
      ]
     },
     "execution_count": 36,
     "metadata": {},
     "output_type": "execute_result"
    }
   ],
   "source": [
    "var_num = df.select_dtypes(exclude=\"object\").columns.to_list()\n",
    "var_num"
   ]
  },
  {
   "cell_type": "code",
   "execution_count": 37,
   "metadata": {},
   "outputs": [],
   "source": [
    "import plotly.express as px\n",
    "import plotly.io as pio\n",
    "pio.renderers.default = \"chrome\""
   ]
  },
  {
   "cell_type": "code",
   "execution_count": 38,
   "metadata": {},
   "outputs": [
    {
     "ename": "ValueError",
     "evalue": "Can't locate a browser with key in ('chrome', 'google-chrome')",
     "output_type": "error",
     "traceback": [
      "\u001b[1;31m---------------------------------------------------------------------------\u001b[0m",
      "\u001b[1;31mValueError\u001b[0m                                Traceback (most recent call last)",
      "Cell \u001b[1;32mIn[38], line 5\u001b[0m\n\u001b[0;32m      1\u001b[0m \u001b[38;5;28;01mfor\u001b[39;00m var \u001b[38;5;129;01min\u001b[39;00m var_num:\n\u001b[0;32m      2\u001b[0m     fig \u001b[38;5;241m=\u001b[39m px\u001b[38;5;241m.\u001b[39mbox(\n\u001b[0;32m      3\u001b[0m         df, x\u001b[38;5;241m=\u001b[39m\u001b[38;5;124m'\u001b[39m\u001b[38;5;124mTempérature Moyenne (°C)\u001b[39m\u001b[38;5;124m'\u001b[39m, y\u001b[38;5;241m=\u001b[39mvar, title\u001b[38;5;241m=\u001b[39mvar \u001b[38;5;241m+\u001b[39m \u001b[38;5;124m'\u001b[39m\u001b[38;5;124m Exploration\u001b[39m\u001b[38;5;124m'\u001b[39m, color\u001b[38;5;241m=\u001b[39m\u001b[38;5;124m'\u001b[39m\u001b[38;5;124mTempérature Moyenne (°C)\u001b[39m\u001b[38;5;124m'\u001b[39m\n\u001b[0;32m      4\u001b[0m     )\n\u001b[1;32m----> 5\u001b[0m     \u001b[43mfig\u001b[49m\u001b[38;5;241;43m.\u001b[39;49m\u001b[43mshow\u001b[49m\u001b[43m(\u001b[49m\u001b[43m)\u001b[49m  \u001b[38;5;66;03m# Correct\u001b[39;00m\n",
      "File \u001b[1;32mc:\\Users\\AB SOLUTIONS\\Documents\\Full_learning\\data_code\\100_days_of_data\\data\\Lib\\site-packages\\plotly\\basedatatypes.py:3414\u001b[0m, in \u001b[0;36mBaseFigure.show\u001b[1;34m(self, *args, **kwargs)\u001b[0m\n\u001b[0;32m   3381\u001b[0m \u001b[38;5;250m\u001b[39m\u001b[38;5;124;03m\"\"\"\u001b[39;00m\n\u001b[0;32m   3382\u001b[0m \u001b[38;5;124;03mShow a figure using either the default renderer(s) or the renderer(s)\u001b[39;00m\n\u001b[0;32m   3383\u001b[0m \u001b[38;5;124;03mspecified by the renderer argument\u001b[39;00m\n\u001b[1;32m   (...)\u001b[0m\n\u001b[0;32m   3410\u001b[0m \u001b[38;5;124;03mNone\u001b[39;00m\n\u001b[0;32m   3411\u001b[0m \u001b[38;5;124;03m\"\"\"\u001b[39;00m\n\u001b[0;32m   3412\u001b[0m \u001b[38;5;28;01mimport\u001b[39;00m\u001b[38;5;250m \u001b[39m\u001b[38;5;21;01mplotly\u001b[39;00m\u001b[38;5;21;01m.\u001b[39;00m\u001b[38;5;21;01mio\u001b[39;00m\u001b[38;5;250m \u001b[39m\u001b[38;5;28;01mas\u001b[39;00m\u001b[38;5;250m \u001b[39m\u001b[38;5;21;01mpio\u001b[39;00m\n\u001b[1;32m-> 3414\u001b[0m \u001b[38;5;28;01mreturn\u001b[39;00m \u001b[43mpio\u001b[49m\u001b[38;5;241;43m.\u001b[39;49m\u001b[43mshow\u001b[49m\u001b[43m(\u001b[49m\u001b[38;5;28;43mself\u001b[39;49m\u001b[43m,\u001b[49m\u001b[43m \u001b[49m\u001b[38;5;241;43m*\u001b[39;49m\u001b[43margs\u001b[49m\u001b[43m,\u001b[49m\u001b[43m \u001b[49m\u001b[38;5;241;43m*\u001b[39;49m\u001b[38;5;241;43m*\u001b[39;49m\u001b[43mkwargs\u001b[49m\u001b[43m)\u001b[49m\n",
      "File \u001b[1;32mc:\\Users\\AB SOLUTIONS\\Documents\\Full_learning\\data_code\\100_days_of_data\\data\\Lib\\site-packages\\plotly\\io\\_renderers.py:434\u001b[0m, in \u001b[0;36mshow\u001b[1;34m(fig, renderer, validate, **kwargs)\u001b[0m\n\u001b[0;32m    431\u001b[0m     ipython_display\u001b[38;5;241m.\u001b[39mdisplay(bundle, raw\u001b[38;5;241m=\u001b[39m\u001b[38;5;28;01mTrue\u001b[39;00m)\n\u001b[0;32m    433\u001b[0m \u001b[38;5;66;03m# external renderers\u001b[39;00m\n\u001b[1;32m--> 434\u001b[0m \u001b[43mrenderers\u001b[49m\u001b[38;5;241;43m.\u001b[39;49m\u001b[43m_perform_external_rendering\u001b[49m\u001b[43m(\u001b[49m\u001b[43mfig_dict\u001b[49m\u001b[43m,\u001b[49m\u001b[43m \u001b[49m\u001b[43mrenderers_string\u001b[49m\u001b[38;5;241;43m=\u001b[39;49m\u001b[43mrenderer\u001b[49m\u001b[43m,\u001b[49m\u001b[43m \u001b[49m\u001b[38;5;241;43m*\u001b[39;49m\u001b[38;5;241;43m*\u001b[39;49m\u001b[43mkwargs\u001b[49m\u001b[43m)\u001b[49m\n",
      "File \u001b[1;32mc:\\Users\\AB SOLUTIONS\\Documents\\Full_learning\\data_code\\100_days_of_data\\data\\Lib\\site-packages\\plotly\\io\\_renderers.py:369\u001b[0m, in \u001b[0;36mRenderersConfig._perform_external_rendering\u001b[1;34m(self, fig_dict, renderers_string, **kwargs)\u001b[0m\n\u001b[0;32m    366\u001b[0m     \u001b[38;5;28;01mif\u001b[39;00m \u001b[38;5;28mhasattr\u001b[39m(renderer, k):\n\u001b[0;32m    367\u001b[0m         \u001b[38;5;28msetattr\u001b[39m(renderer, k, v)\n\u001b[1;32m--> 369\u001b[0m \u001b[43mrenderer\u001b[49m\u001b[38;5;241;43m.\u001b[39;49m\u001b[43mrender\u001b[49m\u001b[43m(\u001b[49m\u001b[43mfig_dict\u001b[49m\u001b[43m)\u001b[49m\n",
      "File \u001b[1;32mc:\\Users\\AB SOLUTIONS\\Documents\\Full_learning\\data_code\\100_days_of_data\\data\\Lib\\site-packages\\plotly\\io\\_base_renderers.py:729\u001b[0m, in \u001b[0;36mBrowserRenderer.render\u001b[1;34m(self, fig_dict)\u001b[0m\n\u001b[0;32m    714\u001b[0m \u001b[38;5;28;01mfrom\u001b[39;00m\u001b[38;5;250m \u001b[39m\u001b[38;5;21;01mplotly\u001b[39;00m\u001b[38;5;21;01m.\u001b[39;00m\u001b[38;5;21;01mio\u001b[39;00m\u001b[38;5;250m \u001b[39m\u001b[38;5;28;01mimport\u001b[39;00m to_html\n\u001b[0;32m    716\u001b[0m html \u001b[38;5;241m=\u001b[39m to_html(\n\u001b[0;32m    717\u001b[0m     fig_dict,\n\u001b[0;32m    718\u001b[0m     config\u001b[38;5;241m=\u001b[39m\u001b[38;5;28mself\u001b[39m\u001b[38;5;241m.\u001b[39mconfig,\n\u001b[1;32m   (...)\u001b[0m\n\u001b[0;32m    727\u001b[0m     validate\u001b[38;5;241m=\u001b[39m\u001b[38;5;28;01mFalse\u001b[39;00m,\n\u001b[0;32m    728\u001b[0m )\n\u001b[1;32m--> 729\u001b[0m \u001b[43mopen_html_in_browser\u001b[49m\u001b[43m(\u001b[49m\u001b[43mhtml\u001b[49m\u001b[43m,\u001b[49m\u001b[43m \u001b[49m\u001b[38;5;28;43mself\u001b[39;49m\u001b[38;5;241;43m.\u001b[39;49m\u001b[43musing\u001b[49m\u001b[43m,\u001b[49m\u001b[43m \u001b[49m\u001b[38;5;28;43mself\u001b[39;49m\u001b[38;5;241;43m.\u001b[39;49m\u001b[43mnew\u001b[49m\u001b[43m,\u001b[49m\u001b[43m \u001b[49m\u001b[38;5;28;43mself\u001b[39;49m\u001b[38;5;241;43m.\u001b[39;49m\u001b[43mautoraise\u001b[49m\u001b[43m)\u001b[49m\n",
      "File \u001b[1;32mc:\\Users\\AB SOLUTIONS\\Documents\\Full_learning\\data_code\\100_days_of_data\\data\\Lib\\site-packages\\plotly\\io\\_base_renderers.py:657\u001b[0m, in \u001b[0;36mopen_html_in_browser\u001b[1;34m(html, using, new, autoraise)\u001b[0m\n\u001b[0;32m    654\u001b[0m             \u001b[38;5;28;01mpass\u001b[39;00m\n\u001b[0;32m    656\u001b[0m     \u001b[38;5;28;01mif\u001b[39;00m browser \u001b[38;5;129;01mis\u001b[39;00m \u001b[38;5;28;01mNone\u001b[39;00m:\n\u001b[1;32m--> 657\u001b[0m         \u001b[38;5;28;01mraise\u001b[39;00m \u001b[38;5;167;01mValueError\u001b[39;00m(\u001b[38;5;124m\"\u001b[39m\u001b[38;5;124mCan\u001b[39m\u001b[38;5;124m'\u001b[39m\u001b[38;5;124mt locate a browser with key in \u001b[39m\u001b[38;5;124m\"\u001b[39m \u001b[38;5;241m+\u001b[39m \u001b[38;5;28mstr\u001b[39m(using))\n\u001b[0;32m    659\u001b[0m \u001b[38;5;28;01mclass\u001b[39;00m\u001b[38;5;250m \u001b[39m\u001b[38;5;21;01mOneShotRequestHandler\u001b[39;00m(BaseHTTPRequestHandler):\n\u001b[0;32m    660\u001b[0m     \u001b[38;5;28;01mdef\u001b[39;00m\u001b[38;5;250m \u001b[39m\u001b[38;5;21mdo_GET\u001b[39m(\u001b[38;5;28mself\u001b[39m):\n",
      "\u001b[1;31mValueError\u001b[0m: Can't locate a browser with key in ('chrome', 'google-chrome')"
     ]
    }
   ],
   "source": [
    "for var in var_num:\n",
    "    fig = px.box(\n",
    "        df, x='Température Moyenne (°C)', y=var, title=var + ' Exploration', color='Température Moyenne (°C)'\n",
    "    )\n",
    "    fig.show()  # Correct\n"
   ]
  },
  {
   "cell_type": "code",
   "execution_count": 39,
   "metadata": {},
   "outputs": [
    {
     "ename": "ValueError",
     "evalue": "Renderer must be specified as a string",
     "output_type": "error",
     "traceback": [
      "\u001b[1;31m---------------------------------------------------------------------------\u001b[0m",
      "\u001b[1;31mValueError\u001b[0m                                Traceback (most recent call last)",
      "Cell \u001b[1;32mIn[39], line 7\u001b[0m\n\u001b[0;32m      3\u001b[0m \u001b[38;5;28;01mfor\u001b[39;00m var \u001b[38;5;129;01min\u001b[39;00m var_num:\n\u001b[0;32m      4\u001b[0m     fig \u001b[38;5;241m=\u001b[39m px\u001b[38;5;241m.\u001b[39mbox(\n\u001b[0;32m      5\u001b[0m         df, x\u001b[38;5;241m=\u001b[39m\u001b[38;5;124m'\u001b[39m\u001b[38;5;124mTempérature Moyenne (°C)\u001b[39m\u001b[38;5;124m'\u001b[39m, y\u001b[38;5;241m=\u001b[39mvar, title\u001b[38;5;241m=\u001b[39mvar \u001b[38;5;241m+\u001b[39m \u001b[38;5;124m'\u001b[39m\u001b[38;5;124mExploration\u001b[39m\u001b[38;5;124m'\u001b[39m, color\u001b[38;5;241m=\u001b[39m\u001b[38;5;124m'\u001b[39m\u001b[38;5;124mTempérature Moyenne (°C)\u001b[39m\u001b[38;5;124m'\u001b[39m\n\u001b[0;32m      6\u001b[0m     )\n\u001b[1;32m----> 7\u001b[0m     \u001b[43mfig\u001b[49m\u001b[38;5;241;43m.\u001b[39;49m\u001b[43mshow\u001b[49m\u001b[43m(\u001b[49m\u001b[43mfig\u001b[49m\u001b[43m)\u001b[49m\n",
      "File \u001b[1;32mc:\\Users\\AB SOLUTIONS\\Documents\\Full_learning\\data_code\\100_days_of_data\\data\\Lib\\site-packages\\plotly\\basedatatypes.py:3414\u001b[0m, in \u001b[0;36mBaseFigure.show\u001b[1;34m(self, *args, **kwargs)\u001b[0m\n\u001b[0;32m   3381\u001b[0m \u001b[38;5;250m\u001b[39m\u001b[38;5;124;03m\"\"\"\u001b[39;00m\n\u001b[0;32m   3382\u001b[0m \u001b[38;5;124;03mShow a figure using either the default renderer(s) or the renderer(s)\u001b[39;00m\n\u001b[0;32m   3383\u001b[0m \u001b[38;5;124;03mspecified by the renderer argument\u001b[39;00m\n\u001b[1;32m   (...)\u001b[0m\n\u001b[0;32m   3410\u001b[0m \u001b[38;5;124;03mNone\u001b[39;00m\n\u001b[0;32m   3411\u001b[0m \u001b[38;5;124;03m\"\"\"\u001b[39;00m\n\u001b[0;32m   3412\u001b[0m \u001b[38;5;28;01mimport\u001b[39;00m\u001b[38;5;250m \u001b[39m\u001b[38;5;21;01mplotly\u001b[39;00m\u001b[38;5;21;01m.\u001b[39;00m\u001b[38;5;21;01mio\u001b[39;00m\u001b[38;5;250m \u001b[39m\u001b[38;5;28;01mas\u001b[39;00m\u001b[38;5;250m \u001b[39m\u001b[38;5;21;01mpio\u001b[39;00m\n\u001b[1;32m-> 3414\u001b[0m \u001b[38;5;28;01mreturn\u001b[39;00m \u001b[43mpio\u001b[49m\u001b[38;5;241;43m.\u001b[39;49m\u001b[43mshow\u001b[49m\u001b[43m(\u001b[49m\u001b[38;5;28;43mself\u001b[39;49m\u001b[43m,\u001b[49m\u001b[43m \u001b[49m\u001b[38;5;241;43m*\u001b[39;49m\u001b[43margs\u001b[49m\u001b[43m,\u001b[49m\u001b[43m \u001b[49m\u001b[38;5;241;43m*\u001b[39;49m\u001b[38;5;241;43m*\u001b[39;49m\u001b[43mkwargs\u001b[49m\u001b[43m)\u001b[49m\n",
      "File \u001b[1;32mc:\\Users\\AB SOLUTIONS\\Documents\\Full_learning\\data_code\\100_days_of_data\\data\\Lib\\site-packages\\plotly\\io\\_renderers.py:417\u001b[0m, in \u001b[0;36mshow\u001b[1;34m(fig, renderer, validate, **kwargs)\u001b[0m\n\u001b[0;32m    414\u001b[0m fig_dict \u001b[38;5;241m=\u001b[39m validate_coerce_fig_to_dict(fig, validate)\n\u001b[0;32m    416\u001b[0m \u001b[38;5;66;03m# Mimetype renderers\u001b[39;00m\n\u001b[1;32m--> 417\u001b[0m bundle \u001b[38;5;241m=\u001b[39m \u001b[43mrenderers\u001b[49m\u001b[38;5;241;43m.\u001b[39;49m\u001b[43m_build_mime_bundle\u001b[49m\u001b[43m(\u001b[49m\u001b[43mfig_dict\u001b[49m\u001b[43m,\u001b[49m\u001b[43m \u001b[49m\u001b[43mrenderers_string\u001b[49m\u001b[38;5;241;43m=\u001b[39;49m\u001b[43mrenderer\u001b[49m\u001b[43m,\u001b[49m\u001b[43m \u001b[49m\u001b[38;5;241;43m*\u001b[39;49m\u001b[38;5;241;43m*\u001b[39;49m\u001b[43mkwargs\u001b[49m\u001b[43m)\u001b[49m\n\u001b[0;32m    418\u001b[0m \u001b[38;5;28;01mif\u001b[39;00m bundle:\n\u001b[0;32m    419\u001b[0m     \u001b[38;5;28;01mif\u001b[39;00m \u001b[38;5;129;01mnot\u001b[39;00m ipython_display:\n",
      "File \u001b[1;32mc:\\Users\\AB SOLUTIONS\\Documents\\Full_learning\\data_code\\100_days_of_data\\data\\Lib\\site-packages\\plotly\\io\\_renderers.py:305\u001b[0m, in \u001b[0;36mRenderersConfig._build_mime_bundle\u001b[1;34m(self, fig_dict, renderers_string, **kwargs)\u001b[0m\n\u001b[0;32m    284\u001b[0m \u001b[38;5;250m\u001b[39m\u001b[38;5;124;03m\"\"\"\u001b[39;00m\n\u001b[0;32m    285\u001b[0m \u001b[38;5;124;03mBuild a mime bundle dict containing a kev/value pair for each\u001b[39;00m\n\u001b[0;32m    286\u001b[0m \u001b[38;5;124;03mMimetypeRenderer specified in either the default renderer string,\u001b[39;00m\n\u001b[1;32m   (...)\u001b[0m\n\u001b[0;32m    302\u001b[0m \u001b[38;5;124;03mdict\u001b[39;00m\n\u001b[0;32m    303\u001b[0m \u001b[38;5;124;03m\"\"\"\u001b[39;00m\n\u001b[0;32m    304\u001b[0m \u001b[38;5;28;01mif\u001b[39;00m renderers_string:\n\u001b[1;32m--> 305\u001b[0m     renderer_names \u001b[38;5;241m=\u001b[39m \u001b[38;5;28;43mself\u001b[39;49m\u001b[38;5;241;43m.\u001b[39;49m\u001b[43m_validate_coerce_renderers\u001b[49m\u001b[43m(\u001b[49m\u001b[43mrenderers_string\u001b[49m\u001b[43m)\u001b[49m\n\u001b[0;32m    306\u001b[0m     renderers_list \u001b[38;5;241m=\u001b[39m [\u001b[38;5;28mself\u001b[39m[name] \u001b[38;5;28;01mfor\u001b[39;00m name \u001b[38;5;129;01min\u001b[39;00m renderer_names]\n\u001b[0;32m    308\u001b[0m     \u001b[38;5;66;03m# Activate these non-default renderers\u001b[39;00m\n",
      "File \u001b[1;32mc:\\Users\\AB SOLUTIONS\\Documents\\Full_learning\\data_code\\100_days_of_data\\data\\Lib\\site-packages\\plotly\\io\\_renderers.py:243\u001b[0m, in \u001b[0;36mRenderersConfig._validate_coerce_renderers\u001b[1;34m(self, renderers_string)\u001b[0m\n\u001b[0;32m    241\u001b[0m \u001b[38;5;66;03m# Validate value\u001b[39;00m\n\u001b[0;32m    242\u001b[0m \u001b[38;5;28;01mif\u001b[39;00m \u001b[38;5;129;01mnot\u001b[39;00m \u001b[38;5;28misinstance\u001b[39m(renderers_string, \u001b[38;5;28mstr\u001b[39m):\n\u001b[1;32m--> 243\u001b[0m     \u001b[38;5;28;01mraise\u001b[39;00m \u001b[38;5;167;01mValueError\u001b[39;00m(\u001b[38;5;124m\"\u001b[39m\u001b[38;5;124mRenderer must be specified as a string\u001b[39m\u001b[38;5;124m\"\u001b[39m)\n\u001b[0;32m    245\u001b[0m renderer_names \u001b[38;5;241m=\u001b[39m renderers_string\u001b[38;5;241m.\u001b[39msplit(\u001b[38;5;124m\"\u001b[39m\u001b[38;5;124m+\u001b[39m\u001b[38;5;124m\"\u001b[39m)\n\u001b[0;32m    246\u001b[0m invalid \u001b[38;5;241m=\u001b[39m [name \u001b[38;5;28;01mfor\u001b[39;00m name \u001b[38;5;129;01min\u001b[39;00m renderer_names \u001b[38;5;28;01mif\u001b[39;00m name \u001b[38;5;129;01mnot\u001b[39;00m \u001b[38;5;129;01min\u001b[39;00m \u001b[38;5;28mself\u001b[39m]\n",
      "\u001b[1;31mValueError\u001b[0m: Renderer must be specified as a string"
     ]
    }
   ],
   "source": [
    "import plotly.express as px\n",
    "\n",
    "for var in var_num:\n",
    "    fig = px.box(\n",
    "        df, x='Température Moyenne (°C)', y=var, title=var + 'Exploration', color='Température Moyenne (°C)'\n",
    "    )\n",
    "    fig.show(fig)"
   ]
  },
  {
   "cell_type": "code",
   "execution_count": 40,
   "metadata": {},
   "outputs": [
    {
     "name": "stdout",
     "output_type": "stream",
     "text": [
      "<class 'pandas.core.frame.DataFrame'>\n",
      "RangeIndex: 500 entries, 0 to 499\n",
      "Data columns (total 15 columns):\n",
      " #   Column                     Non-Null Count  Dtype  \n",
      "---  ------                     --------------  -----  \n",
      " 0   ID                         500 non-null    int64  \n",
      " 1   Région                     500 non-null    object \n",
      " 2   Type de Sol                500 non-null    object \n",
      " 3   Type de Culture            500 non-null    object \n",
      " 4   Surface Cultivée (ha)      500 non-null    float64\n",
      " 5   Température Moyenne (°C)   500 non-null    float64\n",
      " 6   Humidité (%)               500 non-null    float64\n",
      " 7   Précipitations (mm)        500 non-null    float64\n",
      " 8   Mode d'Irrigation          500 non-null    object \n",
      " 9   Présence de Maladies       500 non-null    object \n",
      " 10  Type de Pesticide          500 non-null    object \n",
      " 11  Rendement (tonnes/ha)      500 non-null    float64\n",
      " 12  Coût de Production ($/ha)  500 non-null    float64\n",
      " 13  Prix de Vente ($/tonne)    500 non-null    float64\n",
      " 14  Profit Total ($)           500 non-null    float64\n",
      "dtypes: float64(8), int64(1), object(6)\n",
      "memory usage: 58.7+ KB\n"
     ]
    }
   ],
   "source": [
    "df.info()\n"
   ]
  },
  {
   "cell_type": "markdown",
   "metadata": {},
   "source": [
    "\n",
    "✅ Jour 23-24 : Gestion des valeurs manquantes et duplication\n",
    "Les datasets contiennent souvent des données manquantes ou en double qu'il faut nettoyer.\n"
   ]
  },
  {
   "cell_type": "code",
   "execution_count": null,
   "metadata": {},
   "outputs": [
    {
     "name": "stdout",
     "output_type": "stream",
     "text": [
      "Données brutes :\n",
      "  Culture  Rendement (t/ha)\n",
      "0    Maïs               8.0\n",
      "1     Blé               NaN\n",
      "2     Riz               7.5\n",
      "3    None               6.0\n",
      "Données après suppression des valeurs manquantes :\n",
      "  Culture  Rendement (t/ha)\n",
      "0    Maïs               8.0\n",
      "2     Riz               7.5\n",
      "Données après remplissage des valeurs manquantes :\n",
      "   Culture  Rendement (t/ha)\n",
      "0     Maïs          8.000000\n",
      "1      Blé          7.166667\n",
      "2      Riz          7.500000\n",
      "3  Inconnu          6.000000\n"
     ]
    }
   ],
   "source": [
    "import pandas as pd\n",
    "\n",
    "# Création d’un DataFrame avec des valeurs manquantes\n",
    "data = {\n",
    "    \"Culture\": [\"Maïs\", \"Blé\", \"Riz\", None],\n",
    "    \"Rendement (t/ha)\": [8, None, 7.5, 6]\n",
    "}\n",
    "\n",
    "df = pd.DataFrame(data)\n",
    "\n",
    "\n",
    "# Supprimer les lignes avec des valeurs manquantes\n",
    "df_clean = df.dropna()\n",
    "print(\"Données après suppression des valeurs manquantes :\")\n",
    "print(df_clean)\n",
    "\n"
   ]
  },
  {
   "cell_type": "code",
   "execution_count": null,
   "metadata": {},
   "outputs": [],
   "source": [
    "import pandas as pd\n",
    "\n",
    "# Création d’un DataFrame avec des valeurs manquantes\n",
    "data = {\n",
    "    \"Culture\": [\"Maïs\", \"Blé\", \"Riz\", None],\n",
    "    \"Rendement (t/ha)\": [8, None, 7.5, 6]\n",
    "}\n",
    "\n",
    "df = pd.DataFrame(data)\n",
    "\n",
    "# Remplacer les valeurs manquantes par une valeur spécifique\n",
    "df_filled = df.fillna({\"Culture\": \"Inconnu\", \"Rendement (t/ha)\": df[\"Rendement (t/ha)\"].mean()})\n",
    "print(\"Données après remplissage des valeurs manquantes :\")\n",
    "print(df_filled)\n"
   ]
  },
  {
   "cell_type": "code",
   "execution_count": null,
   "metadata": {},
   "outputs": [],
   "source": [
    "import pandas as pd\n",
    "\n",
    "# Création d’un DataFrame avec des valeurs manquantes\n",
    "data = {\n",
    "    \"Culture\": [\"Maïs\", \"Blé\", \"Riz\", None],\n",
    "    \"Rendement (t/ha)\": [8, None, 7.5, 6]\n",
    "}\n",
    "\n",
    "df = pd.DataFrame(data)\n",
    "print(\"Données brutes :\")\n",
    "print(df)\n",
    "\n",
    "# Supprimer les lignes avec des valeurs manquantes\n",
    "df_clean = df.dropna()\n",
    "print(\"Données après suppression des valeurs manquantes :\")\n",
    "print(df_clean)\n",
    "\n",
    "# Remplacer les valeurs manquantes par une valeur spécifique\n",
    "df_filled = df.fillna({\"Culture\": \"Inconnu\", \"Rendement (t/ha)\": df[\"Rendement (t/ha)\"].mean()})\n",
    "print(\"Données après remplissage des valeurs manquantes :\")\n",
    "print(df_filled)\n"
   ]
  },
  {
   "cell_type": "markdown",
   "metadata": {},
   "source": [
    "\n",
    "✅ Jour 25-26 : GroupBy, merges et transformations avancées\n",
    "Pandas permet d’agréger des données par groupes, de fusionner des DataFrames et de transformer des données.\n"
   ]
  },
  {
   "cell_type": "code",
   "execution_count": null,
   "metadata": {},
   "outputs": [
    {
     "name": "stdout",
     "output_type": "stream",
     "text": [
      "Rendement moyen par culture :\n",
      "Culture\n",
      "Blé     6.5\n",
      "Maïs    8.5\n",
      "Riz     7.5\n",
      "Name: Rendement (t/ha), dtype: float64\n",
      "Données fusionnées :\n",
      "  Parcelle Culture  Rendement (t/ha)  Surface (ha)\n",
      "0        A    Maïs               8.0            20\n",
      "1        A    Maïs               9.0            20\n",
      "2        B     Blé               6.0            15\n",
      "3        B     Blé               7.0            15\n",
      "4        C     Riz               7.5            10\n"
     ]
    }
   ],
   "source": [
    "import pandas as pd\n",
    "\n",
    "# Création d’un DataFrame contenant des récoltes sur différentes parcelles\n",
    "data = {\n",
    "    \"Parcelle\": [\"A\", \"A\", \"B\", \"B\", \"C\"],\n",
    "    \"Culture\": [\"Maïs\", \"Maïs\", \"Blé\", \"Blé\", \"Riz\"],\n",
    "    \"Rendement (t/ha)\": [8, 9, 6, 7, 7.5]\n",
    "}\n",
    "\n",
    "df = pd.DataFrame(data)\n",
    "\n",
    "# Regrouper les données par culture et calculer la moyenne des rendements\n",
    "rendement_moyen = df.groupby(\"Culture\")[\"Rendement (t/ha)\"].mean()\n",
    "\n",
    "print(\"Rendement moyen par culture :\")\n",
    "print(rendement_moyen)\n"
   ]
  },
  {
   "cell_type": "code",
   "execution_count": null,
   "metadata": {},
   "outputs": [],
   "source": [
    "import pandas as pd\n",
    "\n",
    "# Création d’un DataFrame contenant des récoltes sur différentes parcelles\n",
    "data = {\n",
    "    \"Parcelle\": [\"A\", \"A\", \"B\", \"B\", \"C\"],\n",
    "    \"Culture\": [\"Maïs\", \"Maïs\", \"Blé\", \"Blé\", \"Riz\"],\n",
    "    \"Rendement (t/ha)\": [8, 9, 6, 7, 7.5]\n",
    "}\n",
    "\n",
    "df = pd.DataFrame(data)\n",
    "\n",
    "# Fusionner deux DataFrames\n",
    "df_surface = pd.DataFrame({\n",
    "    \"Culture\": [\"Maïs\", \"Blé\", \"Riz\"],\n",
    "    \"Surface (ha)\": [20, 15, 10]\n",
    "})\n",
    "\n",
    "df_final = pd.merge(df, df_surface, on=\"Culture\", how=\"left\")\n",
    "print(\"Données fusionnées :\")\n",
    "print(df_final)\n"
   ]
  },
  {
   "cell_type": "markdown",
   "metadata": {},
   "source": [
    "\n",
    "## Semaine 5-6 : Visualisation de données agricoles avec Matplotlib & Seaborn (14 jours)\n"
   ]
  },
  {
   "cell_type": "markdown",
   "metadata": {},
   "source": [
    "\n",
    "✅ Jour 27-28 : Introduction à Matplotlib (barres, lignes, histogrammes)\n",
    "Matplotlib est la bibliothèque de base pour la création de graphiques en Python. Elle permet d’afficher des courbes, des histogrammes et des diagrammes en barres pour mieux comprendre les données.\n",
    "\n",
    "pip install matplotlib\n"
   ]
  },
  {
   "cell_type": "code",
   "execution_count": 43,
   "metadata": {},
   "outputs": [
    {
     "data": {
      "image/png": "[encoded data removed]",
      "text/plain": [
       "<Figure size 640x480 with 1 Axes>"
      ]
     },
     "metadata": {},
     "output_type": "display_data"
    }
   ],
   "source": [
    "import matplotlib.pyplot as plt\n",
    "\n",
    "# Données des rendements par culture\n",
    "cultures = [\"Maïs\", \"Blé\", \"Riz\"]\n",
    "rendements = [8, 6, 7.5]\n",
    "\n",
    "# Création du graphique en barres\n",
    "plt.bar(cultures, rendements, color=[\"green\", \"gold\", \"blue\"])\n",
    "plt.xlabel(\"Cultures\")\n",
    "plt.ylabel(\"Rendement (t/ha)\")\n",
    "plt.title(\"Rendements agricoles par culture\")\n",
    "\n",
    "# Affichage du graphique\n",
    "plt.show()\n"
   ]
  },
  {
   "cell_type": "code",
   "execution_count": 44,
   "metadata": {},
   "outputs": [
    {
     "data": {
      "image/png": "[encoded data removed]",
      "text/plain": [
       "<Figure size 640x480 with 1 Axes>"
      ]
     },
     "metadata": {},
     "output_type": "display_data"
    }
   ],
   "source": [
    "import numpy as np\n",
    "\n",
    "# Génération de données de températures aléatoires (°C)\n",
    "temperatures = np.random.normal(25, 3, 100)  # Moyenne 25°C, écart-type 3°C\n",
    "\n",
    "plt.hist(temperatures, bins=10, color=\"skyblue\", edgecolor=\"black\")\n",
    "plt.xlabel(\"Température (°C)\")\n",
    "plt.ylabel(\"Fréquence\")\n",
    "plt.title(\"Distribution des températures sur un mois\")\n",
    "\n",
    "plt.show()\n"
   ]
  },
  {
   "cell_type": "markdown",
   "metadata": {},
   "source": [
    "\n",
    "✅ Jour 29-30 : Customisation des graphiques\n",
    "Pour rendre un graphique plus lisible et professionnel, on peut ajouter des couleurs, des styles et des annotations.\n"
   ]
  },
  {
   "cell_type": "code",
   "execution_count": 45,
   "metadata": {},
   "outputs": [
    {
     "data": {
      "image/png": "[encoded data removed]",
      "text/plain": [
       "<Figure size 640x480 with 1 Axes>"
      ]
     },
     "metadata": {},
     "output_type": "display_data"
    }
   ],
   "source": [
    "import matplotlib.pyplot as plt\n",
    "\n",
    "# Données\n",
    "annees = [2018, 2019, 2020, 2021, 2022]\n",
    "rendements_mais = [7, 7.5, 8, 8.2, 8.5]\n",
    "rendements_ble = [5.5, 5.8, 6, 6.2, 6.5]\n",
    "\n",
    "# Création du graphique\n",
    "plt.plot(annees, rendements_mais, marker=\"o\", linestyle=\"--\", color=\"green\", label=\"Maïs\")\n",
    "plt.plot(annees, rendements_ble, marker=\"s\", linestyle=\"-\", color=\"gold\", label=\"Blé\")\n",
    "\n",
    "# Customisation\n",
    "plt.xlabel(\"Années\")\n",
    "plt.ylabel(\"Rendement (t/ha)\")\n",
    "plt.title(\"Évolution des rendements agricoles\")\n",
    "plt.legend()\n",
    "plt.grid(True)\n",
    "\n",
    "plt.show()\n"
   ]
  },
  {
   "cell_type": "markdown",
   "metadata": {},
   "source": [
    "\n",
    "✅ Jour 31-32 : Introduction à Seaborn (graphiques avancés)\n",
    "Seaborn est une bibliothèque qui facilite la création de graphiques avancés et est souvent utilisée pour l’analyse de données.\n",
    "\n",
    "pip install seaborn\n"
   ]
  },
  {
   "cell_type": "code",
   "execution_count": 46,
   "metadata": {},
   "outputs": [
    {
     "name": "stderr",
     "output_type": "stream",
     "text": [
      "C:\\Users\\AB SOLUTIONS\\AppData\\Local\\Temp\\ipykernel_8828\\3638933177.py:13: FutureWarning:\n",
      "\n",
      "\n",
      "\n",
      "Passing `palette` without assigning `hue` is deprecated and will be removed in v0.14.0. Assign the `x` variable to `hue` and set `legend=False` for the same effect.\n",
      "\n",
      "\n"
     ]
    },
    {
     "data": {
      "image/png": "[encoded data removed]",
      "text/plain": [
       "<Figure size 640x480 with 1 Axes>"
      ]
     },
     "metadata": {},
     "output_type": "display_data"
    }
   ],
   "source": [
    "import seaborn as sns\n",
    "import pandas as pd\n",
    "\n",
    "# Création d’un dataset fictif\n",
    "data = {\n",
    "    \"Culture\": [\"Maïs\", \"Maïs\", \"Blé\", \"Blé\", \"Riz\", \"Riz\"],\n",
    "    \"Rendement (t/ha)\": [7, 8.5, 5.5, 6.2, 7, 7.8]\n",
    "}\n",
    "\n",
    "df = pd.DataFrame(data)\n",
    "\n",
    "# Création du boxplot\n",
    "sns.boxplot(x=\"Culture\", y=\"Rendement (t/ha)\", data=df, palette=\"pastel\")\n",
    "\n",
    "plt.title(\"Répartition des rendements par culture\")\n",
    "plt.show()\n"
   ]
  },
  {
   "cell_type": "markdown",
   "metadata": {},
   "source": [
    "\n",
    "✅ Jour 33-34 : Analyse exploratoire avec Seaborn\n",
    "L’analyse exploratoire permet d’observer les tendances et les relations entre différentes variables d’un dataset.\n"
   ]
  },
  {
   "cell_type": "code",
   "execution_count": 47,
   "metadata": {},
   "outputs": [
    {
     "data": {
      "image/png": "[encoded data removed]",
      "text/plain": [
       "<Figure size 640x480 with 1 Axes>"
      ]
     },
     "metadata": {},
     "output_type": "display_data"
    }
   ],
   "source": [
    "# Création d’un dataset fictif\n",
    "data = {\n",
    "    \"Surface (ha)\": [5, 10, 15, 20, 25, 30],\n",
    "    \"Rendement (t/ha)\": [6, 7, 7.5, 8, 8.2, 8.5]\n",
    "}\n",
    "\n",
    "df = pd.DataFrame(data)\n",
    "\n",
    "# Nuage de points avec Seaborn\n",
    "sns.scatterplot(x=\"Surface (ha)\", y=\"Rendement (t/ha)\", data=df, color=\"green\")\n",
    "\n",
    "plt.title(\"Relation entre la surface cultivée et le rendement\")\n",
    "plt.show()\n"
   ]
  },
  {
   "cell_type": "markdown",
   "metadata": {},
   "source": [
    "\n",
    "✅ Jour 35-36 : Storytelling avec la data\n",
    "Le storytelling consiste à utiliser des graphiques pour raconter une histoire claire et impactante.\n"
   ]
  },
  {
   "cell_type": "code",
   "execution_count": 48,
   "metadata": {},
   "outputs": [
    {
     "data": {
      "image/png": "[encoded data removed]",
      "text/plain": [
       "<Figure size 1000x500 with 1 Axes>"
      ]
     },
     "metadata": {},
     "output_type": "display_data"
    }
   ],
   "source": [
    "# Création d'un dataset fictif\n",
    "data = {\n",
    "    \"Année\": [2018, 2019, 2020, 2021, 2022],\n",
    "    \"Maïs\": [7, 7.5, 8, 8.2, 8.5],\n",
    "    \"Blé\": [5.5, 5.8, 6, 6.2, 6.5],\n",
    "    \"Riz\": [6.8, 7, 7.2, 7.5, 7.8]\n",
    "}\n",
    "\n",
    "df = pd.DataFrame(data)\n",
    "\n",
    "# Création d’un graphique combiné\n",
    "plt.figure(figsize=(10, 5))\n",
    "sns.lineplot(x=\"Année\", y=\"Maïs\", data=df, marker=\"o\", label=\"Maïs\", color=\"green\")\n",
    "sns.lineplot(x=\"Année\", y=\"Blé\", data=df, marker=\"s\", label=\"Blé\", color=\"gold\")\n",
    "sns.lineplot(x=\"Année\", y=\"Riz\", data=df, marker=\"d\", label=\"Riz\", color=\"blue\")\n",
    "\n",
    "plt.title(\"Évolution des rendements agricoles (2018-2022)\")\n",
    "plt.xlabel(\"Année\")\n",
    "plt.ylabel(\"Rendement (t/ha)\")\n",
    "plt.legend()\n",
    "plt.grid(True)\n",
    "\n",
    "plt.show()\n"
   ]
  },
  {
   "cell_type": "markdown",
   "metadata": {},
   "source": [
    "## Semaine 7-8 : SQL pour la gestion de bases de données agricoles (14 jours)\n"
   ]
  },
  {
   "cell_type": "markdown",
   "metadata": {},
   "source": [
    "\n",
    "✅ Jour 37-38 : Introduction aux bases de données relationnelles\n",
    "Les bases de données relationnelles sont des systèmes permettant de stocker et d’organiser les données sous forme de tables reliées entre elles. Chaque table contient des lignes (enregistrements) et des colonnes (champs).\n",
    "\n",
    "Exemple : Une base de données pour une ferme peut contenir :\n",
    "\n",
    "Une table cultures (id, nom, type, rendement)\n",
    "Une table fermiers (id, nom, région)\n",
    "Une table ventes (id, culture_id, date, quantité, prix)\n",
    "📌 SQL (Structured Query Language) est le langage utilisé pour interagir avec ces bases de données.\n",
    "\n",
    "Installation d’une base SQLite pour tester les requêtes :\n",
    "\n",
    "\n",
    "pip install sqlite3\n",
    "\n"
   ]
  },
  {
   "cell_type": "code",
   "execution_count": null,
   "metadata": {},
   "outputs": [],
   "source": [
    "import sqlite3\n",
    "\n",
    "# Connexion à la base de données (ou création si elle n'existe pas)\n",
    "conn = sqlite3.connect(\"ferme.db\")\n",
    "\n",
    "# Création d’un curseur pour exécuter des requêtes SQL\n",
    "cursor = conn.cursor()\n",
    "\n",
    "# Création d’une table des cultures agricoles\n",
    "cursor.execute(\"\"\"\n",
    "CREATE TABLE IF NOT EXISTS cultures (\n",
    "    id INTEGER PRIMARY KEY AUTOINCREMENT,\n",
    "    nom TEXT NOT NULL,\n",
    "    type TEXT,\n",
    "    rendement REAL\n",
    ")\n",
    "\"\"\")\n",
    "\n",
    "# Sauvegarde et fermeture\n",
    "conn\n"
   ]
  },
  {
   "cell_type": "markdown",
   "metadata": {},
   "source": [
    "\n",
    "✅ Jour 39-40 : Requêtes SQL basiques (SELECT, WHERE, ORDER BY)\n",
    "SELECT * FROM cultures;\n",
    "SELECT * FROM cultures ORDER BY rendement DESC;\n",
    "\n",
    "✅ Jour 41-42 : Jointures et relations (JOIN)\n",
    "SELECT champs.nom, cultures.type \n",
    "FROM champs \n",
    "JOIN cultures ON champs.id = cultures.champ_id;\n",
    "\n",
    "SELECT agriculteurs.nom, champs.nom \n",
    "FROM agriculteurs \n",
    "JOIN champs ON agriculteurs.id = champs.agriculteur_id;\n",
    "\n",
    "✅ Jour 43-44 : Agrégations (GROUP BY, HAVING, COUNT, SUM)\n",
    "SELECT type, COUNT(*) AS nombre \n",
    "FROM cultures \n",
    "GROUP BY type;\n",
    "\n",
    "SELECT type, SUM(production) AS production_totale \n",
    "FROM cultures \n",
    "GROUP BY type;\n",
    "\n",
    "✅ Jour 45-46 : Sous-requêtes et fonctions SQL avancées\n",
    "SELECT * FROM cultures \n",
    "WHERE production > (SELECT AVG(production) FROM cultures);\n",
    "\n",
    "SELECT id, DATE_FORMAT(date_enregistrement, '%Y-%m') AS annee_mois \n",
    "FROM cultures;\n",
    "\n",
    "✅ Jour 47-48 : Création et gestion d’une base de données agricole\n",
    "CREATE TABLE cultures (\n",
    "    id INT PRIMARY KEY AUTO_INCREMENT,\n",
    "    type VARCHAR(50),\n",
    "    superficie FLOAT,\n",
    "    production FLOAT,\n",
    "    champ_id INT,\n",
    "    FOREIGN KEY (champ_id) REFERENCES champs(id)\n",
    ");\n",
    "\n",
    "UPDATE cultures \n",
    "SET production = 1200 \n",
    "WHERE id = 3;\n",
    "\n",
    "👉 Projet : Base de données des rendements agricoles par exploitation\n",
    "\n",
    "\n"
   ]
  },
  {
   "cell_type": "markdown",
   "metadata": {},
   "source": [
    "## Semaine 9-10 : Statistiques appliquées à l’AgTech (14 jours)\n"
   ]
  },
  {
   "cell_type": "markdown",
   "metadata": {},
   "source": [
    "\n",
    "✅ Jour 49-50 : Mesures de tendance centrale (moyenne, médiane, mode)\n",
    "Les mesures de tendance centrale permettent de résumer un ensemble de données en une seule valeur représentative.\n",
    "\n",
    "Moyenne (mean) : La somme des valeurs divisée par le nombre total.\n",
    "Médiane (median) : La valeur centrale lorsque les données sont triées.\n",
    "Mode (mode) : La valeur qui apparaît le plus souvent.\n"
   ]
  },
  {
   "cell_type": "code",
   "execution_count": 49,
   "metadata": {},
   "outputs": [
    {
     "name": "stdout",
     "output_type": "stream",
     "text": [
      "Moyenne : 3.7333333333333334\n",
      "Médiane : 3.8\n",
      "Mode : 3.2\n"
     ]
    }
   ],
   "source": [
    "import numpy as np\n",
    "from scipy import stats\n",
    "\n",
    "# Données : rendement d'une culture sur plusieurs parcelles (en tonnes)\n",
    "rendements = [3.2, 4.1, 3.8, 3.2, 4.0, 3.5, 3.9, 4.1, 3.8]\n",
    "\n",
    "moyenne = np.mean(rendements)  # Moyenne\n",
    "mediane = np.median(rendements)  # Médiane\n",
    "mode = stats.mode(rendements)  # Mode\n",
    "\n",
    "print(f\"Moyenne : {moyenne}\")\n",
    "print(f\"Médiane : {mediane}\")\n",
    "print(f\"Mode : {mode[0]}\")\n"
   ]
  },
  {
   "cell_type": "markdown",
   "metadata": {},
   "source": [
    "\n",
    "\n",
    "✅ Jour 51-52 : Variance, écart-type et distributions\n",
    "Ces mesures permettent d’évaluer la dispersion des données.\n",
    "\n",
    "Variance : Mesure à quel point les valeurs sont éloignées de la moyenne.\n",
    "Écart-type : Racine carrée de la variance, exprimée dans la même unité que les données.\n",
    "Distribution : Représente la fréquence des valeurs (ex : normale, uniforme).\n"
   ]
  },
  {
   "cell_type": "code",
   "execution_count": null,
   "metadata": {},
   "outputs": [
    {
     "name": "stdout",
     "output_type": "stream",
     "text": [
      "Variance : 0.111111111111111\n",
      "Écart-type : 0.33333333333333315\n"
     ]
    }
   ],
   "source": [
    "# Variance des rendements\n",
    "\n",
    "variance = np.var(rendements)\n",
    "\n",
    "print(f\"Variance : {variance}\")\n",
    "\n"
   ]
  },
  {
   "cell_type": "code",
   "execution_count": null,
   "metadata": {},
   "outputs": [],
   "source": [
    "# Ecart-type des rendements\n",
    "\n",
    "ecart_type = np.std(rendements)\n",
    "\n",
    "print(f\"Écart-type : {ecart_type}\")\n"
   ]
  },
  {
   "cell_type": "markdown",
   "metadata": {},
   "source": [
    "\n",
    "✅ Jour 53-54 : Corrélations et régressions simples\n",
    "La corrélation mesure la relation entre deux variables (ex : pluie et rendement).\n",
    "La régression linéaire permet de prédire une valeur en fonction d’une autre.\n"
   ]
  },
  {
   "cell_type": "code",
   "execution_count": null,
   "metadata": {},
   "outputs": [
    {
     "name": "stdout",
     "output_type": "stream",
     "text": [
      "Corrélation : 0.9986254289035241\n"
     ]
    },
    {
     "data": {
      "image/png": "[encoded data removed]",
      "text/plain": [
       "<Figure size 640x480 with 1 Axes>"
      ]
     },
     "metadata": {},
     "output_type": "display_data"
    }
   ],
   "source": [
    "import matplotlib.pyplot as plt\n",
    "from scipy.stats import linregress\n",
    "\n",
    "# Données fictives : précipitations (mm) et rendements agricoles (tonnes)\n",
    "precipitations = [50, 60, 70, 80, 90, 100]\n",
    "rendements = [2.5, 2.9, 3.2, 3.5, 3.8, 4.1]\n",
    "\n",
    "# Calcul de la corrélation\n",
    "corr = np.corrcoef(precipitations, rendements)[0, 1]\n",
    "print(f\"Corrélation : {corr}\")\n"
   ]
  },
  {
   "cell_type": "code",
   "execution_count": null,
   "metadata": {},
   "outputs": [],
   "source": [
    "\n",
    "import matplotlib.pyplot as plt\n",
    "from scipy.stats import linregress\n",
    "\n",
    "\n",
    "# Régression linéaire\n",
    "slope, intercept, r_value, p_value, std_err = linregress(precipitations, rendements)\n",
    "\n",
    "# Visualisation\n",
    "plt.scatter(precipitations, rendements, label=\"Données\")\n",
    "plt.plot(precipitations, np.array(precipitations) * slope + intercept, color=\"red\", label=\"Régression\")\n",
    "plt.xlabel(\"Précipitations (mm)\")\n",
    "plt.ylabel(\"Rendement (tonnes)\")\n",
    "plt.legend()\n",
    "plt.show()\n"
   ]
  },
  {
   "cell_type": "markdown",
   "metadata": {},
   "source": [
    "\n",
    "✅ Jour 55-56 : Tests statistiques (T-test, Chi-square)\n",
    "Les tests statistiques aident à valider des hypothèses sur les données.\n",
    "\n",
    "T-test : Compare la moyenne de deux groupes.\n",
    "Chi-square : Vérifie si deux variables catégorielles sont indépendantes.\n"
   ]
  },
  {
   "cell_type": "code",
   "execution_count": 52,
   "metadata": {},
   "outputs": [
    {
     "name": "stdout",
     "output_type": "stream",
     "text": [
      "T-test p-value : 0.0001126385491268688\n"
     ]
    }
   ],
   "source": [
    "from scipy.stats import ttest_ind, chi2_contingency\n",
    "\n",
    "# Deux groupes de rendements (avant et après un nouvel engrais)\n",
    "rendement_avant = [3.1, 3.2, 3.0, 3.3, 3.4]\n",
    "rendement_apres = [3.8, 3.9, 4.0, 4.1, 3.7]\n",
    "\n",
    "# Test T pour comparer les moyennes\n",
    "t_stat, p_value = ttest_ind(rendement_avant, rendement_apres)\n",
    "print(f\"T-test p-value : {p_value}\")\n",
    "\n",
    "# Si p-value < 0.05, la différence est significative.\n"
   ]
  },
  {
   "cell_type": "markdown",
   "metadata": {},
   "source": [
    "\n",
    "✅ Jour 57-58 : Hypothèses et prise de décision basée sur la data\n",
    "L’analyse statistique permet de prendre des décisions éclairées.\n",
    "\n",
    "Hypothèse nulle (H₀) : Aucune différence entre les groupes.\n",
    "Hypothèse alternative (H₁) : Il y a une différence.\n",
    "Si p-value < 0.05, on rejette H₀ et on accepte H₁.\n"
   ]
  },
  {
   "cell_type": "markdown",
   "metadata": {},
   "source": [
    "\n",
    "✅ Jour 59 : Étude de cas et exercices\n",
    "Objectif : Appliquer les notions apprises sur un jeu de données agricoles.\n",
    "\n",
    "Idée d’exercice :\n",
    "\n",
    "Charger un dataset (ex : précipitations, rendements, engrais).\n",
    "Calculer les statistiques descriptives.\n",
    "Analyser la relation entre précipitations et rendement.\n",
    "Effectuer un test statistique pour voir si un nouvel engrais améliore la production.\n",
    "\n",
    "📌 Outils utiles : Pandas, NumPy, Matplotlib, Seaborn, SciPy."
   ]
  },
  {
   "cell_type": "code",
   "execution_count": null,
   "metadata": {},
   "outputs": [],
   "source": [
    "import pandas as pd  \n",
    "\n",
    "# Charger les données\n",
    "data = pd.DataFrame({\n",
    "    \"precipitations\": [50, 60, 70, 80, 90, 100],\n",
    "    \"rendement\": [2.5, 2.9, 3.2, 3.5, 3.8, 4.1],\n",
    "    \"engrais\": [1, 0, 1, 1, 0, 1]  # 1 = nouvel engrais, 0 = ancien\n",
    "})\n",
    "\n",
    "print(data.head())  # Aperçu des données\n",
    "# Statistiques descriptives\n",
    "print(data.describe())\n",
    "\n",
    "# Moyenne des rendements\n",
    "print(\"Moyenne des rendements :\", data[\"rendement\"].mean())\n",
    "\n",
    "# Médiane des précipitations\n",
    "print(\"Médiane des précipitations :\", data[\"precipitations\"].median())\n",
    "import matplotlib.pyplot as plt\n",
    "import seaborn as sns\n",
    "\n",
    "# Histogramme des rendements\n",
    "sns.histplot(data[\"rendement\"], bins=5, kde=True)\n",
    "plt.title(\"Distribution des rendements agricoles\")\n",
    "plt.xlabel(\"Rendement (tonnes)\")\n",
    "plt.ylabel(\"Fréquence\")\n",
    "plt.show()\n"
   ]
  },
  {
   "cell_type": "markdown",
   "metadata": {},
   "source": [
    "Jour 60 : Étude de cas et exercices\n"
   ]
  },
  {
   "cell_type": "code",
   "execution_count": null,
   "metadata": {},
   "outputs": [],
   "source": [
    "import numpy as np\n",
    "from scipy.stats import ttest_ind\n",
    "\n",
    "# Calcul de la corrélation\n",
    "correlation = np.corrcoef(data[\"precipitations\"], data[\"rendement\"])[0, 1]\n",
    "print(f\"Corrélation entre précipitations et rendement : {correlation:.2f}\")\n",
    "\n",
    "# Nuage de points\n",
    "sns.scatterplot(x=data[\"precipitations\"], y=data[\"rendement\"])\n",
    "plt.title(\"Relation entre précipitations et rendement\")\n",
    "plt.xlabel(\"Précipitations (mm)\")\n",
    "plt.ylabel(\"Rendement (tonnes)\")\n",
    "plt.show()\n",
    "\n",
    "# Séparer les rendements selon l'engrais utilisé\n",
    "ancien_engrais = data[data[\"engrais\"] == 0][\"rendement\"]\n",
    "nouvel_engrais = data[data[\"engrais\"] == 1][\"rendement\"]\n",
    "\n",
    "# Test de Student\n",
    "t_stat, p_value = ttest_ind(ancien_engrais, nouvel_engrais)\n",
    "print(f\"Test T : p-value = {p_value:.4f}\")\n",
    "\n",
    "# Interprétation\n",
    "if p_value < 0.05:\n",
    "    print(\"L'effet du nouvel engrais est significatif sur le rendement.\")\n",
    "else:\n",
    "    print(\"Aucune différence significative entre les deux engrais.\")\n"
   ]
  },
  {
   "cell_type": "code",
   "execution_count": null,
   "metadata": {},
   "outputs": [],
   "source": []
  },
  {
   "cell_type": "markdown",
   "metadata": {},
   "source": [
    "## Semaine 11-12 : BI & Tableaux de bord pour l’agriculture (14 jours)\n"
   ]
  },
  {
   "cell_type": "markdown",
   "metadata": {},
   "source": [
    "\n",
    "✅ Jour 61-62 : Introduction à Power BI \n",
    "Power BI est un outil populaire de Business Intelligence (BI) utilisé pour visualiser des données et créer des tableaux de bord interactifs.\n",
    "\n",
    "Power BI (Microsoft) : Idéal pour les entreprises travaillant avec Excel et Azure.\n",
    "📌 Pourquoi utiliser cette outils ?\n",
    "\n",
    "Permettent d’analyser rapidement de grandes quantités de données.\n",
    "Offrent des visualisations interactives et dynamiques.\n",
    "Peuvent se connecter à différentes sources de données (Excel, SQL, APIs...).\n"
   ]
  },
  {
   "cell_type": "markdown",
   "metadata": {},
   "source": [
    "\n",
    "✅ Jour 63-64 : Connexion aux sources de données\n",
    "Power BI et Tableau peuvent se connecter à plusieurs sources :\n",
    "\n",
    "Fichiers plats : Excel, CSV.\n",
    "Bases de données : PostgreSQL, MySQL, SQL Server.\n",
    "APIs et services cloud : Google Sheets, AWS, Azure.\n",
    "📌 Exemple en Python : Charger un fichier CSV et l’analyser avec Pandas"
   ]
  },
  {
   "cell_type": "code",
   "execution_count": null,
   "metadata": {},
   "outputs": [],
   "source": [
    "import pandas as pd\n",
    "\n",
    "# Charger un fichier CSV contenant des données agricoles\n",
    "df = pd.read_csv(\"dataset_agtech.csv\")\n",
    "\n",
    "# Afficher les 5 premières lignes\n",
    "print(df.head())\n",
    "\n",
    "# Vérifier les types de données\n",
    "print(df.info())\n"
   ]
  },
  {
   "cell_type": "markdown",
   "metadata": {},
   "source": [
    "\n",
    "\n",
    "✅ Jour 65-66 : Création de tableaux de bord interactifs\n",
    "Un tableau de bord permet de regrouper plusieurs graphiques et indicateurs pour faciliter l’analyse des données.\n",
    "\n",
    "📌 Exemples de visualisations utiles en AgTech :\n",
    "\n",
    "Carte de chaleur : Répartition des cultures sur une carte.\n",
    "Graphiques en barres : Comparaison des rendements par région.\n",
    "Graphiques linéaires : Suivi de l’évolution des précipitations et du rendement.\n",
    "📌 Exemple en Python avec Plotly (alternative BI open-source)"
   ]
  },
  {
   "cell_type": "code",
   "execution_count": 53,
   "metadata": {},
   "outputs": [
    {
     "ename": "ValueError",
     "evalue": "Can't locate a browser with key in ('chrome', 'google-chrome')",
     "output_type": "error",
     "traceback": [
      "\u001b[1;31m---------------------------------------------------------------------------\u001b[0m",
      "\u001b[1;31mValueError\u001b[0m                                Traceback (most recent call last)",
      "Cell \u001b[1;32mIn[53], line 11\u001b[0m\n\u001b[0;32m      9\u001b[0m \u001b[38;5;66;03m# Création d'un graphique interactif\u001b[39;00m\n\u001b[0;32m     10\u001b[0m fig \u001b[38;5;241m=\u001b[39m px\u001b[38;5;241m.\u001b[39mbar(df, x\u001b[38;5;241m=\u001b[39m\u001b[38;5;124m\"\u001b[39m\u001b[38;5;124mRégion\u001b[39m\u001b[38;5;124m\"\u001b[39m, y\u001b[38;5;241m=\u001b[39m\u001b[38;5;124m\"\u001b[39m\u001b[38;5;124mRendement (tonnes)\u001b[39m\u001b[38;5;124m\"\u001b[39m, title\u001b[38;5;241m=\u001b[39m\u001b[38;5;124m\"\u001b[39m\u001b[38;5;124mRendement agricole par région\u001b[39m\u001b[38;5;124m\"\u001b[39m)\n\u001b[1;32m---> 11\u001b[0m \u001b[43mfig\u001b[49m\u001b[38;5;241;43m.\u001b[39;49m\u001b[43mshow\u001b[49m\u001b[43m(\u001b[49m\u001b[43m)\u001b[49m\n",
      "File \u001b[1;32mc:\\Users\\AB SOLUTIONS\\Documents\\Full_learning\\data_code\\100_days_of_data\\data\\Lib\\site-packages\\plotly\\basedatatypes.py:3414\u001b[0m, in \u001b[0;36mBaseFigure.show\u001b[1;34m(self, *args, **kwargs)\u001b[0m\n\u001b[0;32m   3381\u001b[0m \u001b[38;5;250m\u001b[39m\u001b[38;5;124;03m\"\"\"\u001b[39;00m\n\u001b[0;32m   3382\u001b[0m \u001b[38;5;124;03mShow a figure using either the default renderer(s) or the renderer(s)\u001b[39;00m\n\u001b[0;32m   3383\u001b[0m \u001b[38;5;124;03mspecified by the renderer argument\u001b[39;00m\n\u001b[1;32m   (...)\u001b[0m\n\u001b[0;32m   3410\u001b[0m \u001b[38;5;124;03mNone\u001b[39;00m\n\u001b[0;32m   3411\u001b[0m \u001b[38;5;124;03m\"\"\"\u001b[39;00m\n\u001b[0;32m   3412\u001b[0m \u001b[38;5;28;01mimport\u001b[39;00m\u001b[38;5;250m \u001b[39m\u001b[38;5;21;01mplotly\u001b[39;00m\u001b[38;5;21;01m.\u001b[39;00m\u001b[38;5;21;01mio\u001b[39;00m\u001b[38;5;250m \u001b[39m\u001b[38;5;28;01mas\u001b[39;00m\u001b[38;5;250m \u001b[39m\u001b[38;5;21;01mpio\u001b[39;00m\n\u001b[1;32m-> 3414\u001b[0m \u001b[38;5;28;01mreturn\u001b[39;00m \u001b[43mpio\u001b[49m\u001b[38;5;241;43m.\u001b[39;49m\u001b[43mshow\u001b[49m\u001b[43m(\u001b[49m\u001b[38;5;28;43mself\u001b[39;49m\u001b[43m,\u001b[49m\u001b[43m \u001b[49m\u001b[38;5;241;43m*\u001b[39;49m\u001b[43margs\u001b[49m\u001b[43m,\u001b[49m\u001b[43m \u001b[49m\u001b[38;5;241;43m*\u001b[39;49m\u001b[38;5;241;43m*\u001b[39;49m\u001b[43mkwargs\u001b[49m\u001b[43m)\u001b[49m\n",
      "File \u001b[1;32mc:\\Users\\AB SOLUTIONS\\Documents\\Full_learning\\data_code\\100_days_of_data\\data\\Lib\\site-packages\\plotly\\io\\_renderers.py:434\u001b[0m, in \u001b[0;36mshow\u001b[1;34m(fig, renderer, validate, **kwargs)\u001b[0m\n\u001b[0;32m    431\u001b[0m     ipython_display\u001b[38;5;241m.\u001b[39mdisplay(bundle, raw\u001b[38;5;241m=\u001b[39m\u001b[38;5;28;01mTrue\u001b[39;00m)\n\u001b[0;32m    433\u001b[0m \u001b[38;5;66;03m# external renderers\u001b[39;00m\n\u001b[1;32m--> 434\u001b[0m \u001b[43mrenderers\u001b[49m\u001b[38;5;241;43m.\u001b[39;49m\u001b[43m_perform_external_rendering\u001b[49m\u001b[43m(\u001b[49m\u001b[43mfig_dict\u001b[49m\u001b[43m,\u001b[49m\u001b[43m \u001b[49m\u001b[43mrenderers_string\u001b[49m\u001b[38;5;241;43m=\u001b[39;49m\u001b[43mrenderer\u001b[49m\u001b[43m,\u001b[49m\u001b[43m \u001b[49m\u001b[38;5;241;43m*\u001b[39;49m\u001b[38;5;241;43m*\u001b[39;49m\u001b[43mkwargs\u001b[49m\u001b[43m)\u001b[49m\n",
      "File \u001b[1;32mc:\\Users\\AB SOLUTIONS\\Documents\\Full_learning\\data_code\\100_days_of_data\\data\\Lib\\site-packages\\plotly\\io\\_renderers.py:369\u001b[0m, in \u001b[0;36mRenderersConfig._perform_external_rendering\u001b[1;34m(self, fig_dict, renderers_string, **kwargs)\u001b[0m\n\u001b[0;32m    366\u001b[0m     \u001b[38;5;28;01mif\u001b[39;00m \u001b[38;5;28mhasattr\u001b[39m(renderer, k):\n\u001b[0;32m    367\u001b[0m         \u001b[38;5;28msetattr\u001b[39m(renderer, k, v)\n\u001b[1;32m--> 369\u001b[0m \u001b[43mrenderer\u001b[49m\u001b[38;5;241;43m.\u001b[39;49m\u001b[43mrender\u001b[49m\u001b[43m(\u001b[49m\u001b[43mfig_dict\u001b[49m\u001b[43m)\u001b[49m\n",
      "File \u001b[1;32mc:\\Users\\AB SOLUTIONS\\Documents\\Full_learning\\data_code\\100_days_of_data\\data\\Lib\\site-packages\\plotly\\io\\_base_renderers.py:729\u001b[0m, in \u001b[0;36mBrowserRenderer.render\u001b[1;34m(self, fig_dict)\u001b[0m\n\u001b[0;32m    714\u001b[0m \u001b[38;5;28;01mfrom\u001b[39;00m\u001b[38;5;250m \u001b[39m\u001b[38;5;21;01mplotly\u001b[39;00m\u001b[38;5;21;01m.\u001b[39;00m\u001b[38;5;21;01mio\u001b[39;00m\u001b[38;5;250m \u001b[39m\u001b[38;5;28;01mimport\u001b[39;00m to_html\n\u001b[0;32m    716\u001b[0m html \u001b[38;5;241m=\u001b[39m to_html(\n\u001b[0;32m    717\u001b[0m     fig_dict,\n\u001b[0;32m    718\u001b[0m     config\u001b[38;5;241m=\u001b[39m\u001b[38;5;28mself\u001b[39m\u001b[38;5;241m.\u001b[39mconfig,\n\u001b[1;32m   (...)\u001b[0m\n\u001b[0;32m    727\u001b[0m     validate\u001b[38;5;241m=\u001b[39m\u001b[38;5;28;01mFalse\u001b[39;00m,\n\u001b[0;32m    728\u001b[0m )\n\u001b[1;32m--> 729\u001b[0m \u001b[43mopen_html_in_browser\u001b[49m\u001b[43m(\u001b[49m\u001b[43mhtml\u001b[49m\u001b[43m,\u001b[49m\u001b[43m \u001b[49m\u001b[38;5;28;43mself\u001b[39;49m\u001b[38;5;241;43m.\u001b[39;49m\u001b[43musing\u001b[49m\u001b[43m,\u001b[49m\u001b[43m \u001b[49m\u001b[38;5;28;43mself\u001b[39;49m\u001b[38;5;241;43m.\u001b[39;49m\u001b[43mnew\u001b[49m\u001b[43m,\u001b[49m\u001b[43m \u001b[49m\u001b[38;5;28;43mself\u001b[39;49m\u001b[38;5;241;43m.\u001b[39;49m\u001b[43mautoraise\u001b[49m\u001b[43m)\u001b[49m\n",
      "File \u001b[1;32mc:\\Users\\AB SOLUTIONS\\Documents\\Full_learning\\data_code\\100_days_of_data\\data\\Lib\\site-packages\\plotly\\io\\_base_renderers.py:657\u001b[0m, in \u001b[0;36mopen_html_in_browser\u001b[1;34m(html, using, new, autoraise)\u001b[0m\n\u001b[0;32m    654\u001b[0m             \u001b[38;5;28;01mpass\u001b[39;00m\n\u001b[0;32m    656\u001b[0m     \u001b[38;5;28;01mif\u001b[39;00m browser \u001b[38;5;129;01mis\u001b[39;00m \u001b[38;5;28;01mNone\u001b[39;00m:\n\u001b[1;32m--> 657\u001b[0m         \u001b[38;5;28;01mraise\u001b[39;00m \u001b[38;5;167;01mValueError\u001b[39;00m(\u001b[38;5;124m\"\u001b[39m\u001b[38;5;124mCan\u001b[39m\u001b[38;5;124m'\u001b[39m\u001b[38;5;124mt locate a browser with key in \u001b[39m\u001b[38;5;124m\"\u001b[39m \u001b[38;5;241m+\u001b[39m \u001b[38;5;28mstr\u001b[39m(using))\n\u001b[0;32m    659\u001b[0m \u001b[38;5;28;01mclass\u001b[39;00m\u001b[38;5;250m \u001b[39m\u001b[38;5;21;01mOneShotRequestHandler\u001b[39;00m(BaseHTTPRequestHandler):\n\u001b[0;32m    660\u001b[0m     \u001b[38;5;28;01mdef\u001b[39;00m\u001b[38;5;250m \u001b[39m\u001b[38;5;21mdo_GET\u001b[39m(\u001b[38;5;28mself\u001b[39m):\n",
      "\u001b[1;31mValueError\u001b[0m: Can't locate a browser with key in ('chrome', 'google-chrome')"
     ]
    }
   ],
   "source": [
    "import plotly.express as px\n",
    "\n",
    "# Exemple de données : rendement agricole par région\n",
    "data = {\"Région\": [\"Nord\", \"Sud\", \"Est\", \"Ouest\"],\n",
    "        \"Rendement (tonnes)\": [50, 70, 45, 60]}\n",
    "\n",
    "df = pd.DataFrame(data)\n",
    "\n",
    "# Création d'un graphique interactif\n",
    "fig = px.bar(df, x=\"Région\", y=\"Rendement (tonnes)\", title=\"Rendement agricole par région\")\n",
    "fig.show()\n"
   ]
  },
  {
   "cell_type": "markdown",
   "metadata": {},
   "source": [
    "\n",
    "\n",
    "✅ Jour 67-68 : DAX et calculs avancés (Power BI)\n",
    "DAX (Data Analysis Expressions) est le langage de calcul de Power BI. Il permet de créer des mesures personnalisées, comme des moyennes dynamiques, des ratios, etc.\n"
   ]
  },
  {
   "cell_type": "markdown",
   "metadata": {},
   "source": [
    "###### Taux_Croissance = (SUM(Donnees[Rendement]) - SUM(Donnees[Rendement Annee-1])) / SUM(Donnees[Rendement Annee-1])\n"
   ]
  },
  {
   "cell_type": "markdown",
   "metadata": {},
   "source": [
    "\n",
    "✅ Jour 69-70 : Publication et partage de dashboards\n",
    "Une fois le tableau de bord créé, il faut le partager avec les décideurs et agriculteurs.\n",
    "\n",
    "📌 Options de publication :\n",
    "\n",
    "Power BI Service : Publier en ligne pour accès web.\n",
    "Tableau Server/Public : Héberger et partager un dashboard.\n",
    "Exporter en PDF/Excel pour diffusion.\n",
    "Exemple avec Power BI :\n",
    "\n",
    "Cliquer sur \"Publier\" dans Power BI Desktop.\n",
    "Sélectionner un espace de travail.\n",
    "Partager avec des collègues via un lien sécurisé.\n",
    "\n"
   ]
  },
  {
   "cell_type": "markdown",
   "metadata": {},
   "source": [
    "## Semaine 13-14 : Machine Learning appliqué à l’AgTech (14 jours)\n"
   ]
  },
  {
   "cell_type": "markdown",
   "metadata": {},
   "source": [
    "\n",
    "✅ Jour 71-72 : Introduction au Machine Learning avec Scikit-Learn\n",
    "Le Machine Learning (ML) permet d'entraîner des modèles à partir de données pour faire des prédictions. Par exemple, on peut prédire le rendement d’une culture en fonction du climat.\n",
    "\n",
    "📌 Les étapes du Machine Learning :\n",
    "\n",
    "Collecte des données (fichier CSV, base de données...).\n",
    "Préparation des données (nettoyage, transformation).\n",
    "Entraînement du modèle (avec Scikit-Learn).\n",
    "Évaluation et ajustement.\n",
    "Utilisation du modèle pour faire des prédictions.\n",
    "📌 Exemple en Python : Charger des données et préparer un modèle simple\n"
   ]
  },
  {
   "cell_type": "code",
   "execution_count": 54,
   "metadata": {},
   "outputs": [
    {
     "name": "stdout",
     "output_type": "stream",
     "text": [
      "[5.12096237 5.50538204 5.30816041 5.377485   5.22891225 5.39502124\n",
      " 5.14667906 5.17510185 5.16387044 5.06075392 5.33356237 5.43369243\n",
      " 5.06896262 5.10956783 5.1250806  5.47804513 5.21613618 5.38457911\n",
      " 5.2066627  5.35466814 5.35866963 5.09705916 5.46980536 5.48601655\n",
      " 5.38768844 5.46556659 5.36537863 5.36888743 5.45261067 5.31425808\n",
      " 5.55738038 5.02501175 5.19781302 5.17880533 5.2669453  5.13504583\n",
      " 5.15454479 5.31917996 5.40569876 5.33594175 5.31607298 5.47880381\n",
      " 5.3735725  5.21778889 5.21979611 4.97128844 5.03765483 5.12277538\n",
      " 5.06523043 5.34007859 5.515972   5.34854128 5.1103863  5.42711832\n",
      " 5.21920055 5.28883846 5.14933926 5.34158017 5.21435188 5.0379825\n",
      " 5.21863655 5.25879497 5.20310894 5.4857788  5.43755904 5.22162583\n",
      " 4.95413967 5.29458022 5.36401051 5.38405912 5.26337482 5.16050994\n",
      " 5.35788034 5.24817347 5.49598271 5.40269512 5.24387727 5.05145746\n",
      " 5.25558277 5.34384185 5.44300278 5.57955719 5.0556675  5.10635657\n",
      " 5.38695848 5.26273478 5.20080277 5.41695842 5.19828993 5.13825944\n",
      " 5.57731129 5.30861919 5.18851797 5.27109555 5.3048564  5.2407072\n",
      " 5.03880002 5.17699137 5.32914612 5.44795621]\n"
     ]
    }
   ],
   "source": [
    "import pandas as pd\n",
    "from sklearn.model_selection import train_test_split\n",
    "from sklearn.linear_model import LinearRegression\n",
    "\n",
    "# Charger les données agricoles\n",
    "df = pd.read_csv(\"dataset_agtech.csv\")  # Exemple fictif\n",
    "\n",
    "# Sélection des variables (exemple : pluie et température influencent le rendement)\n",
    "X = df[['Humidité (%)', 'Température Moyenne (°C)']]\n",
    "y = df['Rendement (tonnes/ha)']\n",
    "\n",
    "# Séparation en données d'entraînement et de test\n",
    "X_train, X_test, y_train, y_test = train_test_split(X, y, test_size=0.2, random_state=42)\n",
    "\n",
    "# Création du modèle\n",
    "model = LinearRegression()\n",
    "model.fit(X_train, y_train)\n",
    "\n",
    "# Faire une prédiction\n",
    "prediction = model.predict(X_test)\n",
    "print(prediction)\n"
   ]
  },
  {
   "cell_type": "markdown",
   "metadata": {},
   "source": [
    "\n",
    "✅ Jour 73-74 : Régression linéaire et classification\n",
    "Régression linéaire : Prédit une valeur numérique (ex. prédire le rendement d’un champ 🌾).\n",
    "Classification : Prédit une catégorie (ex. savoir si une plante est malade ou non 🦠).\n"
   ]
  },
  {
   "cell_type": "code",
   "execution_count": 55,
   "metadata": {},
   "outputs": [
    {
     "name": "stderr",
     "output_type": "stream",
     "text": [
      "c:\\Users\\AB SOLUTIONS\\Documents\\Full_learning\\data_code\\100_days_of_data\\data\\Lib\\site-packages\\sklearn\\utils\\validation.py:2739: UserWarning:\n",
      "\n",
      "X does not have valid feature names, but LinearRegression was fitted with feature names\n",
      "\n"
     ]
    },
    {
     "ename": "ValueError",
     "evalue": "X has 1 features, but LinearRegression is expecting 2 features as input.",
     "output_type": "error",
     "traceback": [
      "\u001b[1;31m---------------------------------------------------------------------------\u001b[0m",
      "\u001b[1;31mValueError\u001b[0m                                Traceback (most recent call last)",
      "Cell \u001b[1;32mIn[55], line 5\u001b[0m\n\u001b[0;32m      3\u001b[0m \u001b[38;5;66;03m# Simulation d'une prédiction\u001b[39;00m\n\u001b[0;32m      4\u001b[0m pluie \u001b[38;5;241m=\u001b[39m np\u001b[38;5;241m.\u001b[39marray([[\u001b[38;5;241m100\u001b[39m]])  \u001b[38;5;66;03m# 100 mm de pluie\u001b[39;00m\n\u001b[1;32m----> 5\u001b[0m prediction \u001b[38;5;241m=\u001b[39m \u001b[43mmodel\u001b[49m\u001b[38;5;241;43m.\u001b[39;49m\u001b[43mpredict\u001b[49m\u001b[43m(\u001b[49m\u001b[43mpluie\u001b[49m\u001b[43m)\u001b[49m\n\u001b[0;32m      6\u001b[0m \u001b[38;5;28mprint\u001b[39m(\u001b[38;5;124mf\u001b[39m\u001b[38;5;124m\"\u001b[39m\u001b[38;5;124mProduction de blé estimée : \u001b[39m\u001b[38;5;132;01m{\u001b[39;00mprediction[\u001b[38;5;241m0\u001b[39m]\u001b[38;5;132;01m:\u001b[39;00m\u001b[38;5;124m.2f\u001b[39m\u001b[38;5;132;01m}\u001b[39;00m\u001b[38;5;124m tonnes\u001b[39m\u001b[38;5;124m\"\u001b[39m)\n",
      "File \u001b[1;32mc:\\Users\\AB SOLUTIONS\\Documents\\Full_learning\\data_code\\100_days_of_data\\data\\Lib\\site-packages\\sklearn\\linear_model\\_base.py:297\u001b[0m, in \u001b[0;36mLinearModel.predict\u001b[1;34m(self, X)\u001b[0m\n\u001b[0;32m    283\u001b[0m \u001b[38;5;28;01mdef\u001b[39;00m\u001b[38;5;250m \u001b[39m\u001b[38;5;21mpredict\u001b[39m(\u001b[38;5;28mself\u001b[39m, X):\n\u001b[0;32m    284\u001b[0m \u001b[38;5;250m    \u001b[39m\u001b[38;5;124;03m\"\"\"\u001b[39;00m\n\u001b[0;32m    285\u001b[0m \u001b[38;5;124;03m    Predict using the linear model.\u001b[39;00m\n\u001b[0;32m    286\u001b[0m \n\u001b[1;32m   (...)\u001b[0m\n\u001b[0;32m    295\u001b[0m \u001b[38;5;124;03m        Returns predicted values.\u001b[39;00m\n\u001b[0;32m    296\u001b[0m \u001b[38;5;124;03m    \"\"\"\u001b[39;00m\n\u001b[1;32m--> 297\u001b[0m     \u001b[38;5;28;01mreturn\u001b[39;00m \u001b[38;5;28;43mself\u001b[39;49m\u001b[38;5;241;43m.\u001b[39;49m\u001b[43m_decision_function\u001b[49m\u001b[43m(\u001b[49m\u001b[43mX\u001b[49m\u001b[43m)\u001b[49m\n",
      "File \u001b[1;32mc:\\Users\\AB SOLUTIONS\\Documents\\Full_learning\\data_code\\100_days_of_data\\data\\Lib\\site-packages\\sklearn\\linear_model\\_base.py:276\u001b[0m, in \u001b[0;36mLinearModel._decision_function\u001b[1;34m(self, X)\u001b[0m\n\u001b[0;32m    273\u001b[0m \u001b[38;5;28;01mdef\u001b[39;00m\u001b[38;5;250m \u001b[39m\u001b[38;5;21m_decision_function\u001b[39m(\u001b[38;5;28mself\u001b[39m, X):\n\u001b[0;32m    274\u001b[0m     check_is_fitted(\u001b[38;5;28mself\u001b[39m)\n\u001b[1;32m--> 276\u001b[0m     X \u001b[38;5;241m=\u001b[39m \u001b[43mvalidate_data\u001b[49m\u001b[43m(\u001b[49m\u001b[38;5;28;43mself\u001b[39;49m\u001b[43m,\u001b[49m\u001b[43m \u001b[49m\u001b[43mX\u001b[49m\u001b[43m,\u001b[49m\u001b[43m \u001b[49m\u001b[43maccept_sparse\u001b[49m\u001b[38;5;241;43m=\u001b[39;49m\u001b[43m[\u001b[49m\u001b[38;5;124;43m\"\u001b[39;49m\u001b[38;5;124;43mcsr\u001b[39;49m\u001b[38;5;124;43m\"\u001b[39;49m\u001b[43m,\u001b[49m\u001b[43m \u001b[49m\u001b[38;5;124;43m\"\u001b[39;49m\u001b[38;5;124;43mcsc\u001b[39;49m\u001b[38;5;124;43m\"\u001b[39;49m\u001b[43m,\u001b[49m\u001b[43m \u001b[49m\u001b[38;5;124;43m\"\u001b[39;49m\u001b[38;5;124;43mcoo\u001b[39;49m\u001b[38;5;124;43m\"\u001b[39;49m\u001b[43m]\u001b[49m\u001b[43m,\u001b[49m\u001b[43m \u001b[49m\u001b[43mreset\u001b[49m\u001b[38;5;241;43m=\u001b[39;49m\u001b[38;5;28;43;01mFalse\u001b[39;49;00m\u001b[43m)\u001b[49m\n\u001b[0;32m    277\u001b[0m     coef_ \u001b[38;5;241m=\u001b[39m \u001b[38;5;28mself\u001b[39m\u001b[38;5;241m.\u001b[39mcoef_\n\u001b[0;32m    278\u001b[0m     \u001b[38;5;28;01mif\u001b[39;00m coef_\u001b[38;5;241m.\u001b[39mndim \u001b[38;5;241m==\u001b[39m \u001b[38;5;241m1\u001b[39m:\n",
      "File \u001b[1;32mc:\\Users\\AB SOLUTIONS\\Documents\\Full_learning\\data_code\\100_days_of_data\\data\\Lib\\site-packages\\sklearn\\utils\\validation.py:2965\u001b[0m, in \u001b[0;36mvalidate_data\u001b[1;34m(_estimator, X, y, reset, validate_separately, skip_check_array, **check_params)\u001b[0m\n\u001b[0;32m   2962\u001b[0m     out \u001b[38;5;241m=\u001b[39m X, y\n\u001b[0;32m   2964\u001b[0m \u001b[38;5;28;01mif\u001b[39;00m \u001b[38;5;129;01mnot\u001b[39;00m no_val_X \u001b[38;5;129;01mand\u001b[39;00m check_params\u001b[38;5;241m.\u001b[39mget(\u001b[38;5;124m\"\u001b[39m\u001b[38;5;124mensure_2d\u001b[39m\u001b[38;5;124m\"\u001b[39m, \u001b[38;5;28;01mTrue\u001b[39;00m):\n\u001b[1;32m-> 2965\u001b[0m     \u001b[43m_check_n_features\u001b[49m\u001b[43m(\u001b[49m\u001b[43m_estimator\u001b[49m\u001b[43m,\u001b[49m\u001b[43m \u001b[49m\u001b[43mX\u001b[49m\u001b[43m,\u001b[49m\u001b[43m \u001b[49m\u001b[43mreset\u001b[49m\u001b[38;5;241;43m=\u001b[39;49m\u001b[43mreset\u001b[49m\u001b[43m)\u001b[49m\n\u001b[0;32m   2967\u001b[0m \u001b[38;5;28;01mreturn\u001b[39;00m out\n",
      "File \u001b[1;32mc:\\Users\\AB SOLUTIONS\\Documents\\Full_learning\\data_code\\100_days_of_data\\data\\Lib\\site-packages\\sklearn\\utils\\validation.py:2829\u001b[0m, in \u001b[0;36m_check_n_features\u001b[1;34m(estimator, X, reset)\u001b[0m\n\u001b[0;32m   2826\u001b[0m     \u001b[38;5;28;01mreturn\u001b[39;00m\n\u001b[0;32m   2828\u001b[0m \u001b[38;5;28;01mif\u001b[39;00m n_features \u001b[38;5;241m!=\u001b[39m estimator\u001b[38;5;241m.\u001b[39mn_features_in_:\n\u001b[1;32m-> 2829\u001b[0m     \u001b[38;5;28;01mraise\u001b[39;00m \u001b[38;5;167;01mValueError\u001b[39;00m(\n\u001b[0;32m   2830\u001b[0m         \u001b[38;5;124mf\u001b[39m\u001b[38;5;124m\"\u001b[39m\u001b[38;5;124mX has \u001b[39m\u001b[38;5;132;01m{\u001b[39;00mn_features\u001b[38;5;132;01m}\u001b[39;00m\u001b[38;5;124m features, but \u001b[39m\u001b[38;5;132;01m{\u001b[39;00mestimator\u001b[38;5;241m.\u001b[39m\u001b[38;5;18m__class__\u001b[39m\u001b[38;5;241m.\u001b[39m\u001b[38;5;18m__name__\u001b[39m\u001b[38;5;132;01m}\u001b[39;00m\u001b[38;5;124m \u001b[39m\u001b[38;5;124m\"\u001b[39m\n\u001b[0;32m   2831\u001b[0m         \u001b[38;5;124mf\u001b[39m\u001b[38;5;124m\"\u001b[39m\u001b[38;5;124mis expecting \u001b[39m\u001b[38;5;132;01m{\u001b[39;00mestimator\u001b[38;5;241m.\u001b[39mn_features_in_\u001b[38;5;132;01m}\u001b[39;00m\u001b[38;5;124m features as input.\u001b[39m\u001b[38;5;124m\"\u001b[39m\n\u001b[0;32m   2832\u001b[0m     )\n",
      "\u001b[1;31mValueError\u001b[0m: X has 1 features, but LinearRegression is expecting 2 features as input."
     ]
    }
   ],
   "source": [
    "import numpy as np\n",
    "\n",
    "# Simulation d'une prédiction\n",
    "pluie = np.array([[100]])  # 100 mm de pluie\n",
    "prediction = model.predict(pluie)\n",
    "print(f\"Production de blé estimée : {prediction[0]:.2f} tonnes\")\n"
   ]
  },
  {
   "cell_type": "markdown",
   "metadata": {},
   "source": [
    "📌 Exemple : Classification pour détecter une maladie des plantes\n",
    "\n"
   ]
  },
  {
   "cell_type": "code",
   "execution_count": 56,
   "metadata": {},
   "outputs": [
    {
     "ename": "KeyError",
     "evalue": "\"None of [Index(['Humidité', 'Température'], dtype='object')] are in the [columns]\"",
     "output_type": "error",
     "traceback": [
      "\u001b[1;31m---------------------------------------------------------------------------\u001b[0m",
      "\u001b[1;31mKeyError\u001b[0m                                  Traceback (most recent call last)",
      "Cell \u001b[1;32mIn[56], line 4\u001b[0m\n\u001b[0;32m      1\u001b[0m \u001b[38;5;28;01mfrom\u001b[39;00m\u001b[38;5;250m \u001b[39m\u001b[38;5;21;01msklearn\u001b[39;00m\u001b[38;5;21;01m.\u001b[39;00m\u001b[38;5;21;01mensemble\u001b[39;00m\u001b[38;5;250m \u001b[39m\u001b[38;5;28;01mimport\u001b[39;00m RandomForestClassifier\n\u001b[0;32m      3\u001b[0m \u001b[38;5;66;03m# Données fictives (0 = sain, 1 = malade)\u001b[39;00m\n\u001b[1;32m----> 4\u001b[0m X \u001b[38;5;241m=\u001b[39m \u001b[43mdf\u001b[49m\u001b[43m[\u001b[49m\u001b[43m[\u001b[49m\u001b[38;5;124;43m'\u001b[39;49m\u001b[38;5;124;43mHumidité\u001b[39;49m\u001b[38;5;124;43m'\u001b[39;49m\u001b[43m,\u001b[49m\u001b[43m \u001b[49m\u001b[38;5;124;43m'\u001b[39;49m\u001b[38;5;124;43mTempérature\u001b[39;49m\u001b[38;5;124;43m'\u001b[39;49m\u001b[43m]\u001b[49m\u001b[43m]\u001b[49m\n\u001b[0;32m      5\u001b[0m y \u001b[38;5;241m=\u001b[39m df[\u001b[38;5;124m'\u001b[39m\u001b[38;5;124mMaladie\u001b[39m\u001b[38;5;124m'\u001b[39m]  \n\u001b[0;32m      7\u001b[0m \u001b[38;5;66;03m# Entraîner un modèle\u001b[39;00m\n",
      "File \u001b[1;32mc:\\Users\\AB SOLUTIONS\\Documents\\Full_learning\\data_code\\100_days_of_data\\data\\Lib\\site-packages\\pandas\\core\\frame.py:4108\u001b[0m, in \u001b[0;36mDataFrame.__getitem__\u001b[1;34m(self, key)\u001b[0m\n\u001b[0;32m   4106\u001b[0m     \u001b[38;5;28;01mif\u001b[39;00m is_iterator(key):\n\u001b[0;32m   4107\u001b[0m         key \u001b[38;5;241m=\u001b[39m \u001b[38;5;28mlist\u001b[39m(key)\n\u001b[1;32m-> 4108\u001b[0m     indexer \u001b[38;5;241m=\u001b[39m \u001b[38;5;28;43mself\u001b[39;49m\u001b[38;5;241;43m.\u001b[39;49m\u001b[43mcolumns\u001b[49m\u001b[38;5;241;43m.\u001b[39;49m\u001b[43m_get_indexer_strict\u001b[49m\u001b[43m(\u001b[49m\u001b[43mkey\u001b[49m\u001b[43m,\u001b[49m\u001b[43m \u001b[49m\u001b[38;5;124;43m\"\u001b[39;49m\u001b[38;5;124;43mcolumns\u001b[39;49m\u001b[38;5;124;43m\"\u001b[39;49m\u001b[43m)\u001b[49m[\u001b[38;5;241m1\u001b[39m]\n\u001b[0;32m   4110\u001b[0m \u001b[38;5;66;03m# take() does not accept boolean indexers\u001b[39;00m\n\u001b[0;32m   4111\u001b[0m \u001b[38;5;28;01mif\u001b[39;00m \u001b[38;5;28mgetattr\u001b[39m(indexer, \u001b[38;5;124m\"\u001b[39m\u001b[38;5;124mdtype\u001b[39m\u001b[38;5;124m\"\u001b[39m, \u001b[38;5;28;01mNone\u001b[39;00m) \u001b[38;5;241m==\u001b[39m \u001b[38;5;28mbool\u001b[39m:\n",
      "File \u001b[1;32mc:\\Users\\AB SOLUTIONS\\Documents\\Full_learning\\data_code\\100_days_of_data\\data\\Lib\\site-packages\\pandas\\core\\indexes\\base.py:6200\u001b[0m, in \u001b[0;36mIndex._get_indexer_strict\u001b[1;34m(self, key, axis_name)\u001b[0m\n\u001b[0;32m   6197\u001b[0m \u001b[38;5;28;01melse\u001b[39;00m:\n\u001b[0;32m   6198\u001b[0m     keyarr, indexer, new_indexer \u001b[38;5;241m=\u001b[39m \u001b[38;5;28mself\u001b[39m\u001b[38;5;241m.\u001b[39m_reindex_non_unique(keyarr)\n\u001b[1;32m-> 6200\u001b[0m \u001b[38;5;28;43mself\u001b[39;49m\u001b[38;5;241;43m.\u001b[39;49m\u001b[43m_raise_if_missing\u001b[49m\u001b[43m(\u001b[49m\u001b[43mkeyarr\u001b[49m\u001b[43m,\u001b[49m\u001b[43m \u001b[49m\u001b[43mindexer\u001b[49m\u001b[43m,\u001b[49m\u001b[43m \u001b[49m\u001b[43maxis_name\u001b[49m\u001b[43m)\u001b[49m\n\u001b[0;32m   6202\u001b[0m keyarr \u001b[38;5;241m=\u001b[39m \u001b[38;5;28mself\u001b[39m\u001b[38;5;241m.\u001b[39mtake(indexer)\n\u001b[0;32m   6203\u001b[0m \u001b[38;5;28;01mif\u001b[39;00m \u001b[38;5;28misinstance\u001b[39m(key, Index):\n\u001b[0;32m   6204\u001b[0m     \u001b[38;5;66;03m# GH 42790 - Preserve name from an Index\u001b[39;00m\n",
      "File \u001b[1;32mc:\\Users\\AB SOLUTIONS\\Documents\\Full_learning\\data_code\\100_days_of_data\\data\\Lib\\site-packages\\pandas\\core\\indexes\\base.py:6249\u001b[0m, in \u001b[0;36mIndex._raise_if_missing\u001b[1;34m(self, key, indexer, axis_name)\u001b[0m\n\u001b[0;32m   6247\u001b[0m \u001b[38;5;28;01mif\u001b[39;00m nmissing:\n\u001b[0;32m   6248\u001b[0m     \u001b[38;5;28;01mif\u001b[39;00m nmissing \u001b[38;5;241m==\u001b[39m \u001b[38;5;28mlen\u001b[39m(indexer):\n\u001b[1;32m-> 6249\u001b[0m         \u001b[38;5;28;01mraise\u001b[39;00m \u001b[38;5;167;01mKeyError\u001b[39;00m(\u001b[38;5;124mf\u001b[39m\u001b[38;5;124m\"\u001b[39m\u001b[38;5;124mNone of [\u001b[39m\u001b[38;5;132;01m{\u001b[39;00mkey\u001b[38;5;132;01m}\u001b[39;00m\u001b[38;5;124m] are in the [\u001b[39m\u001b[38;5;132;01m{\u001b[39;00maxis_name\u001b[38;5;132;01m}\u001b[39;00m\u001b[38;5;124m]\u001b[39m\u001b[38;5;124m\"\u001b[39m)\n\u001b[0;32m   6251\u001b[0m     not_found \u001b[38;5;241m=\u001b[39m \u001b[38;5;28mlist\u001b[39m(ensure_index(key)[missing_mask\u001b[38;5;241m.\u001b[39mnonzero()[\u001b[38;5;241m0\u001b[39m]]\u001b[38;5;241m.\u001b[39munique())\n\u001b[0;32m   6252\u001b[0m     \u001b[38;5;28;01mraise\u001b[39;00m \u001b[38;5;167;01mKeyError\u001b[39;00m(\u001b[38;5;124mf\u001b[39m\u001b[38;5;124m\"\u001b[39m\u001b[38;5;132;01m{\u001b[39;00mnot_found\u001b[38;5;132;01m}\u001b[39;00m\u001b[38;5;124m not in index\u001b[39m\u001b[38;5;124m\"\u001b[39m)\n",
      "\u001b[1;31mKeyError\u001b[0m: \"None of [Index(['Humidité', 'Température'], dtype='object')] are in the [columns]\""
     ]
    }
   ],
   "source": [
    "from sklearn.ensemble import RandomForestClassifier\n",
    "\n",
    "# Données fictives (0 = sain, 1 = malade)\n",
    "X = df[['Humidité', 'Température']]\n",
    "y = df['Maladie']  \n",
    "\n",
    "# Entraîner un modèle\n",
    "clf = RandomForestClassifier()\n",
    "clf.fit(X_train, y_train)\n",
    "\n",
    "# Prédire si une plante est malade\n",
    "print(clf.predict([[80, 25]]))  # Ex. 80% d'humidité et 25°C\n"
   ]
  },
  {
   "cell_type": "markdown",
   "metadata": {},
   "source": [
    "\n",
    "✅ Jour 75-76 : K-Means et segmentation des cultures\n",
    "Le clustering permet de regrouper des données similaires. Par exemple, segmenter des types de sols selon leurs propriétés.\n"
   ]
  },
  {
   "cell_type": "code",
   "execution_count": 57,
   "metadata": {},
   "outputs": [
    {
     "ename": "KeyError",
     "evalue": "\"None of [Index(['pH', 'Humidité', 'Matière organique'], dtype='object')] are in the [columns]\"",
     "output_type": "error",
     "traceback": [
      "\u001b[1;31m---------------------------------------------------------------------------\u001b[0m",
      "\u001b[1;31mKeyError\u001b[0m                                  Traceback (most recent call last)",
      "Cell \u001b[1;32mIn[57], line 4\u001b[0m\n\u001b[0;32m      1\u001b[0m \u001b[38;5;28;01mfrom\u001b[39;00m\u001b[38;5;250m \u001b[39m\u001b[38;5;21;01msklearn\u001b[39;00m\u001b[38;5;21;01m.\u001b[39;00m\u001b[38;5;21;01mcluster\u001b[39;00m\u001b[38;5;250m \u001b[39m\u001b[38;5;28;01mimport\u001b[39;00m KMeans\n\u001b[0;32m      3\u001b[0m \u001b[38;5;66;03m# Données fictives (propriétés des sols)\u001b[39;00m\n\u001b[1;32m----> 4\u001b[0m X \u001b[38;5;241m=\u001b[39m \u001b[43mdf\u001b[49m\u001b[43m[\u001b[49m\u001b[43m[\u001b[49m\u001b[38;5;124;43m'\u001b[39;49m\u001b[38;5;124;43mpH\u001b[39;49m\u001b[38;5;124;43m'\u001b[39;49m\u001b[43m,\u001b[49m\u001b[43m \u001b[49m\u001b[38;5;124;43m'\u001b[39;49m\u001b[38;5;124;43mHumidité\u001b[39;49m\u001b[38;5;124;43m'\u001b[39;49m\u001b[43m,\u001b[49m\u001b[43m \u001b[49m\u001b[38;5;124;43m'\u001b[39;49m\u001b[38;5;124;43mMatière organique\u001b[39;49m\u001b[38;5;124;43m'\u001b[39;49m\u001b[43m]\u001b[49m\u001b[43m]\u001b[49m\n\u001b[0;32m      6\u001b[0m \u001b[38;5;66;03m# Créer un modèle K-Means avec 3 groupes\u001b[39;00m\n\u001b[0;32m      7\u001b[0m kmeans \u001b[38;5;241m=\u001b[39m KMeans(n_clusters\u001b[38;5;241m=\u001b[39m\u001b[38;5;241m3\u001b[39m, random_state\u001b[38;5;241m=\u001b[39m\u001b[38;5;241m42\u001b[39m)\n",
      "File \u001b[1;32mc:\\Users\\AB SOLUTIONS\\Documents\\Full_learning\\data_code\\100_days_of_data\\data\\Lib\\site-packages\\pandas\\core\\frame.py:4108\u001b[0m, in \u001b[0;36mDataFrame.__getitem__\u001b[1;34m(self, key)\u001b[0m\n\u001b[0;32m   4106\u001b[0m     \u001b[38;5;28;01mif\u001b[39;00m is_iterator(key):\n\u001b[0;32m   4107\u001b[0m         key \u001b[38;5;241m=\u001b[39m \u001b[38;5;28mlist\u001b[39m(key)\n\u001b[1;32m-> 4108\u001b[0m     indexer \u001b[38;5;241m=\u001b[39m \u001b[38;5;28;43mself\u001b[39;49m\u001b[38;5;241;43m.\u001b[39;49m\u001b[43mcolumns\u001b[49m\u001b[38;5;241;43m.\u001b[39;49m\u001b[43m_get_indexer_strict\u001b[49m\u001b[43m(\u001b[49m\u001b[43mkey\u001b[49m\u001b[43m,\u001b[49m\u001b[43m \u001b[49m\u001b[38;5;124;43m\"\u001b[39;49m\u001b[38;5;124;43mcolumns\u001b[39;49m\u001b[38;5;124;43m\"\u001b[39;49m\u001b[43m)\u001b[49m[\u001b[38;5;241m1\u001b[39m]\n\u001b[0;32m   4110\u001b[0m \u001b[38;5;66;03m# take() does not accept boolean indexers\u001b[39;00m\n\u001b[0;32m   4111\u001b[0m \u001b[38;5;28;01mif\u001b[39;00m \u001b[38;5;28mgetattr\u001b[39m(indexer, \u001b[38;5;124m\"\u001b[39m\u001b[38;5;124mdtype\u001b[39m\u001b[38;5;124m\"\u001b[39m, \u001b[38;5;28;01mNone\u001b[39;00m) \u001b[38;5;241m==\u001b[39m \u001b[38;5;28mbool\u001b[39m:\n",
      "File \u001b[1;32mc:\\Users\\AB SOLUTIONS\\Documents\\Full_learning\\data_code\\100_days_of_data\\data\\Lib\\site-packages\\pandas\\core\\indexes\\base.py:6200\u001b[0m, in \u001b[0;36mIndex._get_indexer_strict\u001b[1;34m(self, key, axis_name)\u001b[0m\n\u001b[0;32m   6197\u001b[0m \u001b[38;5;28;01melse\u001b[39;00m:\n\u001b[0;32m   6198\u001b[0m     keyarr, indexer, new_indexer \u001b[38;5;241m=\u001b[39m \u001b[38;5;28mself\u001b[39m\u001b[38;5;241m.\u001b[39m_reindex_non_unique(keyarr)\n\u001b[1;32m-> 6200\u001b[0m \u001b[38;5;28;43mself\u001b[39;49m\u001b[38;5;241;43m.\u001b[39;49m\u001b[43m_raise_if_missing\u001b[49m\u001b[43m(\u001b[49m\u001b[43mkeyarr\u001b[49m\u001b[43m,\u001b[49m\u001b[43m \u001b[49m\u001b[43mindexer\u001b[49m\u001b[43m,\u001b[49m\u001b[43m \u001b[49m\u001b[43maxis_name\u001b[49m\u001b[43m)\u001b[49m\n\u001b[0;32m   6202\u001b[0m keyarr \u001b[38;5;241m=\u001b[39m \u001b[38;5;28mself\u001b[39m\u001b[38;5;241m.\u001b[39mtake(indexer)\n\u001b[0;32m   6203\u001b[0m \u001b[38;5;28;01mif\u001b[39;00m \u001b[38;5;28misinstance\u001b[39m(key, Index):\n\u001b[0;32m   6204\u001b[0m     \u001b[38;5;66;03m# GH 42790 - Preserve name from an Index\u001b[39;00m\n",
      "File \u001b[1;32mc:\\Users\\AB SOLUTIONS\\Documents\\Full_learning\\data_code\\100_days_of_data\\data\\Lib\\site-packages\\pandas\\core\\indexes\\base.py:6249\u001b[0m, in \u001b[0;36mIndex._raise_if_missing\u001b[1;34m(self, key, indexer, axis_name)\u001b[0m\n\u001b[0;32m   6247\u001b[0m \u001b[38;5;28;01mif\u001b[39;00m nmissing:\n\u001b[0;32m   6248\u001b[0m     \u001b[38;5;28;01mif\u001b[39;00m nmissing \u001b[38;5;241m==\u001b[39m \u001b[38;5;28mlen\u001b[39m(indexer):\n\u001b[1;32m-> 6249\u001b[0m         \u001b[38;5;28;01mraise\u001b[39;00m \u001b[38;5;167;01mKeyError\u001b[39;00m(\u001b[38;5;124mf\u001b[39m\u001b[38;5;124m\"\u001b[39m\u001b[38;5;124mNone of [\u001b[39m\u001b[38;5;132;01m{\u001b[39;00mkey\u001b[38;5;132;01m}\u001b[39;00m\u001b[38;5;124m] are in the [\u001b[39m\u001b[38;5;132;01m{\u001b[39;00maxis_name\u001b[38;5;132;01m}\u001b[39;00m\u001b[38;5;124m]\u001b[39m\u001b[38;5;124m\"\u001b[39m)\n\u001b[0;32m   6251\u001b[0m     not_found \u001b[38;5;241m=\u001b[39m \u001b[38;5;28mlist\u001b[39m(ensure_index(key)[missing_mask\u001b[38;5;241m.\u001b[39mnonzero()[\u001b[38;5;241m0\u001b[39m]]\u001b[38;5;241m.\u001b[39munique())\n\u001b[0;32m   6252\u001b[0m     \u001b[38;5;28;01mraise\u001b[39;00m \u001b[38;5;167;01mKeyError\u001b[39;00m(\u001b[38;5;124mf\u001b[39m\u001b[38;5;124m\"\u001b[39m\u001b[38;5;132;01m{\u001b[39;00mnot_found\u001b[38;5;132;01m}\u001b[39;00m\u001b[38;5;124m not in index\u001b[39m\u001b[38;5;124m\"\u001b[39m)\n",
      "\u001b[1;31mKeyError\u001b[0m: \"None of [Index(['pH', 'Humidité', 'Matière organique'], dtype='object')] are in the [columns]\""
     ]
    }
   ],
   "source": [
    "from sklearn.cluster import KMeans\n",
    "\n",
    "# Données fictives (propriétés des sols)\n",
    "X = df[['pH', 'Humidité', 'Matière organique']]\n",
    "\n",
    "# Créer un modèle K-Means avec 3 groupes\n",
    "kmeans = KMeans(n_clusters=3, random_state=42)\n",
    "df['Cluster'] = kmeans.fit_predict(X)\n",
    "\n",
    "print(df.head())  # Afficher le groupe attribué à chaque sol\n"
   ]
  },
  {
   "cell_type": "markdown",
   "metadata": {},
   "source": [
    "\n",
    "✅ Jour 77-78 : Automatisation des analyses avec Python\n",
    "Les data analysts automatisent souvent leurs analyses pour gagner du temps. On peut automatiser l’analyse des données agricoles en programmant des scripts Python."
   ]
  },
  {
   "cell_type": "code",
   "execution_count": null,
   "metadata": {},
   "outputs": [],
   "source": [
    "def nettoyer_donnees(fichier):\n",
    "    df = pd.read_csv(fichier)\n",
    "    df.dropna(inplace=True)  # Supprime les valeurs manquantes\n",
    "    df.drop_duplicates(inplace=True)  # Supprime les doublons\n",
    "    return df\n",
    "\n",
    "# Appliquer la fonction à un fichier de données agricoles\n",
    "df_propre = nettoyer_donnees(\"dataset_agtech.csv\")\n",
    "print(df_propre.head())\n"
   ]
  },
  {
   "cell_type": "markdown",
   "metadata": {},
   "source": [
    "\n",
    "\n",
    "✅ Jour 79-80 : Déploiement d’un modèle sur le web\n",
    "Une fois qu’un modèle fonctionne, on peut le rendre accessible sur un site web ou une API pour que d’autres puissent l’utiliser.\n"
   ]
  },
  {
   "cell_type": "code",
   "execution_count": null,
   "metadata": {},
   "outputs": [],
   "source": [
    "from flask import Flask, request, jsonify\n",
    "import joblib\n",
    "\n",
    "app = Flask(__name__)\n",
    "\n",
    "# Charger le modèle\n",
    "model = joblib.load(\"modele_rendement.pkl\")\n",
    "\n",
    "@app.route('/predict', methods=['POST'])\n",
    "def predict():\n",
    "    data = request.json\n",
    "    pluie = data['pluie']\n",
    "    temperature = data['temperature']\n",
    "    prediction = model.predict([[pluie, temperature]])\n",
    "    return jsonify({'rendement_prédit': prediction[0]})\n",
    "\n",
    "if __name__ == '__main__':\n",
    "    app.run(debug=True)\n"
   ]
  }
 ],
 "metadata": {
  "kernelspec": {
   "display_name": "data",
   "language": "python",
   "name": "python3"
  },
  "language_info": {
   "codemirror_mode": {
    "name": "ipython",
    "version": 3
   },
   "file_extension": ".py",
   "mimetype": "text/x-python",
   "name": "python",
   "nbconvert_exporter": "python",
   "pygments_lexer": "ipython3",
   "version": "3.12.0"
  }
 },
 "nbformat": 4,
 "nbformat_minor": 2
}
