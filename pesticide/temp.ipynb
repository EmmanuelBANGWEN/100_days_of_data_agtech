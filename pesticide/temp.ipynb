{
 "cells": [
  {
   "cell_type": "code",
   "execution_count": 53,
   "metadata": {},
   "outputs": [],
   "source": [
    "import pandas as pd\n",
    "import numpy as np\n",
    "import matplotlib.pyplot as plt"
   ]
  },
  {
   "cell_type": "code",
   "execution_count": 54,
   "metadata": {},
   "outputs": [
    {
     "data": {
      "text/html": [
       "<div>\n",
       "<style scoped>\n",
       "    .dataframe tbody tr th:only-of-type {\n",
       "        vertical-align: middle;\n",
       "    }\n",
       "\n",
       "    .dataframe tbody tr th {\n",
       "        vertical-align: top;\n",
       "    }\n",
       "\n",
       "    .dataframe thead th {\n",
       "        text-align: right;\n",
       "    }\n",
       "</style>\n",
       "<table border=\"1\" class=\"dataframe\">\n",
       "  <thead>\n",
       "    <tr style=\"text-align: right;\">\n",
       "      <th></th>\n",
       "      <th>year</th>\n",
       "      <th>country</th>\n",
       "      <th>avg_temp</th>\n",
       "    </tr>\n",
       "  </thead>\n",
       "  <tbody>\n",
       "    <tr>\n",
       "      <th>0</th>\n",
       "      <td>1849</td>\n",
       "      <td>Côte D'Ivoire</td>\n",
       "      <td>25.58</td>\n",
       "    </tr>\n",
       "    <tr>\n",
       "      <th>1</th>\n",
       "      <td>1850</td>\n",
       "      <td>Côte D'Ivoire</td>\n",
       "      <td>25.52</td>\n",
       "    </tr>\n",
       "    <tr>\n",
       "      <th>2</th>\n",
       "      <td>1851</td>\n",
       "      <td>Côte D'Ivoire</td>\n",
       "      <td>25.67</td>\n",
       "    </tr>\n",
       "    <tr>\n",
       "      <th>3</th>\n",
       "      <td>1852</td>\n",
       "      <td>Côte D'Ivoire</td>\n",
       "      <td>NaN</td>\n",
       "    </tr>\n",
       "    <tr>\n",
       "      <th>4</th>\n",
       "      <td>1853</td>\n",
       "      <td>Côte D'Ivoire</td>\n",
       "      <td>NaN</td>\n",
       "    </tr>\n",
       "  </tbody>\n",
       "</table>\n",
       "</div>"
      ],
      "text/plain": [
       "   year        country  avg_temp\n",
       "0  1849  Côte D'Ivoire     25.58\n",
       "1  1850  Côte D'Ivoire     25.52\n",
       "2  1851  Côte D'Ivoire     25.67\n",
       "3  1852  Côte D'Ivoire       NaN\n",
       "4  1853  Côte D'Ivoire       NaN"
      ]
     },
     "execution_count": 54,
     "metadata": {},
     "output_type": "execute_result"
    }
   ],
   "source": [
    "df = pd.read_csv('temp.csv')\n",
    "df.head()"
   ]
  },
  {
   "cell_type": "code",
   "execution_count": 55,
   "metadata": {},
   "outputs": [
    {
     "name": "stdout",
     "output_type": "stream",
     "text": [
      "<class 'pandas.core.frame.DataFrame'>\n",
      "RangeIndex: 71311 entries, 0 to 71310\n",
      "Data columns (total 3 columns):\n",
      " #   Column    Non-Null Count  Dtype  \n",
      "---  ------    --------------  -----  \n",
      " 0   year      71311 non-null  int64  \n",
      " 1   country   71311 non-null  object \n",
      " 2   avg_temp  68764 non-null  float64\n",
      "dtypes: float64(1), int64(1), object(1)\n",
      "memory usage: 1.6+ MB\n"
     ]
    }
   ],
   "source": [
    "df.info()"
   ]
  },
  {
   "cell_type": "code",
   "execution_count": 56,
   "metadata": {},
   "outputs": [
    {
     "data": {
      "text/html": [
       "<div>\n",
       "<style scoped>\n",
       "    .dataframe tbody tr th:only-of-type {\n",
       "        vertical-align: middle;\n",
       "    }\n",
       "\n",
       "    .dataframe tbody tr th {\n",
       "        vertical-align: top;\n",
       "    }\n",
       "\n",
       "    .dataframe thead th {\n",
       "        text-align: right;\n",
       "    }\n",
       "</style>\n",
       "<table border=\"1\" class=\"dataframe\">\n",
       "  <thead>\n",
       "    <tr style=\"text-align: right;\">\n",
       "      <th></th>\n",
       "      <th>year</th>\n",
       "      <th>avg_temp</th>\n",
       "    </tr>\n",
       "  </thead>\n",
       "  <tbody>\n",
       "    <tr>\n",
       "      <th>count</th>\n",
       "      <td>71311.000000</td>\n",
       "      <td>68764.000000</td>\n",
       "    </tr>\n",
       "    <tr>\n",
       "      <th>mean</th>\n",
       "      <td>1905.799007</td>\n",
       "      <td>16.183876</td>\n",
       "    </tr>\n",
       "    <tr>\n",
       "      <th>std</th>\n",
       "      <td>67.102099</td>\n",
       "      <td>7.592960</td>\n",
       "    </tr>\n",
       "    <tr>\n",
       "      <th>min</th>\n",
       "      <td>1743.000000</td>\n",
       "      <td>-14.350000</td>\n",
       "    </tr>\n",
       "    <tr>\n",
       "      <th>25%</th>\n",
       "      <td>1858.000000</td>\n",
       "      <td>9.750000</td>\n",
       "    </tr>\n",
       "    <tr>\n",
       "      <th>50%</th>\n",
       "      <td>1910.000000</td>\n",
       "      <td>16.140000</td>\n",
       "    </tr>\n",
       "    <tr>\n",
       "      <th>75%</th>\n",
       "      <td>1962.000000</td>\n",
       "      <td>23.762500</td>\n",
       "    </tr>\n",
       "    <tr>\n",
       "      <th>max</th>\n",
       "      <td>2013.000000</td>\n",
       "      <td>30.730000</td>\n",
       "    </tr>\n",
       "  </tbody>\n",
       "</table>\n",
       "</div>"
      ],
      "text/plain": [
       "               year      avg_temp\n",
       "count  71311.000000  68764.000000\n",
       "mean    1905.799007     16.183876\n",
       "std       67.102099      7.592960\n",
       "min     1743.000000    -14.350000\n",
       "25%     1858.000000      9.750000\n",
       "50%     1910.000000     16.140000\n",
       "75%     1962.000000     23.762500\n",
       "max     2013.000000     30.730000"
      ]
     },
     "execution_count": 56,
     "metadata": {},
     "output_type": "execute_result"
    }
   ],
   "source": [
    "df.describe()"
   ]
  },
  {
   "cell_type": "code",
   "execution_count": 57,
   "metadata": {},
   "outputs": [
    {
     "data": {
      "text/html": [
       "<div>\n",
       "<style scoped>\n",
       "    .dataframe tbody tr th:only-of-type {\n",
       "        vertical-align: middle;\n",
       "    }\n",
       "\n",
       "    .dataframe tbody tr th {\n",
       "        vertical-align: top;\n",
       "    }\n",
       "\n",
       "    .dataframe thead th {\n",
       "        text-align: right;\n",
       "    }\n",
       "</style>\n",
       "<table border=\"1\" class=\"dataframe\">\n",
       "  <thead>\n",
       "    <tr style=\"text-align: right;\">\n",
       "      <th></th>\n",
       "      <th>year</th>\n",
       "      <th>country</th>\n",
       "      <th>avg_temp</th>\n",
       "    </tr>\n",
       "  </thead>\n",
       "  <tbody>\n",
       "    <tr>\n",
       "      <th>0</th>\n",
       "      <td>1849</td>\n",
       "      <td>Côte D'Ivoire</td>\n",
       "      <td>25.58</td>\n",
       "    </tr>\n",
       "    <tr>\n",
       "      <th>1</th>\n",
       "      <td>1850</td>\n",
       "      <td>Côte D'Ivoire</td>\n",
       "      <td>25.52</td>\n",
       "    </tr>\n",
       "    <tr>\n",
       "      <th>2</th>\n",
       "      <td>1851</td>\n",
       "      <td>Côte D'Ivoire</td>\n",
       "      <td>25.67</td>\n",
       "    </tr>\n",
       "    <tr>\n",
       "      <th>7</th>\n",
       "      <td>1856</td>\n",
       "      <td>Côte D'Ivoire</td>\n",
       "      <td>26.28</td>\n",
       "    </tr>\n",
       "    <tr>\n",
       "      <th>8</th>\n",
       "      <td>1857</td>\n",
       "      <td>Côte D'Ivoire</td>\n",
       "      <td>25.17</td>\n",
       "    </tr>\n",
       "  </tbody>\n",
       "</table>\n",
       "</div>"
      ],
      "text/plain": [
       "   year        country  avg_temp\n",
       "0  1849  Côte D'Ivoire     25.58\n",
       "1  1850  Côte D'Ivoire     25.52\n",
       "2  1851  Côte D'Ivoire     25.67\n",
       "7  1856  Côte D'Ivoire     26.28\n",
       "8  1857  Côte D'Ivoire     25.17"
      ]
     },
     "execution_count": 57,
     "metadata": {},
     "output_type": "execute_result"
    }
   ],
   "source": [
    "df2 = df.dropna()\n",
    "df2.head()"
   ]
  },
  {
   "cell_type": "code",
   "execution_count": 58,
   "metadata": {},
   "outputs": [
    {
     "data": {
      "text/plain": [
       "count    71311.000000\n",
       "mean      1905.799007\n",
       "std         67.102099\n",
       "min       1743.000000\n",
       "25%       1858.000000\n",
       "50%       1910.000000\n",
       "75%       1962.000000\n",
       "max       2013.000000\n",
       "Name: year, dtype: float64"
      ]
     },
     "execution_count": 58,
     "metadata": {},
     "output_type": "execute_result"
    }
   ],
   "source": [
    "df['year'].describe()    "
   ]
  },
  {
   "cell_type": "code",
   "execution_count": 59,
   "metadata": {},
   "outputs": [
    {
     "data": {
      "text/plain": [
       "count             71311\n",
       "unique              137\n",
       "top       United States\n",
       "freq              11973\n",
       "Name: country, dtype: object"
      ]
     },
     "execution_count": 59,
     "metadata": {},
     "output_type": "execute_result"
    }
   ],
   "source": [
    "df['country'].describe()    "
   ]
  },
  {
   "cell_type": "code",
   "execution_count": 60,
   "metadata": {},
   "outputs": [
    {
     "data": {
      "text/plain": [
       "count    68764.000000\n",
       "mean        16.183876\n",
       "std          7.592960\n",
       "min        -14.350000\n",
       "25%          9.750000\n",
       "50%         16.140000\n",
       "75%         23.762500\n",
       "max         30.730000\n",
       "Name: avg_temp, dtype: float64"
      ]
     },
     "execution_count": 60,
     "metadata": {},
     "output_type": "execute_result"
    }
   ],
   "source": [
    "df['avg_temp'].describe()    "
   ]
  },
  {
   "cell_type": "code",
   "execution_count": 61,
   "metadata": {},
   "outputs": [
    {
     "data": {
      "text/html": [
       "<div>\n",
       "<style scoped>\n",
       "    .dataframe tbody tr th:only-of-type {\n",
       "        vertical-align: middle;\n",
       "    }\n",
       "\n",
       "    .dataframe tbody tr th {\n",
       "        vertical-align: top;\n",
       "    }\n",
       "\n",
       "    .dataframe thead th {\n",
       "        text-align: right;\n",
       "    }\n",
       "</style>\n",
       "<table border=\"1\" class=\"dataframe\">\n",
       "  <thead>\n",
       "    <tr style=\"text-align: right;\">\n",
       "      <th></th>\n",
       "      <th>year</th>\n",
       "      <th>country</th>\n",
       "      <th>avg_temp</th>\n",
       "    </tr>\n",
       "  </thead>\n",
       "  <tbody>\n",
       "    <tr>\n",
       "      <th>0</th>\n",
       "      <td>1849</td>\n",
       "      <td>Côte D'Ivoire</td>\n",
       "      <td>25.58</td>\n",
       "    </tr>\n",
       "    <tr>\n",
       "      <th>1</th>\n",
       "      <td>1850</td>\n",
       "      <td>Côte D'Ivoire</td>\n",
       "      <td>25.52</td>\n",
       "    </tr>\n",
       "    <tr>\n",
       "      <th>2</th>\n",
       "      <td>1851</td>\n",
       "      <td>Côte D'Ivoire</td>\n",
       "      <td>25.67</td>\n",
       "    </tr>\n",
       "    <tr>\n",
       "      <th>7</th>\n",
       "      <td>1856</td>\n",
       "      <td>Côte D'Ivoire</td>\n",
       "      <td>26.28</td>\n",
       "    </tr>\n",
       "    <tr>\n",
       "      <th>8</th>\n",
       "      <td>1857</td>\n",
       "      <td>Côte D'Ivoire</td>\n",
       "      <td>25.17</td>\n",
       "    </tr>\n",
       "  </tbody>\n",
       "</table>\n",
       "</div>"
      ],
      "text/plain": [
       "   year        country  avg_temp\n",
       "0  1849  Côte D'Ivoire     25.58\n",
       "1  1850  Côte D'Ivoire     25.52\n",
       "2  1851  Côte D'Ivoire     25.67\n",
       "7  1856  Côte D'Ivoire     26.28\n",
       "8  1857  Côte D'Ivoire     25.17"
      ]
     },
     "execution_count": 61,
     "metadata": {},
     "output_type": "execute_result"
    }
   ],
   "source": [
    "df2.head()"
   ]
  },
  {
   "cell_type": "code",
   "execution_count": 62,
   "metadata": {},
   "outputs": [
    {
     "data": {
      "text/html": [
       "<div>\n",
       "<style scoped>\n",
       "    .dataframe tbody tr th:only-of-type {\n",
       "        vertical-align: middle;\n",
       "    }\n",
       "\n",
       "    .dataframe tbody tr th {\n",
       "        vertical-align: top;\n",
       "    }\n",
       "\n",
       "    .dataframe thead th {\n",
       "        text-align: right;\n",
       "    }\n",
       "</style>\n",
       "<table border=\"1\" class=\"dataframe\">\n",
       "  <thead>\n",
       "    <tr style=\"text-align: right;\">\n",
       "      <th></th>\n",
       "      <th>year</th>\n",
       "      <th>country</th>\n",
       "      <th>avg_temp</th>\n",
       "    </tr>\n",
       "  </thead>\n",
       "  <tbody>\n",
       "    <tr>\n",
       "      <th>62247</th>\n",
       "      <td>1919</td>\n",
       "      <td>Taiwan</td>\n",
       "      <td>20.89</td>\n",
       "    </tr>\n",
       "    <tr>\n",
       "      <th>58889</th>\n",
       "      <td>1920</td>\n",
       "      <td>United States</td>\n",
       "      <td>7.19</td>\n",
       "    </tr>\n",
       "    <tr>\n",
       "      <th>24991</th>\n",
       "      <td>1859</td>\n",
       "      <td>China</td>\n",
       "      <td>3.21</td>\n",
       "    </tr>\n",
       "    <tr>\n",
       "      <th>62418</th>\n",
       "      <td>1917</td>\n",
       "      <td>Taiwan</td>\n",
       "      <td>21.19</td>\n",
       "    </tr>\n",
       "    <tr>\n",
       "      <th>56552</th>\n",
       "      <td>1936</td>\n",
       "      <td>Russia</td>\n",
       "      <td>4.39</td>\n",
       "    </tr>\n",
       "    <tr>\n",
       "      <th>20696</th>\n",
       "      <td>1931</td>\n",
       "      <td>United Kingdom</td>\n",
       "      <td>7.33</td>\n",
       "    </tr>\n",
       "    <tr>\n",
       "      <th>1406</th>\n",
       "      <td>1929</td>\n",
       "      <td>India</td>\n",
       "      <td>26.76</td>\n",
       "    </tr>\n",
       "    <tr>\n",
       "      <th>4165</th>\n",
       "      <td>1916</td>\n",
       "      <td>United States</td>\n",
       "      <td>14.92</td>\n",
       "    </tr>\n",
       "    <tr>\n",
       "      <th>6463</th>\n",
       "      <td>1892</td>\n",
       "      <td>India</td>\n",
       "      <td>24.59</td>\n",
       "    </tr>\n",
       "    <tr>\n",
       "      <th>41831</th>\n",
       "      <td>1833</td>\n",
       "      <td>United States</td>\n",
       "      <td>10.70</td>\n",
       "    </tr>\n",
       "    <tr>\n",
       "      <th>48889</th>\n",
       "      <td>2002</td>\n",
       "      <td>Indonesia</td>\n",
       "      <td>27.49</td>\n",
       "    </tr>\n",
       "    <tr>\n",
       "      <th>47739</th>\n",
       "      <td>1950</td>\n",
       "      <td>United States</td>\n",
       "      <td>9.14</td>\n",
       "    </tr>\n",
       "    <tr>\n",
       "      <th>22186</th>\n",
       "      <td>1994</td>\n",
       "      <td>China</td>\n",
       "      <td>19.51</td>\n",
       "    </tr>\n",
       "    <tr>\n",
       "      <th>54146</th>\n",
       "      <td>1800</td>\n",
       "      <td>United States</td>\n",
       "      <td>14.38</td>\n",
       "    </tr>\n",
       "    <tr>\n",
       "      <th>29694</th>\n",
       "      <td>2004</td>\n",
       "      <td>Afghanistan</td>\n",
       "      <td>16.13</td>\n",
       "    </tr>\n",
       "    <tr>\n",
       "      <th>39045</th>\n",
       "      <td>1848</td>\n",
       "      <td>Brazil</td>\n",
       "      <td>25.95</td>\n",
       "    </tr>\n",
       "    <tr>\n",
       "      <th>5621</th>\n",
       "      <td>1893</td>\n",
       "      <td>Azerbaijan</td>\n",
       "      <td>10.74</td>\n",
       "    </tr>\n",
       "    <tr>\n",
       "      <th>31781</th>\n",
       "      <td>1933</td>\n",
       "      <td>Sudan</td>\n",
       "      <td>29.54</td>\n",
       "    </tr>\n",
       "    <tr>\n",
       "      <th>63274</th>\n",
       "      <td>1932</td>\n",
       "      <td>Uzbekistan</td>\n",
       "      <td>9.72</td>\n",
       "    </tr>\n",
       "    <tr>\n",
       "      <th>23500</th>\n",
       "      <td>1934</td>\n",
       "      <td>China</td>\n",
       "      <td>15.09</td>\n",
       "    </tr>\n",
       "  </tbody>\n",
       "</table>\n",
       "</div>"
      ],
      "text/plain": [
       "       year         country  avg_temp\n",
       "62247  1919          Taiwan     20.89\n",
       "58889  1920   United States      7.19\n",
       "24991  1859           China      3.21\n",
       "62418  1917          Taiwan     21.19\n",
       "56552  1936          Russia      4.39\n",
       "20696  1931  United Kingdom      7.33\n",
       "1406   1929           India     26.76\n",
       "4165   1916   United States     14.92\n",
       "6463   1892           India     24.59\n",
       "41831  1833   United States     10.70\n",
       "48889  2002       Indonesia     27.49\n",
       "47739  1950   United States      9.14\n",
       "22186  1994           China     19.51\n",
       "54146  1800   United States     14.38\n",
       "29694  2004     Afghanistan     16.13\n",
       "39045  1848          Brazil     25.95\n",
       "5621   1893      Azerbaijan     10.74\n",
       "31781  1933           Sudan     29.54\n",
       "63274  1932      Uzbekistan      9.72\n",
       "23500  1934           China     15.09"
      ]
     },
     "execution_count": 62,
     "metadata": {},
     "output_type": "execute_result"
    }
   ],
   "source": [
    "df2.sample(20)"
   ]
  },
  {
   "cell_type": "code",
   "execution_count": 63,
   "metadata": {},
   "outputs": [
    {
     "name": "stdout",
     "output_type": "stream",
     "text": [
      "148\n"
     ]
    }
   ],
   "source": [
    "list =[]\n",
    "for a in df2['country']:\n",
    "\n",
    "    if a == 'Cameroon':\n",
    "        list.append(a)\n",
    "print(len(list))"
   ]
  },
  {
   "cell_type": "code",
   "execution_count": 64,
   "metadata": {},
   "outputs": [
    {
     "data": {
      "text/plain": [
       "['Cameroon',\n",
       " 'Cameroon',\n",
       " 'Cameroon',\n",
       " 'Cameroon',\n",
       " 'Cameroon',\n",
       " 'Cameroon',\n",
       " 'Cameroon',\n",
       " 'Cameroon',\n",
       " 'Cameroon',\n",
       " 'Cameroon',\n",
       " 'Cameroon',\n",
       " 'Cameroon',\n",
       " 'Cameroon',\n",
       " 'Cameroon',\n",
       " 'Cameroon',\n",
       " 'Cameroon',\n",
       " 'Cameroon',\n",
       " 'Cameroon',\n",
       " 'Cameroon',\n",
       " 'Cameroon',\n",
       " 'Cameroon',\n",
       " 'Cameroon',\n",
       " 'Cameroon',\n",
       " 'Cameroon',\n",
       " 'Cameroon',\n",
       " 'Cameroon',\n",
       " 'Cameroon',\n",
       " 'Cameroon',\n",
       " 'Cameroon',\n",
       " 'Cameroon',\n",
       " 'Cameroon',\n",
       " 'Cameroon',\n",
       " 'Cameroon',\n",
       " 'Cameroon',\n",
       " 'Cameroon',\n",
       " 'Cameroon',\n",
       " 'Cameroon',\n",
       " 'Cameroon',\n",
       " 'Cameroon',\n",
       " 'Cameroon',\n",
       " 'Cameroon',\n",
       " 'Cameroon',\n",
       " 'Cameroon',\n",
       " 'Cameroon',\n",
       " 'Cameroon',\n",
       " 'Cameroon',\n",
       " 'Cameroon',\n",
       " 'Cameroon',\n",
       " 'Cameroon',\n",
       " 'Cameroon',\n",
       " 'Cameroon',\n",
       " 'Cameroon',\n",
       " 'Cameroon',\n",
       " 'Cameroon',\n",
       " 'Cameroon',\n",
       " 'Cameroon',\n",
       " 'Cameroon',\n",
       " 'Cameroon',\n",
       " 'Cameroon',\n",
       " 'Cameroon',\n",
       " 'Cameroon',\n",
       " 'Cameroon',\n",
       " 'Cameroon',\n",
       " 'Cameroon',\n",
       " 'Cameroon',\n",
       " 'Cameroon',\n",
       " 'Cameroon',\n",
       " 'Cameroon',\n",
       " 'Cameroon',\n",
       " 'Cameroon',\n",
       " 'Cameroon',\n",
       " 'Cameroon',\n",
       " 'Cameroon',\n",
       " 'Cameroon',\n",
       " 'Cameroon',\n",
       " 'Cameroon',\n",
       " 'Cameroon',\n",
       " 'Cameroon',\n",
       " 'Cameroon',\n",
       " 'Cameroon',\n",
       " 'Cameroon',\n",
       " 'Cameroon',\n",
       " 'Cameroon',\n",
       " 'Cameroon',\n",
       " 'Cameroon',\n",
       " 'Cameroon',\n",
       " 'Cameroon',\n",
       " 'Cameroon',\n",
       " 'Cameroon',\n",
       " 'Cameroon',\n",
       " 'Cameroon',\n",
       " 'Cameroon',\n",
       " 'Cameroon',\n",
       " 'Cameroon',\n",
       " 'Cameroon',\n",
       " 'Cameroon',\n",
       " 'Cameroon',\n",
       " 'Cameroon',\n",
       " 'Cameroon',\n",
       " 'Cameroon',\n",
       " 'Cameroon',\n",
       " 'Cameroon',\n",
       " 'Cameroon',\n",
       " 'Cameroon',\n",
       " 'Cameroon',\n",
       " 'Cameroon',\n",
       " 'Cameroon',\n",
       " 'Cameroon',\n",
       " 'Cameroon',\n",
       " 'Cameroon',\n",
       " 'Cameroon',\n",
       " 'Cameroon',\n",
       " 'Cameroon',\n",
       " 'Cameroon',\n",
       " 'Cameroon',\n",
       " 'Cameroon',\n",
       " 'Cameroon',\n",
       " 'Cameroon',\n",
       " 'Cameroon',\n",
       " 'Cameroon',\n",
       " 'Cameroon',\n",
       " 'Cameroon',\n",
       " 'Cameroon',\n",
       " 'Cameroon',\n",
       " 'Cameroon',\n",
       " 'Cameroon',\n",
       " 'Cameroon',\n",
       " 'Cameroon',\n",
       " 'Cameroon',\n",
       " 'Cameroon',\n",
       " 'Cameroon',\n",
       " 'Cameroon',\n",
       " 'Cameroon',\n",
       " 'Cameroon',\n",
       " 'Cameroon',\n",
       " 'Cameroon',\n",
       " 'Cameroon',\n",
       " 'Cameroon',\n",
       " 'Cameroon',\n",
       " 'Cameroon',\n",
       " 'Cameroon',\n",
       " 'Cameroon',\n",
       " 'Cameroon',\n",
       " 'Cameroon',\n",
       " 'Cameroon',\n",
       " 'Cameroon',\n",
       " 'Cameroon',\n",
       " 'Cameroon']"
      ]
     },
     "execution_count": 64,
     "metadata": {},
     "output_type": "execute_result"
    }
   ],
   "source": [
    "list"
   ]
  },
  {
   "cell_type": "code",
   "execution_count": 65,
   "metadata": {},
   "outputs": [
    {
     "data": {
      "text/html": [
       "<div>\n",
       "<style scoped>\n",
       "    .dataframe tbody tr th:only-of-type {\n",
       "        vertical-align: middle;\n",
       "    }\n",
       "\n",
       "    .dataframe tbody tr th {\n",
       "        vertical-align: top;\n",
       "    }\n",
       "\n",
       "    .dataframe thead th {\n",
       "        text-align: right;\n",
       "    }\n",
       "</style>\n",
       "<table border=\"1\" class=\"dataframe\">\n",
       "  <thead>\n",
       "    <tr style=\"text-align: right;\">\n",
       "      <th></th>\n",
       "      <th>year</th>\n",
       "      <th>country</th>\n",
       "      <th>avg_temp</th>\n",
       "    </tr>\n",
       "  </thead>\n",
       "  <tbody>\n",
       "    <tr>\n",
       "      <th>19604</th>\n",
       "      <td>1899</td>\n",
       "      <td>Cameroon</td>\n",
       "      <td>24.45</td>\n",
       "    </tr>\n",
       "    <tr>\n",
       "      <th>19705</th>\n",
       "      <td>2000</td>\n",
       "      <td>Cameroon</td>\n",
       "      <td>24.88</td>\n",
       "    </tr>\n",
       "    <tr>\n",
       "      <th>19694</th>\n",
       "      <td>1989</td>\n",
       "      <td>Cameroon</td>\n",
       "      <td>24.65</td>\n",
       "    </tr>\n",
       "    <tr>\n",
       "      <th>19603</th>\n",
       "      <td>1898</td>\n",
       "      <td>Cameroon</td>\n",
       "      <td>23.86</td>\n",
       "    </tr>\n",
       "    <tr>\n",
       "      <th>19623</th>\n",
       "      <td>1918</td>\n",
       "      <td>Cameroon</td>\n",
       "      <td>24.28</td>\n",
       "    </tr>\n",
       "  </tbody>\n",
       "</table>\n",
       "</div>"
      ],
      "text/plain": [
       "       year   country  avg_temp\n",
       "19604  1899  Cameroon     24.45\n",
       "19705  2000  Cameroon     24.88\n",
       "19694  1989  Cameroon     24.65\n",
       "19603  1898  Cameroon     23.86\n",
       "19623  1918  Cameroon     24.28"
      ]
     },
     "execution_count": 65,
     "metadata": {},
     "output_type": "execute_result"
    }
   ],
   "source": [
    "temp_cameroun = df2[df2['country']=='Cameroon']\n",
    "temp_cameroun.sample(5)"
   ]
  },
  {
   "cell_type": "code",
   "execution_count": 69,
   "metadata": {},
   "outputs": [
    {
     "data": {
      "text/html": [
       "<div>\n",
       "<style scoped>\n",
       "    .dataframe tbody tr th:only-of-type {\n",
       "        vertical-align: middle;\n",
       "    }\n",
       "\n",
       "    .dataframe tbody tr th {\n",
       "        vertical-align: top;\n",
       "    }\n",
       "\n",
       "    .dataframe thead th {\n",
       "        text-align: right;\n",
       "    }\n",
       "</style>\n",
       "<table border=\"1\" class=\"dataframe\">\n",
       "  <thead>\n",
       "    <tr style=\"text-align: right;\">\n",
       "      <th></th>\n",
       "      <th>year</th>\n",
       "      <th>country</th>\n",
       "      <th>avg_temp</th>\n",
       "    </tr>\n",
       "  </thead>\n",
       "  <tbody>\n",
       "    <tr>\n",
       "      <th>34986</th>\n",
       "      <td>1915</td>\n",
       "      <td>Gabon</td>\n",
       "      <td>26.04</td>\n",
       "    </tr>\n",
       "    <tr>\n",
       "      <th>35053</th>\n",
       "      <td>1982</td>\n",
       "      <td>Gabon</td>\n",
       "      <td>25.94</td>\n",
       "    </tr>\n",
       "    <tr>\n",
       "      <th>35026</th>\n",
       "      <td>1955</td>\n",
       "      <td>Gabon</td>\n",
       "      <td>25.98</td>\n",
       "    </tr>\n",
       "    <tr>\n",
       "      <th>34947</th>\n",
       "      <td>1876</td>\n",
       "      <td>Gabon</td>\n",
       "      <td>25.39</td>\n",
       "    </tr>\n",
       "    <tr>\n",
       "      <th>34974</th>\n",
       "      <td>1903</td>\n",
       "      <td>Gabon</td>\n",
       "      <td>25.36</td>\n",
       "    </tr>\n",
       "  </tbody>\n",
       "</table>\n",
       "</div>"
      ],
      "text/plain": [
       "       year country  avg_temp\n",
       "34986  1915   Gabon     26.04\n",
       "35053  1982   Gabon     25.94\n",
       "35026  1955   Gabon     25.98\n",
       "34947  1876   Gabon     25.39\n",
       "34974  1903   Gabon     25.36"
      ]
     },
     "execution_count": 69,
     "metadata": {},
     "output_type": "execute_result"
    }
   ],
   "source": [
    "temp_gabon = df2[df2['country']=='Gabon']\n",
    "temp_gabon.sample(5)"
   ]
  },
  {
   "cell_type": "code",
   "execution_count": 66,
   "metadata": {},
   "outputs": [
    {
     "name": "stdout",
     "output_type": "stream",
     "text": [
      "mean = 24.613783783783784\n",
      "min = 23.0\n",
      "max = 25.7\n"
     ]
    }
   ],
   "source": [
    "print('mean =', temp_cameroun['avg_temp'].mean())\n",
    "print('min =', temp_cameroun['avg_temp'].min())\n",
    "print('max =', temp_cameroun['avg_temp'].max())\n",
    "\n"
   ]
  },
  {
   "cell_type": "code",
   "execution_count": 70,
   "metadata": {},
   "outputs": [
    {
     "name": "stdout",
     "output_type": "stream",
     "text": [
      "mean = 25.975202702702706\n",
      "min = 24.45\n",
      "max = 27.06\n"
     ]
    }
   ],
   "source": [
    "print('mean =', temp_gabon['avg_temp'].mean())\n",
    "print('min =', temp_gabon['avg_temp'].min())\n",
    "print('max =', temp_gabon['avg_temp'].max())\n",
    "\n"
   ]
  },
  {
   "cell_type": "code",
   "execution_count": 67,
   "metadata": {},
   "outputs": [
    {
     "data": {
      "image/png": "[encoded data removed]",
      "text/plain": [
       "<Figure size 640x480 with 1 Axes>"
      ]
     },
     "metadata": {},
     "output_type": "display_data"
    }
   ],
   "source": [
    "plt.plot(temp_cameroun['year'],\n",
    "         temp_cameroun['avg_temp'])\n",
    "\n",
    "plt.title('Analyse des températures au Cameroun')\n",
    "plt.xlabel('Année')\n",
    "plt.ylabel('Température')\n",
    "\n",
    "plt.show()"
   ]
  },
  {
   "cell_type": "code",
   "execution_count": 71,
   "metadata": {},
   "outputs": [
    {
     "data": {
      "image/png": "[encoded data removed]",
      "text/plain": [
       "<Figure size 640x480 with 1 Axes>"
      ]
     },
     "metadata": {},
     "output_type": "display_data"
    }
   ],
   "source": [
    "plt.plot(temp_gabon['year'],\n",
    "         temp_gabon['avg_temp'])\n",
    "\n",
    "plt.title('Analyse des températures au Gabon')\n",
    "plt.xlabel('Année')\n",
    "plt.ylabel('Température')\n",
    "\n",
    "plt.show()"
   ]
  }
 ],
 "metadata": {
  "kernelspec": {
   "display_name": "data",
   "language": "python",
   "name": "python3"
  },
  "language_info": {
   "codemirror_mode": {
    "name": "ipython",
    "version": 3
   },
   "file_extension": ".py",
   "mimetype": "text/x-python",
   "name": "python",
   "nbconvert_exporter": "python",
   "pygments_lexer": "ipython3",
   "version": "3.12.0"
  }
 },
 "nbformat": 4,
 "nbformat_minor": 2
}
